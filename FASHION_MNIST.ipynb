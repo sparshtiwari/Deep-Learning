{
  "nbformat": 4,
  "nbformat_minor": 0,
  "metadata": {
    "colab": {
      "name": "FASHION_MNIST.ipynb",
      "provenance": [],
      "collapsed_sections": [],
      "authorship_tag": "ABX9TyMWQ+MpAJ8o7zwX0msMsHfk"
    },
    "kernelspec": {
      "name": "python3",
      "display_name": "Python 3"
    },
    "accelerator": "GPU"
  },
  "cells": [
    {
      "cell_type": "code",
      "metadata": {
        "id": "n6eQENFzL7P4",
        "colab_type": "code",
        "colab": {}
      },
      "source": [
        "from tensorflow import keras\n",
        "from tensorflow.keras.models import Sequential\n",
        "from tensorflow.keras.layers import Dense, Flatten, Conv2D, MaxPooling2D, BatchNormalization, Dropout\n",
        "from tensorflow.keras.datasets import fashion_mnist\n",
        "from keras.utils import to_categorical"
      ],
      "execution_count": 9,
      "outputs": []
    },
    {
      "cell_type": "code",
      "metadata": {
        "id": "TQjc3ei4L_tR",
        "colab_type": "code",
        "colab": {}
      },
      "source": [
        "(x_train,y_train),(x_test,y_test)=fashion_mnist.load_data() #Loading MNIST Data From keras datasets.\n",
        "\n",
        "x_train=x_train.reshape(x_train.shape[0],28,28,1) #Reshaping the original data \n",
        "#since it is in greyscale and we are using Conv2D so adding a single channel \n",
        "#to make it compatible for Conv2D.\n",
        "x_test=x_test.reshape(x_test.shape[0],28,28,1)"
      ],
      "execution_count": 10,
      "outputs": []
    },
    {
      "cell_type": "code",
      "metadata": {
        "id": "ShDunyfcMDFQ",
        "colab_type": "code",
        "colab": {}
      },
      "source": [
        "x_train=x_train.astype('float32') #converting to float before normalization so that there is no loss of data during normalization.\n",
        "x_test=x_test.astype('float32')\n",
        "x_train=x_train/255 # normalizing the data; used 255 since pixel values are stored in the range od 0-255.\n",
        "x_test=x_test/255"
      ],
      "execution_count": 11,
      "outputs": []
    },
    {
      "cell_type": "code",
      "metadata": {
        "id": "eVmHP-D7ML7L",
        "colab_type": "code",
        "colab": {}
      },
      "source": [
        "y_train=to_categorical(y_train)\n",
        "y_test=to_categorical(y_test)"
      ],
      "execution_count": 12,
      "outputs": []
    },
    {
      "cell_type": "code",
      "metadata": {
        "id": "Y7KQEd98MO_n",
        "colab_type": "code",
        "colab": {}
      },
      "source": [
        "#Building our own CNN model using Sequential Conv2D layers .\n",
        "model = Sequential()\n",
        "model.add(Conv2D(filters=32, kernel_size=(3, 3), activation='relu', strides=1, \n",
        "                  input_shape=(28,28,1)))\n",
        "model.add(BatchNormalization())\n",
        "\n",
        "model.add(Conv2D(filters=32, kernel_size=(3, 3), activation='relu', strides=1))\n",
        "model.add(BatchNormalization())\n",
        "model.add(Dropout(0.25))\n",
        "\n",
        "model.add(Conv2D(filters=64, kernel_size=(3, 3), activation='relu', strides=1))\n",
        "model.add(MaxPooling2D(pool_size=(2, 2)))\n",
        "model.add(Dropout(0.25))\n",
        "    \n",
        "    \n",
        "model.add(Conv2D(filters=128, kernel_size=(3, 3), activation='relu', strides=1))\n",
        "model.add(BatchNormalization())\n",
        "model.add(Dropout(0.25))\n",
        "\n",
        "model.add(Flatten())\n",
        "model.add(Dense(512, activation='relu'))\n",
        "model.add(BatchNormalization())\n",
        "model.add(Dropout(0.5))\n",
        "model.add(Dense(128, activation='relu'))\n",
        "model.add(BatchNormalization())\n",
        "model.add(Dropout(0.5))\n",
        "model.add(Dense(10, activation='softmax'))"
      ],
      "execution_count": 13,
      "outputs": []
    },
    {
      "cell_type": "code",
      "metadata": {
        "id": "Cou4GoYhMVNB",
        "colab_type": "code",
        "colab": {}
      },
      "source": [
        "model.compile(optimizer='adam',loss='categorical_crossentropy',metrics=['accuracy'])"
      ],
      "execution_count": 16,
      "outputs": []
    },
    {
      "cell_type": "code",
      "metadata": {
        "id": "CarG1gK8MZr1",
        "colab_type": "code",
        "colab": {
          "base_uri": "https://localhost:8080/",
          "height": 374
        },
        "outputId": "f6483e6c-a217-4e78-fb68-1f94953fabea"
      },
      "source": [
        "model.fit(x_train,y_train,batch_size=200,epochs=10,validation_data=(x_test,y_test)) #achieves 93% accuracy easily."
      ],
      "execution_count": 19,
      "outputs": [
        {
          "output_type": "stream",
          "text": [
            "Epoch 1/10\n",
            "300/300 [==============================] - 6s 21ms/step - loss: 0.0650 - accuracy: 0.9766 - val_loss: 0.2470 - val_accuracy: 0.9344\n",
            "Epoch 2/10\n",
            "300/300 [==============================] - 6s 21ms/step - loss: 0.0594 - accuracy: 0.9793 - val_loss: 0.2463 - val_accuracy: 0.9352\n",
            "Epoch 3/10\n",
            "300/300 [==============================] - 6s 21ms/step - loss: 0.0567 - accuracy: 0.9799 - val_loss: 0.2385 - val_accuracy: 0.9372\n",
            "Epoch 4/10\n",
            "300/300 [==============================] - 6s 21ms/step - loss: 0.0552 - accuracy: 0.9801 - val_loss: 0.2568 - val_accuracy: 0.9368\n",
            "Epoch 5/10\n",
            "300/300 [==============================] - 6s 21ms/step - loss: 0.0537 - accuracy: 0.9815 - val_loss: 0.2609 - val_accuracy: 0.9337\n",
            "Epoch 6/10\n",
            "300/300 [==============================] - 6s 21ms/step - loss: 0.0513 - accuracy: 0.9822 - val_loss: 0.2480 - val_accuracy: 0.9369\n",
            "Epoch 7/10\n",
            "300/300 [==============================] - 6s 21ms/step - loss: 0.0507 - accuracy: 0.9819 - val_loss: 0.2405 - val_accuracy: 0.9386\n",
            "Epoch 8/10\n",
            "300/300 [==============================] - 6s 21ms/step - loss: 0.0500 - accuracy: 0.9823 - val_loss: 0.2693 - val_accuracy: 0.9352\n",
            "Epoch 9/10\n",
            "300/300 [==============================] - 6s 21ms/step - loss: 0.0473 - accuracy: 0.9836 - val_loss: 0.2553 - val_accuracy: 0.9378\n",
            "Epoch 10/10\n",
            "300/300 [==============================] - 6s 21ms/step - loss: 0.0459 - accuracy: 0.9833 - val_loss: 0.2553 - val_accuracy: 0.9377\n"
          ],
          "name": "stdout"
        },
        {
          "output_type": "execute_result",
          "data": {
            "text/plain": [
              "<tensorflow.python.keras.callbacks.History at 0x7f35c65c12e8>"
            ]
          },
          "metadata": {
            "tags": []
          },
          "execution_count": 19
        }
      ]
    },
    {
      "cell_type": "code",
      "metadata": {
        "id": "0cMx1tMAMb2_",
        "colab_type": "code",
        "colab": {}
      },
      "source": [
        ""
      ],
      "execution_count": 15,
      "outputs": []
    }
  ]
}