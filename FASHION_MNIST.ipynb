{
  "nbformat": 4,
  "nbformat_minor": 0,
  "metadata": {
    "colab": {
      "name": "FASHION_MNIST.ipynb",
      "provenance": [],
      "collapsed_sections": [],
      "authorship_tag": "ABX9TyM/rrRq502KlcZztvdDipmB"
    },
    "kernelspec": {
      "name": "python3",
      "display_name": "Python 3"
    },
    "accelerator": "GPU"
  },
  "cells": [
    {
      "cell_type": "code",
      "metadata": {
        "id": "n6eQENFzL7P4",
        "colab_type": "code",
        "colab": {
          "base_uri": "https://localhost:8080/",
          "height": 34
        },
        "outputId": "e57f94ea-8b18-45d1-9936-d875dc52a97b"
      },
      "source": [
        "from tensorflow import keras\n",
        "from tensorflow.keras.models import Sequential\n",
        "from tensorflow.keras.layers import Dense, Flatten, Conv2D, MaxPooling2D, BatchNormalization, Dropout\n",
        "from tensorflow.keras.datasets import fashion_mnist\n",
        "from keras.utils import to_categorical"
      ],
      "execution_count": null,
      "outputs": [
        {
          "output_type": "stream",
          "text": [
            "Using TensorFlow backend.\n"
          ],
          "name": "stderr"
        }
      ]
    },
    {
      "cell_type": "code",
      "metadata": {
        "id": "TQjc3ei4L_tR",
        "colab_type": "code",
        "colab": {}
      },
      "source": [
        "(x_train,y_train),(x_test,y_test)=fashion_mnist.load_data() #Loading MNIST Data From keras datasets.\n",
        "\n",
        "x_train=x_train.reshape(x_train.shape[0],28,28,1) #Reshaping the original data \n",
        "#since it is in greyscale and we are using Conv2D so adding a single channel \n",
        "#to make it compatible for Conv2D.\n",
        "x_test=x_test.reshape(x_test.shape[0],28,28,1)"
      ],
      "execution_count": null,
      "outputs": []
    },
    {
      "cell_type": "code",
      "metadata": {
        "id": "ShDunyfcMDFQ",
        "colab_type": "code",
        "colab": {}
      },
      "source": [
        "x_train=x_train.astype('float32') #converting to float before normalization so that there is no loss of data during normalization.\n",
        "x_test=x_test.astype('float32')\n",
        "x_train=x_train/255 # normalizing the data; used 255 since pixel values are stored in the range od 0-255.\n",
        "x_test=x_test/255"
      ],
      "execution_count": null,
      "outputs": []
    },
    {
      "cell_type": "code",
      "metadata": {
        "id": "eVmHP-D7ML7L",
        "colab_type": "code",
        "colab": {}
      },
      "source": [
        "y_train=to_categorical(y_train)\n",
        "y_test=to_categorical(y_test)"
      ],
      "execution_count": null,
      "outputs": []
    },
    {
      "cell_type": "code",
      "metadata": {
        "id": "Y7KQEd98MO_n",
        "colab_type": "code",
        "colab": {}
      },
      "source": [
        "#Building our own CNN model using Sequential Conv2D layers .\n",
        "model = Sequential()\n",
        "model.add(Conv2D(filters=32, kernel_size=(3, 3), activation='relu', strides=1, \n",
        "                  input_shape=(28,28,1)))\n",
        "model.add(BatchNormalization())\n",
        "\n",
        "model.add(Conv2D(filters=32, kernel_size=(3, 3), activation='relu', strides=1))\n",
        "model.add(BatchNormalization())\n",
        "model.add(Dropout(0.25))\n",
        "\n",
        "model.add(Conv2D(filters=64, kernel_size=(3, 3), activation='relu', strides=1))\n",
        "model.add(MaxPooling2D(pool_size=(2, 2)))\n",
        "model.add(Dropout(0.25))\n",
        "    \n",
        "    \n",
        "model.add(Conv2D(filters=128, kernel_size=(3, 3), activation='relu', strides=1))\n",
        "model.add(BatchNormalization())\n",
        "model.add(Dropout(0.25))\n",
        "\n",
        "model.add(Flatten())\n",
        "model.add(Dense(512, activation='relu'))\n",
        "model.add(BatchNormalization())\n",
        "model.add(Dropout(0.5))\n",
        "model.add(Dense(128, activation='relu'))\n",
        "model.add(BatchNormalization())\n",
        "model.add(Dropout(0.5))\n",
        "model.add(Dense(10, activation='softmax'))"
      ],
      "execution_count": null,
      "outputs": []
    },
    {
      "cell_type": "code",
      "metadata": {
        "id": "Cou4GoYhMVNB",
        "colab_type": "code",
        "colab": {}
      },
      "source": [
        "model.compile(optimizer='adam',loss='categorical_crossentropy',metrics=['accuracy'])"
      ],
      "execution_count": null,
      "outputs": []
    },
    {
      "cell_type": "code",
      "metadata": {
        "id": "CarG1gK8MZr1",
        "colab_type": "code",
        "colab": {
          "base_uri": "https://localhost:8080/",
          "height": 374
        },
        "outputId": "2a9960de-9e80-4817-f4ca-fc8de5f95ff4"
      },
      "source": [
        "model.fit(x_train,y_train,batch_size=150,epochs=20,validation_data=(x_test,y_test)) #achieves 93% accuracy easily."
      ],
      "execution_count": null,
      "outputs": [
        {
          "output_type": "stream",
          "text": [
            "Epoch 1/10\n",
            "400/400 [==============================] - 7s 18ms/step - loss: 0.5620 - accuracy: 0.8026 - val_loss: 1.2893 - val_accuracy: 0.5889\n",
            "Epoch 2/10\n",
            "400/400 [==============================] - 7s 17ms/step - loss: 0.3405 - accuracy: 0.8778 - val_loss: 0.2928 - val_accuracy: 0.8945\n",
            "Epoch 3/10\n",
            "400/400 [==============================] - 7s 17ms/step - loss: 0.2897 - accuracy: 0.8965 - val_loss: 0.2818 - val_accuracy: 0.8989\n",
            "Epoch 4/10\n",
            "400/400 [==============================] - 7s 17ms/step - loss: 0.2587 - accuracy: 0.9074 - val_loss: 0.2357 - val_accuracy: 0.9156\n",
            "Epoch 5/10\n",
            "400/400 [==============================] - 7s 17ms/step - loss: 0.2374 - accuracy: 0.9162 - val_loss: 0.2553 - val_accuracy: 0.9094\n",
            "Epoch 6/10\n",
            "400/400 [==============================] - 7s 17ms/step - loss: 0.2141 - accuracy: 0.9227 - val_loss: 0.2372 - val_accuracy: 0.9158\n",
            "Epoch 7/10\n",
            "400/400 [==============================] - 7s 17ms/step - loss: 0.2041 - accuracy: 0.9261 - val_loss: 0.2169 - val_accuracy: 0.9205\n",
            "Epoch 8/10\n",
            "400/400 [==============================] - 7s 17ms/step - loss: 0.1912 - accuracy: 0.9306 - val_loss: 0.2181 - val_accuracy: 0.9237\n",
            "Epoch 9/10\n",
            "400/400 [==============================] - 7s 17ms/step - loss: 0.1810 - accuracy: 0.9335 - val_loss: 0.2204 - val_accuracy: 0.9247\n",
            "Epoch 10/10\n",
            "400/400 [==============================] - 7s 17ms/step - loss: 0.1702 - accuracy: 0.9390 - val_loss: 0.2077 - val_accuracy: 0.9258\n"
          ],
          "name": "stdout"
        },
        {
          "output_type": "execute_result",
          "data": {
            "text/plain": [
              "<tensorflow.python.keras.callbacks.History at 0x7f192a711828>"
            ]
          },
          "metadata": {
            "tags": []
          },
          "execution_count": 7
        }
      ]
    },
    {
      "cell_type": "code",
      "metadata": {
        "id": "0cMx1tMAMb2_",
        "colab_type": "code",
        "colab": {}
      },
      "source": [
        ""
      ],
      "execution_count": null,
      "outputs": []
    }
  ]
}