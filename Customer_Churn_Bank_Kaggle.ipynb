{
  "nbformat": 4,
  "nbformat_minor": 0,
  "metadata": {
    "colab": {
      "name": "Customer_Churn_Bank_Kaggle.ipynb",
      "provenance": [],
      "authorship_tag": "ABX9TyOBedsYH17oGfZS+tcVB0Zf"
    },
    "kernelspec": {
      "name": "python3",
      "display_name": "Python 3"
    },
    "language_info": {
      "name": "python"
    }
  },
  "cells": [
    {
      "cell_type": "code",
      "metadata": {
        "id": "iiHUoj40IeXD"
      },
      "source": [
        "import numpy as np\n",
        "import pandas as pd \n",
        "import tensorflow as tf\n",
        "from tensorflow import keras\n",
        "from tensorflow.keras.layers import Dense\n",
        "import matplotlib.pyplot as plt\n",
        "%matplotlib inline"
      ],
      "execution_count": null,
      "outputs": []
    },
    {
      "cell_type": "code",
      "metadata": {
        "id": "4WMg35fEI-4-"
      },
      "source": [
        "df = pd.read_csv('/Churn_Modelling.csv')"
      ],
      "execution_count": null,
      "outputs": []
    },
    {
      "cell_type": "code",
      "metadata": {
        "colab": {
          "base_uri": "https://localhost:8080/",
          "height": 215
        },
        "id": "umv-wYadJUVs",
        "outputId": "9ab82e31-d73d-4850-fc51-b667f0034479"
      },
      "source": [
        "df.head()"
      ],
      "execution_count": null,
      "outputs": [
        {
          "output_type": "execute_result",
          "data": {
            "text/html": [
              "<div>\n",
              "<style scoped>\n",
              "    .dataframe tbody tr th:only-of-type {\n",
              "        vertical-align: middle;\n",
              "    }\n",
              "\n",
              "    .dataframe tbody tr th {\n",
              "        vertical-align: top;\n",
              "    }\n",
              "\n",
              "    .dataframe thead th {\n",
              "        text-align: right;\n",
              "    }\n",
              "</style>\n",
              "<table border=\"1\" class=\"dataframe\">\n",
              "  <thead>\n",
              "    <tr style=\"text-align: right;\">\n",
              "      <th></th>\n",
              "      <th>RowNumber</th>\n",
              "      <th>CustomerId</th>\n",
              "      <th>Surname</th>\n",
              "      <th>CreditScore</th>\n",
              "      <th>Geography</th>\n",
              "      <th>Gender</th>\n",
              "      <th>Age</th>\n",
              "      <th>Tenure</th>\n",
              "      <th>Balance</th>\n",
              "      <th>NumOfProducts</th>\n",
              "      <th>HasCrCard</th>\n",
              "      <th>IsActiveMember</th>\n",
              "      <th>EstimatedSalary</th>\n",
              "      <th>Exited</th>\n",
              "    </tr>\n",
              "  </thead>\n",
              "  <tbody>\n",
              "    <tr>\n",
              "      <th>0</th>\n",
              "      <td>1</td>\n",
              "      <td>15634602</td>\n",
              "      <td>Hargrave</td>\n",
              "      <td>619</td>\n",
              "      <td>France</td>\n",
              "      <td>Female</td>\n",
              "      <td>42</td>\n",
              "      <td>2</td>\n",
              "      <td>0.00</td>\n",
              "      <td>1</td>\n",
              "      <td>1</td>\n",
              "      <td>1</td>\n",
              "      <td>101348.88</td>\n",
              "      <td>1</td>\n",
              "    </tr>\n",
              "    <tr>\n",
              "      <th>1</th>\n",
              "      <td>2</td>\n",
              "      <td>15647311</td>\n",
              "      <td>Hill</td>\n",
              "      <td>608</td>\n",
              "      <td>Spain</td>\n",
              "      <td>Female</td>\n",
              "      <td>41</td>\n",
              "      <td>1</td>\n",
              "      <td>83807.86</td>\n",
              "      <td>1</td>\n",
              "      <td>0</td>\n",
              "      <td>1</td>\n",
              "      <td>112542.58</td>\n",
              "      <td>0</td>\n",
              "    </tr>\n",
              "    <tr>\n",
              "      <th>2</th>\n",
              "      <td>3</td>\n",
              "      <td>15619304</td>\n",
              "      <td>Onio</td>\n",
              "      <td>502</td>\n",
              "      <td>France</td>\n",
              "      <td>Female</td>\n",
              "      <td>42</td>\n",
              "      <td>8</td>\n",
              "      <td>159660.80</td>\n",
              "      <td>3</td>\n",
              "      <td>1</td>\n",
              "      <td>0</td>\n",
              "      <td>113931.57</td>\n",
              "      <td>1</td>\n",
              "    </tr>\n",
              "    <tr>\n",
              "      <th>3</th>\n",
              "      <td>4</td>\n",
              "      <td>15701354</td>\n",
              "      <td>Boni</td>\n",
              "      <td>699</td>\n",
              "      <td>France</td>\n",
              "      <td>Female</td>\n",
              "      <td>39</td>\n",
              "      <td>1</td>\n",
              "      <td>0.00</td>\n",
              "      <td>2</td>\n",
              "      <td>0</td>\n",
              "      <td>0</td>\n",
              "      <td>93826.63</td>\n",
              "      <td>0</td>\n",
              "    </tr>\n",
              "    <tr>\n",
              "      <th>4</th>\n",
              "      <td>5</td>\n",
              "      <td>15737888</td>\n",
              "      <td>Mitchell</td>\n",
              "      <td>850</td>\n",
              "      <td>Spain</td>\n",
              "      <td>Female</td>\n",
              "      <td>43</td>\n",
              "      <td>2</td>\n",
              "      <td>125510.82</td>\n",
              "      <td>1</td>\n",
              "      <td>1</td>\n",
              "      <td>1</td>\n",
              "      <td>79084.10</td>\n",
              "      <td>0</td>\n",
              "    </tr>\n",
              "  </tbody>\n",
              "</table>\n",
              "</div>"
            ],
            "text/plain": [
              "   RowNumber  CustomerId   Surname  ...  IsActiveMember EstimatedSalary Exited\n",
              "0          1    15634602  Hargrave  ...               1       101348.88      1\n",
              "1          2    15647311      Hill  ...               1       112542.58      0\n",
              "2          3    15619304      Onio  ...               0       113931.57      1\n",
              "3          4    15701354      Boni  ...               0        93826.63      0\n",
              "4          5    15737888  Mitchell  ...               1        79084.10      0\n",
              "\n",
              "[5 rows x 14 columns]"
            ]
          },
          "metadata": {
            "tags": []
          },
          "execution_count": 4
        }
      ]
    },
    {
      "cell_type": "code",
      "metadata": {
        "colab": {
          "base_uri": "https://localhost:8080/"
        },
        "id": "aWZMTUj9by6S",
        "outputId": "a08dce2c-79dc-4933-de5f-bfe2a52f054c"
      },
      "source": [
        "df.Exited.value_counts() # Imbalance which we will treat in the end"
      ],
      "execution_count": null,
      "outputs": [
        {
          "output_type": "execute_result",
          "data": {
            "text/plain": [
              "0    7963\n",
              "1    2037\n",
              "Name: Exited, dtype: int64"
            ]
          },
          "metadata": {
            "tags": []
          },
          "execution_count": 5
        }
      ]
    },
    {
      "cell_type": "code",
      "metadata": {
        "id": "glEL9ZgoJVZ0"
      },
      "source": [
        "df.drop(['RowNumber','CustomerId','Surname'],axis=1,inplace=True)"
      ],
      "execution_count": null,
      "outputs": []
    },
    {
      "cell_type": "code",
      "metadata": {
        "colab": {
          "base_uri": "https://localhost:8080/",
          "height": 195
        },
        "id": "BPcNz8OLJuPk",
        "outputId": "64a24451-f3a3-43ad-de3b-d5c935be6ee8"
      },
      "source": [
        "df.head()"
      ],
      "execution_count": null,
      "outputs": [
        {
          "output_type": "execute_result",
          "data": {
            "text/html": [
              "<div>\n",
              "<style scoped>\n",
              "    .dataframe tbody tr th:only-of-type {\n",
              "        vertical-align: middle;\n",
              "    }\n",
              "\n",
              "    .dataframe tbody tr th {\n",
              "        vertical-align: top;\n",
              "    }\n",
              "\n",
              "    .dataframe thead th {\n",
              "        text-align: right;\n",
              "    }\n",
              "</style>\n",
              "<table border=\"1\" class=\"dataframe\">\n",
              "  <thead>\n",
              "    <tr style=\"text-align: right;\">\n",
              "      <th></th>\n",
              "      <th>CreditScore</th>\n",
              "      <th>Geography</th>\n",
              "      <th>Gender</th>\n",
              "      <th>Age</th>\n",
              "      <th>Tenure</th>\n",
              "      <th>Balance</th>\n",
              "      <th>NumOfProducts</th>\n",
              "      <th>HasCrCard</th>\n",
              "      <th>IsActiveMember</th>\n",
              "      <th>EstimatedSalary</th>\n",
              "      <th>Exited</th>\n",
              "    </tr>\n",
              "  </thead>\n",
              "  <tbody>\n",
              "    <tr>\n",
              "      <th>0</th>\n",
              "      <td>619</td>\n",
              "      <td>France</td>\n",
              "      <td>Female</td>\n",
              "      <td>42</td>\n",
              "      <td>2</td>\n",
              "      <td>0.00</td>\n",
              "      <td>1</td>\n",
              "      <td>1</td>\n",
              "      <td>1</td>\n",
              "      <td>101348.88</td>\n",
              "      <td>1</td>\n",
              "    </tr>\n",
              "    <tr>\n",
              "      <th>1</th>\n",
              "      <td>608</td>\n",
              "      <td>Spain</td>\n",
              "      <td>Female</td>\n",
              "      <td>41</td>\n",
              "      <td>1</td>\n",
              "      <td>83807.86</td>\n",
              "      <td>1</td>\n",
              "      <td>0</td>\n",
              "      <td>1</td>\n",
              "      <td>112542.58</td>\n",
              "      <td>0</td>\n",
              "    </tr>\n",
              "    <tr>\n",
              "      <th>2</th>\n",
              "      <td>502</td>\n",
              "      <td>France</td>\n",
              "      <td>Female</td>\n",
              "      <td>42</td>\n",
              "      <td>8</td>\n",
              "      <td>159660.80</td>\n",
              "      <td>3</td>\n",
              "      <td>1</td>\n",
              "      <td>0</td>\n",
              "      <td>113931.57</td>\n",
              "      <td>1</td>\n",
              "    </tr>\n",
              "    <tr>\n",
              "      <th>3</th>\n",
              "      <td>699</td>\n",
              "      <td>France</td>\n",
              "      <td>Female</td>\n",
              "      <td>39</td>\n",
              "      <td>1</td>\n",
              "      <td>0.00</td>\n",
              "      <td>2</td>\n",
              "      <td>0</td>\n",
              "      <td>0</td>\n",
              "      <td>93826.63</td>\n",
              "      <td>0</td>\n",
              "    </tr>\n",
              "    <tr>\n",
              "      <th>4</th>\n",
              "      <td>850</td>\n",
              "      <td>Spain</td>\n",
              "      <td>Female</td>\n",
              "      <td>43</td>\n",
              "      <td>2</td>\n",
              "      <td>125510.82</td>\n",
              "      <td>1</td>\n",
              "      <td>1</td>\n",
              "      <td>1</td>\n",
              "      <td>79084.10</td>\n",
              "      <td>0</td>\n",
              "    </tr>\n",
              "  </tbody>\n",
              "</table>\n",
              "</div>"
            ],
            "text/plain": [
              "   CreditScore Geography  Gender  ...  IsActiveMember  EstimatedSalary  Exited\n",
              "0          619    France  Female  ...               1        101348.88       1\n",
              "1          608     Spain  Female  ...               1        112542.58       0\n",
              "2          502    France  Female  ...               0        113931.57       1\n",
              "3          699    France  Female  ...               0         93826.63       0\n",
              "4          850     Spain  Female  ...               1         79084.10       0\n",
              "\n",
              "[5 rows x 11 columns]"
            ]
          },
          "metadata": {
            "tags": []
          },
          "execution_count": 6
        }
      ]
    },
    {
      "cell_type": "code",
      "metadata": {
        "colab": {
          "base_uri": "https://localhost:8080/"
        },
        "id": "b3ujqjiLJyE8",
        "outputId": "092cf5a2-a3b5-4e4f-f642-f5bf45698175"
      },
      "source": [
        "df.shape"
      ],
      "execution_count": null,
      "outputs": [
        {
          "output_type": "execute_result",
          "data": {
            "text/plain": [
              "(10000, 11)"
            ]
          },
          "metadata": {
            "tags": []
          },
          "execution_count": 7
        }
      ]
    },
    {
      "cell_type": "code",
      "metadata": {
        "colab": {
          "base_uri": "https://localhost:8080/"
        },
        "id": "iU1bHHjfJzaU",
        "outputId": "faaefe70-7448-4948-9449-5a3683225084"
      },
      "source": [
        "df.dtypes"
      ],
      "execution_count": null,
      "outputs": [
        {
          "output_type": "execute_result",
          "data": {
            "text/plain": [
              "CreditScore          int64\n",
              "Geography           object\n",
              "Gender              object\n",
              "Age                  int64\n",
              "Tenure               int64\n",
              "Balance            float64\n",
              "NumOfProducts        int64\n",
              "HasCrCard            int64\n",
              "IsActiveMember       int64\n",
              "EstimatedSalary    float64\n",
              "Exited               int64\n",
              "dtype: object"
            ]
          },
          "metadata": {
            "tags": []
          },
          "execution_count": 8
        }
      ]
    },
    {
      "cell_type": "code",
      "metadata": {
        "id": "r22RDsUGJ7H0"
      },
      "source": [
        "churn_yes_t = df[df.Exited == 1].Tenure"
      ],
      "execution_count": null,
      "outputs": []
    },
    {
      "cell_type": "code",
      "metadata": {
        "id": "27AHyR8bK3j8"
      },
      "source": [
        "churn_no_t = df[df.Exited == 0].Tenure"
      ],
      "execution_count": null,
      "outputs": []
    },
    {
      "cell_type": "code",
      "metadata": {
        "colab": {
          "base_uri": "https://localhost:8080/",
          "height": 350
        },
        "id": "EZkyHfxQK-WU",
        "outputId": "a4e04dde-65f3-406f-e7a5-881621f6d7e5"
      },
      "source": [
        "plt.hist([churn_yes_t,churn_no_t],label=['Churn/Exited = Y','Churn/Exited = N'])\n",
        "plt.xlabel(\"Tenure\")\n",
        "plt.ylabel('Exited')\n",
        "plt.legend()"
      ],
      "execution_count": null,
      "outputs": [
        {
          "output_type": "stream",
          "text": [
            "/usr/local/lib/python3.7/dist-packages/numpy/core/_asarray.py:83: VisibleDeprecationWarning: Creating an ndarray from ragged nested sequences (which is a list-or-tuple of lists-or-tuples-or ndarrays with different lengths or shapes) is deprecated. If you meant to do this, you must specify 'dtype=object' when creating the ndarray\n",
            "  return array(a, dtype, copy=False, order=order)\n"
          ],
          "name": "stderr"
        },
        {
          "output_type": "execute_result",
          "data": {
            "text/plain": [
              "<matplotlib.legend.Legend at 0x7fa979626c50>"
            ]
          },
          "metadata": {
            "tags": []
          },
          "execution_count": 14
        },
        {
          "output_type": "display_data",
          "data": {
            "image/png": "[encoded data removed]",
            "text/plain": [
              "<Figure size 432x288 with 1 Axes>"
            ]
          },
          "metadata": {
            "tags": [],
            "needs_background": "light"
          }
        }
      ]
    },
    {
      "cell_type": "code",
      "metadata": {
        "id": "0IZTVZLXLP87"
      },
      "source": [
        "# well as  far as we can see majority of the customers are retained as the tenure increases while except the initial and final point the customer exit is almost constant."
      ],
      "execution_count": null,
      "outputs": []
    },
    {
      "cell_type": "code",
      "metadata": {
        "id": "6QpDzQYpL4jt"
      },
      "source": [
        "#Lets check this with salary and bank balance too."
      ],
      "execution_count": null,
      "outputs": []
    },
    {
      "cell_type": "code",
      "metadata": {
        "id": "KQE4g6p9MHwE"
      },
      "source": [
        "churn_no_s = df[df.Exited == 0].EstimatedSalary"
      ],
      "execution_count": null,
      "outputs": []
    },
    {
      "cell_type": "code",
      "metadata": {
        "id": "MHC1HXT4MWZM"
      },
      "source": [
        "churn_yes_s = df[df.Exited == 1].EstimatedSalary"
      ],
      "execution_count": null,
      "outputs": []
    },
    {
      "cell_type": "code",
      "metadata": {
        "colab": {
          "base_uri": "https://localhost:8080/",
          "height": 350
        },
        "id": "-NR4inHoMabN",
        "outputId": "81cfd360-9a6d-4bf3-b5b5-52b2515a747d"
      },
      "source": [
        "plt.hist([churn_yes_s,churn_no_s],label=['Churn/Exited = Y','Churn/Exited = N'])\n",
        "plt.xlabel('Salary')\n",
        "plt.ylabel('Exited')\n",
        "plt.legend()"
      ],
      "execution_count": null,
      "outputs": [
        {
          "output_type": "stream",
          "text": [
            "/usr/local/lib/python3.7/dist-packages/numpy/core/_asarray.py:83: VisibleDeprecationWarning: Creating an ndarray from ragged nested sequences (which is a list-or-tuple of lists-or-tuples-or ndarrays with different lengths or shapes) is deprecated. If you meant to do this, you must specify 'dtype=object' when creating the ndarray\n",
            "  return array(a, dtype, copy=False, order=order)\n"
          ],
          "name": "stderr"
        },
        {
          "output_type": "execute_result",
          "data": {
            "text/plain": [
              "<matplotlib.legend.Legend at 0x7fa979625090>"
            ]
          },
          "metadata": {
            "tags": []
          },
          "execution_count": 19
        },
        {
          "output_type": "display_data",
          "data": {
            "image/png": "[encoded data removed]",
            "text/plain": [
              "<Figure size 432x288 with 1 Axes>"
            ]
          },
          "metadata": {
            "tags": [],
            "needs_background": "light"
          }
        }
      ]
    },
    {
      "cell_type": "code",
      "metadata": {
        "id": "s-jqaudQMv8U"
      },
      "source": [
        "# people in the lower salary bracket have high churn rate implying that maybe bank policie didn't suit them much."
      ],
      "execution_count": null,
      "outputs": []
    },
    {
      "cell_type": "code",
      "metadata": {
        "id": "ugAvK6BSM72c"
      },
      "source": [
        "churn_no_b = df[df.Exited == 0].Balance"
      ],
      "execution_count": null,
      "outputs": []
    },
    {
      "cell_type": "code",
      "metadata": {
        "id": "ubHZtKViNFCl"
      },
      "source": [
        "churn_yes_b = df[df.Exited == 1].Balance"
      ],
      "execution_count": null,
      "outputs": []
    },
    {
      "cell_type": "code",
      "metadata": {
        "colab": {
          "base_uri": "https://localhost:8080/",
          "height": 350
        },
        "id": "8SLbMfmxNSIE",
        "outputId": "977bef9d-8ef8-43a4-9832-2ff5710591dc"
      },
      "source": [
        "plt.hist([churn_yes_b,churn_no_b],label=['Churn/Exited = Y','Churn/Exited = N'])\n",
        "plt.xlabel('Balance')\n",
        "plt.ylabel('Exited')\n",
        "plt.legend()"
      ],
      "execution_count": null,
      "outputs": [
        {
          "output_type": "stream",
          "text": [
            "/usr/local/lib/python3.7/dist-packages/numpy/core/_asarray.py:83: VisibleDeprecationWarning: Creating an ndarray from ragged nested sequences (which is a list-or-tuple of lists-or-tuples-or ndarrays with different lengths or shapes) is deprecated. If you meant to do this, you must specify 'dtype=object' when creating the ndarray\n",
            "  return array(a, dtype, copy=False, order=order)\n"
          ],
          "name": "stderr"
        },
        {
          "output_type": "execute_result",
          "data": {
            "text/plain": [
              "<matplotlib.legend.Legend at 0x7fa979450710>"
            ]
          },
          "metadata": {
            "tags": []
          },
          "execution_count": 24
        },
        {
          "output_type": "display_data",
          "data": {
            "image/png": "[encoded data removed]",
            "text/plain": [
              "<Figure size 432x288 with 1 Axes>"
            ]
          },
          "metadata": {
            "tags": [],
            "needs_background": "light"
          }
        }
      ]
    },
    {
      "cell_type": "code",
      "metadata": {
        "id": "W_ShgZQ7NWgc"
      },
      "source": [
        "# the only thing i am able to comprehend from this chart is that at around 20k balance most people have not exited basically means that this must be AMB requirement of the bank and majority people are there to enjoy just the regular benefits bank provide and nothing more"
      ],
      "execution_count": null,
      "outputs": []
    },
    {
      "cell_type": "code",
      "metadata": {
        "colab": {
          "base_uri": "https://localhost:8080/",
          "height": 296
        },
        "id": "hESY_XV2OAr0",
        "outputId": "3c530412-f934-44cd-afcd-cca48bf5f6fd"
      },
      "source": [
        "churn_no_f = df[df.Gender == 'Female'].Exited\n",
        "plt.hist(churn_no_f,label='Females')\n",
        "plt.xlabel('Exited')\n",
        "plt.ylabel('Female')\n",
        "plt.legend()"
      ],
      "execution_count": null,
      "outputs": [
        {
          "output_type": "execute_result",
          "data": {
            "text/plain": [
              "<matplotlib.legend.Legend at 0x7fa979477c90>"
            ]
          },
          "metadata": {
            "tags": []
          },
          "execution_count": 27
        },
        {
          "output_type": "display_data",
          "data": {
            "image/png": "[encoded data removed]",
            "text/plain": [
              "<Figure size 432x288 with 1 Axes>"
            ]
          },
          "metadata": {
            "tags": [],
            "needs_background": "light"
          }
        }
      ]
    },
    {
      "cell_type": "code",
      "metadata": {
        "colab": {
          "base_uri": "https://localhost:8080/",
          "height": 296
        },
        "id": "HSErEcxzZqOD",
        "outputId": "1321f487-9133-4feb-890c-528cba2f437c"
      },
      "source": [
        "churn_no_m = df[df.Gender == 'Male'].Exited\n",
        "plt.hist(churn_no_f,label='Males')\n",
        "plt.xlabel('Exited')\n",
        "plt.ylabel('Male')\n",
        "plt.legend()"
      ],
      "execution_count": null,
      "outputs": [
        {
          "output_type": "execute_result",
          "data": {
            "text/plain": [
              "<matplotlib.legend.Legend at 0x7fa979140c90>"
            ]
          },
          "metadata": {
            "tags": []
          },
          "execution_count": 28
        },
        {
          "output_type": "display_data",
          "data": {
            "image/png": "[encoded data removed]",
            "text/plain": [
              "<Figure size 432x288 with 1 Axes>"
            ]
          },
          "metadata": {
            "tags": [],
            "needs_background": "light"
          }
        }
      ]
    },
    {
      "cell_type": "code",
      "metadata": {
        "colab": {
          "base_uri": "https://localhost:8080/"
        },
        "id": "YnMR9MTfZ416",
        "outputId": "a04f0627-47bd-44ca-aa02-5994d346766c"
      },
      "source": [
        "len(df[df.Gender == 'Male'])"
      ],
      "execution_count": null,
      "outputs": [
        {
          "output_type": "execute_result",
          "data": {
            "text/plain": [
              "5457"
            ]
          },
          "metadata": {
            "tags": []
          },
          "execution_count": 31
        }
      ]
    },
    {
      "cell_type": "code",
      "metadata": {
        "id": "DsSUMvOpaARK"
      },
      "source": [
        "# 54 M and 46 F thats why so similar distribution. Alas this chart didn't gave any helpful info lets go ahead."
      ],
      "execution_count": null,
      "outputs": []
    },
    {
      "cell_type": "code",
      "metadata": {
        "id": "_4TWhGE3aQyr"
      },
      "source": [
        "import seaborn as sns"
      ],
      "execution_count": null,
      "outputs": []
    },
    {
      "cell_type": "code",
      "metadata": {
        "colab": {
          "base_uri": "https://localhost:8080/",
          "height": 296
        },
        "id": "dTrE6cqwijJs",
        "outputId": "340cff1d-ce23-4a9c-e5ff-0da8aea2f30d"
      },
      "source": [
        "sns.countplot(x='Geography' , hue='Exited' , data = df)"
      ],
      "execution_count": null,
      "outputs": [
        {
          "output_type": "execute_result",
          "data": {
            "text/plain": [
              "<matplotlib.axes._subplots.AxesSubplot at 0x7fa972618790>"
            ]
          },
          "metadata": {
            "tags": []
          },
          "execution_count": 34
        },
        {
          "output_type": "display_data",
          "data": {
            "image/png": "[encoded data removed]",
            "text/plain": [
              "<Figure size 432x288 with 1 Axes>"
            ]
          },
          "metadata": {
            "tags": [],
            "needs_background": "light"
          }
        }
      ]
    },
    {
      "cell_type": "code",
      "metadata": {
        "id": "x5bNEAc6itYv"
      },
      "source": [
        "# France has the most retention and relatively the least churn too"
      ],
      "execution_count": null,
      "outputs": []
    },
    {
      "cell_type": "code",
      "metadata": {
        "colab": {
          "base_uri": "https://localhost:8080/",
          "height": 296
        },
        "id": "Q2AN4z34i-tY",
        "outputId": "fb4c238b-8a63-4382-a1f2-4524c4285484"
      },
      "source": [
        "sns.countplot(x='Gender',hue='Exited',data=df)"
      ],
      "execution_count": null,
      "outputs": [
        {
          "output_type": "execute_result",
          "data": {
            "text/plain": [
              "<matplotlib.axes._subplots.AxesSubplot at 0x7fa9724f2ad0>"
            ]
          },
          "metadata": {
            "tags": []
          },
          "execution_count": 36
        },
        {
          "output_type": "display_data",
          "data": {
            "image/png": "[encoded data removed]",
            "text/plain": [
              "<Figure size 432x288 with 1 Axes>"
            ]
          },
          "metadata": {
            "tags": [],
            "needs_background": "light"
          }
        }
      ]
    },
    {
      "cell_type": "code",
      "metadata": {
        "id": "UQU3uZPUjOtg"
      },
      "source": [
        "# Females have more churn"
      ],
      "execution_count": null,
      "outputs": []
    },
    {
      "cell_type": "code",
      "metadata": {
        "colab": {
          "base_uri": "https://localhost:8080/",
          "height": 195
        },
        "id": "9kMND49pjSsf",
        "outputId": "9415a861-ebbe-40d6-858a-8c5b12009a81"
      },
      "source": [
        "df.head()"
      ],
      "execution_count": null,
      "outputs": [
        {
          "output_type": "execute_result",
          "data": {
            "text/html": [
              "<div>\n",
              "<style scoped>\n",
              "    .dataframe tbody tr th:only-of-type {\n",
              "        vertical-align: middle;\n",
              "    }\n",
              "\n",
              "    .dataframe tbody tr th {\n",
              "        vertical-align: top;\n",
              "    }\n",
              "\n",
              "    .dataframe thead th {\n",
              "        text-align: right;\n",
              "    }\n",
              "</style>\n",
              "<table border=\"1\" class=\"dataframe\">\n",
              "  <thead>\n",
              "    <tr style=\"text-align: right;\">\n",
              "      <th></th>\n",
              "      <th>CreditScore</th>\n",
              "      <th>Geography</th>\n",
              "      <th>Gender</th>\n",
              "      <th>Age</th>\n",
              "      <th>Tenure</th>\n",
              "      <th>Balance</th>\n",
              "      <th>NumOfProducts</th>\n",
              "      <th>HasCrCard</th>\n",
              "      <th>IsActiveMember</th>\n",
              "      <th>EstimatedSalary</th>\n",
              "      <th>Exited</th>\n",
              "    </tr>\n",
              "  </thead>\n",
              "  <tbody>\n",
              "    <tr>\n",
              "      <th>0</th>\n",
              "      <td>619</td>\n",
              "      <td>France</td>\n",
              "      <td>0</td>\n",
              "      <td>42</td>\n",
              "      <td>2</td>\n",
              "      <td>0.00</td>\n",
              "      <td>1</td>\n",
              "      <td>1</td>\n",
              "      <td>1</td>\n",
              "      <td>101348.88</td>\n",
              "      <td>1</td>\n",
              "    </tr>\n",
              "    <tr>\n",
              "      <th>1</th>\n",
              "      <td>608</td>\n",
              "      <td>Spain</td>\n",
              "      <td>0</td>\n",
              "      <td>41</td>\n",
              "      <td>1</td>\n",
              "      <td>83807.86</td>\n",
              "      <td>1</td>\n",
              "      <td>0</td>\n",
              "      <td>1</td>\n",
              "      <td>112542.58</td>\n",
              "      <td>0</td>\n",
              "    </tr>\n",
              "    <tr>\n",
              "      <th>2</th>\n",
              "      <td>502</td>\n",
              "      <td>France</td>\n",
              "      <td>0</td>\n",
              "      <td>42</td>\n",
              "      <td>8</td>\n",
              "      <td>159660.80</td>\n",
              "      <td>3</td>\n",
              "      <td>1</td>\n",
              "      <td>0</td>\n",
              "      <td>113931.57</td>\n",
              "      <td>1</td>\n",
              "    </tr>\n",
              "    <tr>\n",
              "      <th>3</th>\n",
              "      <td>699</td>\n",
              "      <td>France</td>\n",
              "      <td>0</td>\n",
              "      <td>39</td>\n",
              "      <td>1</td>\n",
              "      <td>0.00</td>\n",
              "      <td>2</td>\n",
              "      <td>0</td>\n",
              "      <td>0</td>\n",
              "      <td>93826.63</td>\n",
              "      <td>0</td>\n",
              "    </tr>\n",
              "    <tr>\n",
              "      <th>4</th>\n",
              "      <td>850</td>\n",
              "      <td>Spain</td>\n",
              "      <td>0</td>\n",
              "      <td>43</td>\n",
              "      <td>2</td>\n",
              "      <td>125510.82</td>\n",
              "      <td>1</td>\n",
              "      <td>1</td>\n",
              "      <td>1</td>\n",
              "      <td>79084.10</td>\n",
              "      <td>0</td>\n",
              "    </tr>\n",
              "  </tbody>\n",
              "</table>\n",
              "</div>"
            ],
            "text/plain": [
              "   CreditScore Geography  Gender  ...  IsActiveMember  EstimatedSalary  Exited\n",
              "0          619    France       0  ...               1        101348.88       1\n",
              "1          608     Spain       0  ...               1        112542.58       0\n",
              "2          502    France       0  ...               0        113931.57       1\n",
              "3          699    France       0  ...               0         93826.63       0\n",
              "4          850     Spain       0  ...               1         79084.10       0\n",
              "\n",
              "[5 rows x 11 columns]"
            ]
          },
          "metadata": {
            "tags": []
          },
          "execution_count": 42
        }
      ]
    },
    {
      "cell_type": "code",
      "metadata": {
        "id": "S9jLPag1j7NI"
      },
      "source": [
        "df.Gender.replace({'Male':1 , 'Female':0},inplace=True)"
      ],
      "execution_count": null,
      "outputs": []
    },
    {
      "cell_type": "code",
      "metadata": {
        "id": "vV4pNXPSknD4"
      },
      "source": [
        "df1 = pd.get_dummies(data = df, columns=['Geography'])"
      ],
      "execution_count": null,
      "outputs": []
    },
    {
      "cell_type": "code",
      "metadata": {
        "colab": {
          "base_uri": "https://localhost:8080/",
          "height": 215
        },
        "id": "NYj6muekk3HY",
        "outputId": "78890bd9-2a2c-4060-d9b9-865c059d5fac"
      },
      "source": [
        "df1.head()"
      ],
      "execution_count": null,
      "outputs": [
        {
          "output_type": "execute_result",
          "data": {
            "text/html": [
              "<div>\n",
              "<style scoped>\n",
              "    .dataframe tbody tr th:only-of-type {\n",
              "        vertical-align: middle;\n",
              "    }\n",
              "\n",
              "    .dataframe tbody tr th {\n",
              "        vertical-align: top;\n",
              "    }\n",
              "\n",
              "    .dataframe thead th {\n",
              "        text-align: right;\n",
              "    }\n",
              "</style>\n",
              "<table border=\"1\" class=\"dataframe\">\n",
              "  <thead>\n",
              "    <tr style=\"text-align: right;\">\n",
              "      <th></th>\n",
              "      <th>CreditScore</th>\n",
              "      <th>Gender</th>\n",
              "      <th>Age</th>\n",
              "      <th>Tenure</th>\n",
              "      <th>Balance</th>\n",
              "      <th>NumOfProducts</th>\n",
              "      <th>HasCrCard</th>\n",
              "      <th>IsActiveMember</th>\n",
              "      <th>EstimatedSalary</th>\n",
              "      <th>Exited</th>\n",
              "      <th>Geography_France</th>\n",
              "      <th>Geography_Germany</th>\n",
              "      <th>Geography_Spain</th>\n",
              "    </tr>\n",
              "  </thead>\n",
              "  <tbody>\n",
              "    <tr>\n",
              "      <th>0</th>\n",
              "      <td>0.538</td>\n",
              "      <td>0</td>\n",
              "      <td>0.324324</td>\n",
              "      <td>0.2</td>\n",
              "      <td>0.000000</td>\n",
              "      <td>0.000000</td>\n",
              "      <td>1</td>\n",
              "      <td>1</td>\n",
              "      <td>0.506735</td>\n",
              "      <td>1</td>\n",
              "      <td>1</td>\n",
              "      <td>0</td>\n",
              "      <td>0</td>\n",
              "    </tr>\n",
              "    <tr>\n",
              "      <th>1</th>\n",
              "      <td>0.516</td>\n",
              "      <td>0</td>\n",
              "      <td>0.310811</td>\n",
              "      <td>0.1</td>\n",
              "      <td>0.334031</td>\n",
              "      <td>0.000000</td>\n",
              "      <td>0</td>\n",
              "      <td>1</td>\n",
              "      <td>0.562709</td>\n",
              "      <td>0</td>\n",
              "      <td>0</td>\n",
              "      <td>0</td>\n",
              "      <td>1</td>\n",
              "    </tr>\n",
              "    <tr>\n",
              "      <th>2</th>\n",
              "      <td>0.304</td>\n",
              "      <td>0</td>\n",
              "      <td>0.324324</td>\n",
              "      <td>0.8</td>\n",
              "      <td>0.636357</td>\n",
              "      <td>0.666667</td>\n",
              "      <td>1</td>\n",
              "      <td>0</td>\n",
              "      <td>0.569654</td>\n",
              "      <td>1</td>\n",
              "      <td>1</td>\n",
              "      <td>0</td>\n",
              "      <td>0</td>\n",
              "    </tr>\n",
              "    <tr>\n",
              "      <th>3</th>\n",
              "      <td>0.698</td>\n",
              "      <td>0</td>\n",
              "      <td>0.283784</td>\n",
              "      <td>0.1</td>\n",
              "      <td>0.000000</td>\n",
              "      <td>0.333333</td>\n",
              "      <td>0</td>\n",
              "      <td>0</td>\n",
              "      <td>0.469120</td>\n",
              "      <td>0</td>\n",
              "      <td>1</td>\n",
              "      <td>0</td>\n",
              "      <td>0</td>\n",
              "    </tr>\n",
              "    <tr>\n",
              "      <th>4</th>\n",
              "      <td>1.000</td>\n",
              "      <td>0</td>\n",
              "      <td>0.337838</td>\n",
              "      <td>0.2</td>\n",
              "      <td>0.500246</td>\n",
              "      <td>0.000000</td>\n",
              "      <td>1</td>\n",
              "      <td>1</td>\n",
              "      <td>0.395400</td>\n",
              "      <td>0</td>\n",
              "      <td>0</td>\n",
              "      <td>0</td>\n",
              "      <td>1</td>\n",
              "    </tr>\n",
              "  </tbody>\n",
              "</table>\n",
              "</div>"
            ],
            "text/plain": [
              "   CreditScore  Gender  ...  Geography_Germany  Geography_Spain\n",
              "0        0.538       0  ...                  0                0\n",
              "1        0.516       0  ...                  0                1\n",
              "2        0.304       0  ...                  0                0\n",
              "3        0.698       0  ...                  0                0\n",
              "4        1.000       0  ...                  0                1\n",
              "\n",
              "[5 rows x 13 columns]"
            ]
          },
          "metadata": {
            "tags": []
          },
          "execution_count": 51
        }
      ]
    },
    {
      "cell_type": "code",
      "metadata": {
        "id": "GsIRfy9OmDUy"
      },
      "source": [
        ""
      ],
      "execution_count": null,
      "outputs": []
    },
    {
      "cell_type": "code",
      "metadata": {
        "id": "mAxNIUWxk6jQ"
      },
      "source": [
        "from sklearn.preprocessing import MinMaxScaler"
      ],
      "execution_count": null,
      "outputs": []
    },
    {
      "cell_type": "code",
      "metadata": {
        "id": "q737d5ytlQd3"
      },
      "source": [
        "norm = MinMaxScaler()"
      ],
      "execution_count": null,
      "outputs": []
    },
    {
      "cell_type": "code",
      "metadata": {
        "id": "KYofij1HlSaI"
      },
      "source": [
        "df1[['CreditScore','Age','Tenure','Balance','EstimatedSalary','NumOfProducts']] = norm.fit_transform(df1[['CreditScore','Age','Tenure','Balance','EstimatedSalary','NumOfProducts']])"
      ],
      "execution_count": null,
      "outputs": []
    },
    {
      "cell_type": "code",
      "metadata": {
        "id": "PXL80m6plw8o"
      },
      "source": [
        "X = df1.drop('Exited',axis = 1)"
      ],
      "execution_count": null,
      "outputs": []
    },
    {
      "cell_type": "code",
      "metadata": {
        "id": "ef0j7B2BmMKY"
      },
      "source": [
        "y = df1.Exited"
      ],
      "execution_count": null,
      "outputs": []
    },
    {
      "cell_type": "code",
      "metadata": {
        "id": "BZxB0h5RmOtP"
      },
      "source": [
        "from sklearn.model_selection import train_test_split"
      ],
      "execution_count": null,
      "outputs": []
    },
    {
      "cell_type": "code",
      "metadata": {
        "id": "snXUSXRLmS13"
      },
      "source": [
        "X_train,X_test,y_train,y_test = train_test_split(X,y)"
      ],
      "execution_count": null,
      "outputs": []
    },
    {
      "cell_type": "code",
      "metadata": {
        "id": "TVMuqoDPmh-o"
      },
      "source": [
        "model = keras.Sequential()"
      ],
      "execution_count": null,
      "outputs": []
    },
    {
      "cell_type": "code",
      "metadata": {
        "colab": {
          "base_uri": "https://localhost:8080/"
        },
        "id": "aujbr_genM81",
        "outputId": "6803ac16-9e4b-470b-9721-70d149b00d95"
      },
      "source": [
        "X_train.shape"
      ],
      "execution_count": null,
      "outputs": [
        {
          "output_type": "execute_result",
          "data": {
            "text/plain": [
              "(7500, 12)"
            ]
          },
          "metadata": {
            "tags": []
          },
          "execution_count": 57
        }
      ]
    },
    {
      "cell_type": "code",
      "metadata": {
        "id": "KMyU3u4SmnDg"
      },
      "source": [
        "model.add( Dense(64,activation='relu',input_shape=(12,)))"
      ],
      "execution_count": null,
      "outputs": []
    },
    {
      "cell_type": "code",
      "metadata": {
        "id": "IlCkQytKnRTh"
      },
      "source": [
        "model.add(Dense(32,activation='relu'))"
      ],
      "execution_count": null,
      "outputs": []
    },
    {
      "cell_type": "code",
      "metadata": {
        "id": "EUeZMIInnX9w"
      },
      "source": [
        "model.add(Dense(1,activation='sigmoid'))"
      ],
      "execution_count": null,
      "outputs": []
    },
    {
      "cell_type": "code",
      "metadata": {
        "id": "eXnfZMb6nb2g"
      },
      "source": [
        "model.compile(optimizer='adam',loss='binary_crossentropy',metrics=['accuracy'])"
      ],
      "execution_count": null,
      "outputs": []
    },
    {
      "cell_type": "code",
      "metadata": {
        "colab": {
          "base_uri": "https://localhost:8080/"
        },
        "id": "abw4ghHAnpoQ",
        "outputId": "bbaf578d-fed6-485a-be7c-ce56443ff71c"
      },
      "source": [
        "model.fit(X_train,y_train,epochs=50)"
      ],
      "execution_count": null,
      "outputs": [
        {
          "output_type": "stream",
          "text": [
            "Epoch 1/50\n",
            "235/235 [==============================] - 0s 820us/step - loss: 0.3131 - accuracy: 0.8677\n",
            "Epoch 2/50\n",
            "235/235 [==============================] - 0s 946us/step - loss: 0.3129 - accuracy: 0.8699\n",
            "Epoch 3/50\n",
            "235/235 [==============================] - 0s 858us/step - loss: 0.3114 - accuracy: 0.8695\n",
            "Epoch 4/50\n",
            "235/235 [==============================] - 0s 918us/step - loss: 0.3114 - accuracy: 0.8685\n",
            "Epoch 5/50\n",
            "235/235 [==============================] - 0s 977us/step - loss: 0.3103 - accuracy: 0.8713\n",
            "Epoch 6/50\n",
            "235/235 [==============================] - 0s 945us/step - loss: 0.3119 - accuracy: 0.8696\n",
            "Epoch 7/50\n",
            "235/235 [==============================] - 0s 971us/step - loss: 0.3117 - accuracy: 0.8689\n",
            "Epoch 8/50\n",
            "235/235 [==============================] - 0s 1ms/step - loss: 0.3095 - accuracy: 0.8711\n",
            "Epoch 9/50\n",
            "235/235 [==============================] - 0s 1ms/step - loss: 0.3096 - accuracy: 0.8720\n",
            "Epoch 10/50\n",
            "235/235 [==============================] - 0s 900us/step - loss: 0.3075 - accuracy: 0.8721\n",
            "Epoch 11/50\n",
            "235/235 [==============================] - 0s 983us/step - loss: 0.3080 - accuracy: 0.8715\n",
            "Epoch 12/50\n",
            "235/235 [==============================] - 0s 985us/step - loss: 0.3082 - accuracy: 0.8725\n",
            "Epoch 13/50\n",
            "235/235 [==============================] - 0s 992us/step - loss: 0.3074 - accuracy: 0.8727\n",
            "Epoch 14/50\n",
            "235/235 [==============================] - 0s 941us/step - loss: 0.3069 - accuracy: 0.8717\n",
            "Epoch 15/50\n",
            "235/235 [==============================] - 0s 897us/step - loss: 0.3074 - accuracy: 0.8733\n",
            "Epoch 16/50\n",
            "235/235 [==============================] - 0s 940us/step - loss: 0.3063 - accuracy: 0.8735\n",
            "Epoch 17/50\n",
            "235/235 [==============================] - 0s 986us/step - loss: 0.3055 - accuracy: 0.8733\n",
            "Epoch 18/50\n",
            "235/235 [==============================] - 0s 1ms/step - loss: 0.3057 - accuracy: 0.8763\n",
            "Epoch 19/50\n",
            "235/235 [==============================] - 0s 1ms/step - loss: 0.3059 - accuracy: 0.8732\n",
            "Epoch 20/50\n",
            "235/235 [==============================] - 0s 1ms/step - loss: 0.3052 - accuracy: 0.8725\n",
            "Epoch 21/50\n",
            "235/235 [==============================] - 0s 1ms/step - loss: 0.3040 - accuracy: 0.8747\n",
            "Epoch 22/50\n",
            "235/235 [==============================] - 0s 938us/step - loss: 0.3035 - accuracy: 0.8729\n",
            "Epoch 23/50\n",
            "235/235 [==============================] - 0s 992us/step - loss: 0.3044 - accuracy: 0.8719\n",
            "Epoch 24/50\n",
            "235/235 [==============================] - 0s 967us/step - loss: 0.3041 - accuracy: 0.8757\n",
            "Epoch 25/50\n",
            "235/235 [==============================] - 0s 990us/step - loss: 0.3026 - accuracy: 0.8731\n",
            "Epoch 26/50\n",
            "235/235 [==============================] - 0s 956us/step - loss: 0.3027 - accuracy: 0.8752\n",
            "Epoch 27/50\n",
            "235/235 [==============================] - 0s 958us/step - loss: 0.3019 - accuracy: 0.8731\n",
            "Epoch 28/50\n",
            "235/235 [==============================] - 0s 896us/step - loss: 0.3017 - accuracy: 0.8735\n",
            "Epoch 29/50\n",
            "235/235 [==============================] - 0s 998us/step - loss: 0.3011 - accuracy: 0.8747\n",
            "Epoch 30/50\n",
            "235/235 [==============================] - 0s 941us/step - loss: 0.3026 - accuracy: 0.8755\n",
            "Epoch 31/50\n",
            "235/235 [==============================] - 0s 1ms/step - loss: 0.3024 - accuracy: 0.8743\n",
            "Epoch 32/50\n",
            "235/235 [==============================] - 0s 911us/step - loss: 0.3016 - accuracy: 0.8735\n",
            "Epoch 33/50\n",
            "235/235 [==============================] - 0s 1ms/step - loss: 0.3020 - accuracy: 0.8740\n",
            "Epoch 34/50\n",
            "235/235 [==============================] - 0s 958us/step - loss: 0.2998 - accuracy: 0.8743\n",
            "Epoch 35/50\n",
            "235/235 [==============================] - 0s 1ms/step - loss: 0.3011 - accuracy: 0.8751\n",
            "Epoch 36/50\n",
            "235/235 [==============================] - 0s 1ms/step - loss: 0.3002 - accuracy: 0.8741\n",
            "Epoch 37/50\n",
            "235/235 [==============================] - 0s 966us/step - loss: 0.2977 - accuracy: 0.8779\n",
            "Epoch 38/50\n",
            "235/235 [==============================] - 0s 939us/step - loss: 0.3011 - accuracy: 0.8735\n",
            "Epoch 39/50\n",
            "235/235 [==============================] - 0s 944us/step - loss: 0.2991 - accuracy: 0.8769\n",
            "Epoch 40/50\n",
            "235/235 [==============================] - 0s 967us/step - loss: 0.2990 - accuracy: 0.8753\n",
            "Epoch 41/50\n",
            "235/235 [==============================] - 0s 982us/step - loss: 0.2960 - accuracy: 0.8768\n",
            "Epoch 42/50\n",
            "235/235 [==============================] - 0s 945us/step - loss: 0.2976 - accuracy: 0.8769\n",
            "Epoch 43/50\n",
            "235/235 [==============================] - 0s 1ms/step - loss: 0.2991 - accuracy: 0.8747\n",
            "Epoch 44/50\n",
            "235/235 [==============================] - 0s 986us/step - loss: 0.2985 - accuracy: 0.8761\n",
            "Epoch 45/50\n",
            "235/235 [==============================] - 0s 910us/step - loss: 0.2969 - accuracy: 0.8767\n",
            "Epoch 46/50\n",
            "235/235 [==============================] - 0s 1ms/step - loss: 0.2978 - accuracy: 0.8747\n",
            "Epoch 47/50\n",
            "235/235 [==============================] - 0s 994us/step - loss: 0.2977 - accuracy: 0.8751\n",
            "Epoch 48/50\n",
            "235/235 [==============================] - 0s 1ms/step - loss: 0.2957 - accuracy: 0.8769\n",
            "Epoch 49/50\n",
            "235/235 [==============================] - 0s 937us/step - loss: 0.2958 - accuracy: 0.8765\n",
            "Epoch 50/50\n",
            "235/235 [==============================] - 0s 972us/step - loss: 0.2956 - accuracy: 0.8775\n"
          ],
          "name": "stdout"
        },
        {
          "output_type": "execute_result",
          "data": {
            "text/plain": [
              "<tensorflow.python.keras.callbacks.History at 0x7fa970900790>"
            ]
          },
          "metadata": {
            "tags": []
          },
          "execution_count": 63
        }
      ]
    },
    {
      "cell_type": "code",
      "metadata": {
        "colab": {
          "base_uri": "https://localhost:8080/"
        },
        "id": "D32jikiUntyI",
        "outputId": "afa6c399-3e57-41ce-b628-c3a93dd518d0"
      },
      "source": [
        "model.evaluate(X_test,y_test)"
      ],
      "execution_count": null,
      "outputs": [
        {
          "output_type": "stream",
          "text": [
            "79/79 [==============================] - 0s 591us/step - loss: 0.3800 - accuracy: 0.8468\n"
          ],
          "name": "stdout"
        },
        {
          "output_type": "execute_result",
          "data": {
            "text/plain": [
              "[0.38000741600990295, 0.8468000292778015]"
            ]
          },
          "metadata": {
            "tags": []
          },
          "execution_count": 64
        }
      ]
    },
    {
      "cell_type": "code",
      "metadata": {
        "id": "DQ5eUGwFoABR"
      },
      "source": [
        "## Treating Imbalance"
      ],
      "execution_count": null,
      "outputs": []
    },
    {
      "cell_type": "code",
      "metadata": {
        "colab": {
          "base_uri": "https://localhost:8080/"
        },
        "id": "CgUwdEY4cEyf",
        "outputId": "34ba89ca-c876-482f-ba86-a62b197acccf"
      },
      "source": [
        "df1.Exited.value_counts()"
      ],
      "execution_count": null,
      "outputs": [
        {
          "output_type": "execute_result",
          "data": {
            "text/plain": [
              "0    7963\n",
              "1    2037\n",
              "Name: Exited, dtype: int64"
            ]
          },
          "metadata": {
            "tags": []
          },
          "execution_count": 14
        }
      ]
    },
    {
      "cell_type": "code",
      "metadata": {
        "id": "48W4pVKocsmt"
      },
      "source": [
        "df_0 = df1[df1.Exited == 0]"
      ],
      "execution_count": null,
      "outputs": []
    },
    {
      "cell_type": "code",
      "metadata": {
        "id": "RaM_4yDDczls"
      },
      "source": [
        "df_1 = df1[df1.Exited == 1]"
      ],
      "execution_count": null,
      "outputs": []
    },
    {
      "cell_type": "code",
      "metadata": {
        "colab": {
          "base_uri": "https://localhost:8080/"
        },
        "id": "aMNXIW1fc3e7",
        "outputId": "6bf6b4ef-8e91-48d1-9b68-ae1e9a53f321"
      },
      "source": [
        "len(df_0),len(df_1)"
      ],
      "execution_count": null,
      "outputs": [
        {
          "output_type": "execute_result",
          "data": {
            "text/plain": [
              "(7963, 2037)"
            ]
          },
          "metadata": {
            "tags": []
          },
          "execution_count": 17
        }
      ]
    },
    {
      "cell_type": "code",
      "metadata": {
        "id": "ax7piHWkc5fD"
      },
      "source": [
        "#Last time over sampling was the best and this is sort of similar dataset so trying first with that"
      ],
      "execution_count": null,
      "outputs": []
    },
    {
      "cell_type": "code",
      "metadata": {
        "id": "PVZc0FosdB-D"
      },
      "source": [
        "df_1_n = df_1.sample(len(df_0),replace=True)"
      ],
      "execution_count": null,
      "outputs": []
    },
    {
      "cell_type": "code",
      "metadata": {
        "id": "VfKk3A1mdGGp"
      },
      "source": [
        "df2 = pd.concat([df_0,df_1_n],axis=0)"
      ],
      "execution_count": null,
      "outputs": []
    },
    {
      "cell_type": "code",
      "metadata": {
        "colab": {
          "base_uri": "https://localhost:8080/"
        },
        "id": "bys8T2-6dbT0",
        "outputId": "7a8f8b38-9bc5-4d2d-ab1d-136130135472"
      },
      "source": [
        "df2.Exited.value_counts()"
      ],
      "execution_count": null,
      "outputs": [
        {
          "output_type": "execute_result",
          "data": {
            "text/plain": [
              "1    7963\n",
              "0    7963\n",
              "Name: Exited, dtype: int64"
            ]
          },
          "metadata": {
            "tags": []
          },
          "execution_count": 23
        }
      ]
    },
    {
      "cell_type": "code",
      "metadata": {
        "id": "Cd99e8zKdfFF"
      },
      "source": [
        "X = df2.drop('Exited',axis=1)"
      ],
      "execution_count": null,
      "outputs": []
    },
    {
      "cell_type": "code",
      "metadata": {
        "id": "J6P7MSVtd2BU"
      },
      "source": [
        "y = df2.Exited"
      ],
      "execution_count": null,
      "outputs": []
    },
    {
      "cell_type": "code",
      "metadata": {
        "id": "a44SOksEd4vl"
      },
      "source": [
        "X_train,X_test,y_train,y_test = train_test_split(X,y)"
      ],
      "execution_count": null,
      "outputs": []
    },
    {
      "cell_type": "code",
      "metadata": {
        "id": "HfKBCU4ReZlU"
      },
      "source": [
        "model = keras.Sequential()"
      ],
      "execution_count": null,
      "outputs": []
    },
    {
      "cell_type": "code",
      "metadata": {
        "id": "5HXMLBCIhJEf"
      },
      "source": [
        "model.add( Dense(64,activation='relu',input_shape=(12,)))"
      ],
      "execution_count": null,
      "outputs": []
    },
    {
      "cell_type": "code",
      "metadata": {
        "id": "rQgOltWFkUAg"
      },
      "source": [
        "model.add( Dense(32,activation= 'relu'))"
      ],
      "execution_count": null,
      "outputs": []
    },
    {
      "cell_type": "code",
      "metadata": {
        "id": "CewaQsWSkxQW"
      },
      "source": [
        "model.add( Dense(1 , activation='relu'))"
      ],
      "execution_count": null,
      "outputs": []
    },
    {
      "cell_type": "code",
      "metadata": {
        "id": "0sMGew07k2fv"
      },
      "source": [
        "model.compile(optimizer = 'adam', loss='binary_crossentropy',metrics=['accuracy'])"
      ],
      "execution_count": null,
      "outputs": []
    },
    {
      "cell_type": "code",
      "metadata": {
        "colab": {
          "base_uri": "https://localhost:8080/"
        },
        "id": "18dprJEwk91F",
        "outputId": "59b815dc-a265-4716-8be6-dd005bd50794"
      },
      "source": [
        "model.fit(X_train,y_train,epochs=50)"
      ],
      "execution_count": null,
      "outputs": [
        {
          "output_type": "stream",
          "text": [
            "Epoch 1/50\n",
            "374/374 [==============================] - 1s 2ms/step - loss: 0.6725 - accuracy: 0.6075\n",
            "Epoch 2/50\n",
            "374/374 [==============================] - 1s 2ms/step - loss: 0.5781 - accuracy: 0.7050\n",
            "Epoch 3/50\n",
            "374/374 [==============================] - 1s 2ms/step - loss: 0.5587 - accuracy: 0.7303\n",
            "Epoch 4/50\n",
            "374/374 [==============================] - 1s 2ms/step - loss: 0.5208 - accuracy: 0.7447\n",
            "Epoch 5/50\n",
            "374/374 [==============================] - 1s 2ms/step - loss: 0.5266 - accuracy: 0.7495\n",
            "Epoch 6/50\n",
            "374/374 [==============================] - 1s 2ms/step - loss: 0.5092 - accuracy: 0.7641\n",
            "Epoch 7/50\n",
            "374/374 [==============================] - 1s 2ms/step - loss: 0.5097 - accuracy: 0.7528\n",
            "Epoch 8/50\n",
            "374/374 [==============================] - 1s 2ms/step - loss: 0.4927 - accuracy: 0.7573\n",
            "Epoch 9/50\n",
            "374/374 [==============================] - 1s 2ms/step - loss: 0.4989 - accuracy: 0.7667\n",
            "Epoch 10/50\n",
            "374/374 [==============================] - 1s 2ms/step - loss: 0.4908 - accuracy: 0.7607\n",
            "Epoch 11/50\n",
            "374/374 [==============================] - 1s 2ms/step - loss: 0.5061 - accuracy: 0.7534\n",
            "Epoch 12/50\n",
            "374/374 [==============================] - 1s 2ms/step - loss: 0.4928 - accuracy: 0.7588\n",
            "Epoch 13/50\n",
            "374/374 [==============================] - 1s 2ms/step - loss: 0.4699 - accuracy: 0.7682\n",
            "Epoch 14/50\n",
            "374/374 [==============================] - 1s 2ms/step - loss: 0.4761 - accuracy: 0.7667\n",
            "Epoch 15/50\n",
            "374/374 [==============================] - 1s 2ms/step - loss: 0.4943 - accuracy: 0.7662\n",
            "Epoch 16/50\n",
            "374/374 [==============================] - 1s 2ms/step - loss: 0.4889 - accuracy: 0.7667\n",
            "Epoch 17/50\n",
            "374/374 [==============================] - 1s 2ms/step - loss: 0.5126 - accuracy: 0.7544\n",
            "Epoch 18/50\n",
            "374/374 [==============================] - 1s 2ms/step - loss: 0.4705 - accuracy: 0.7721\n",
            "Epoch 19/50\n",
            "374/374 [==============================] - 1s 2ms/step - loss: 0.4798 - accuracy: 0.7739\n",
            "Epoch 20/50\n",
            "374/374 [==============================] - 1s 2ms/step - loss: 0.4706 - accuracy: 0.7780\n",
            "Epoch 21/50\n",
            "374/374 [==============================] - 1s 2ms/step - loss: 0.5033 - accuracy: 0.7611\n",
            "Epoch 22/50\n",
            "374/374 [==============================] - 1s 2ms/step - loss: 0.4996 - accuracy: 0.7616\n",
            "Epoch 23/50\n",
            "374/374 [==============================] - 1s 2ms/step - loss: 0.4911 - accuracy: 0.7697\n",
            "Epoch 24/50\n",
            "374/374 [==============================] - 1s 2ms/step - loss: 0.4636 - accuracy: 0.7649\n",
            "Epoch 25/50\n",
            "374/374 [==============================] - 1s 2ms/step - loss: 0.4761 - accuracy: 0.7719\n",
            "Epoch 26/50\n",
            "374/374 [==============================] - 1s 2ms/step - loss: 0.4474 - accuracy: 0.7777\n",
            "Epoch 27/50\n",
            "374/374 [==============================] - 1s 2ms/step - loss: 0.4554 - accuracy: 0.7729\n",
            "Epoch 28/50\n",
            "374/374 [==============================] - 1s 2ms/step - loss: 0.4738 - accuracy: 0.7644\n",
            "Epoch 29/50\n",
            "374/374 [==============================] - 1s 2ms/step - loss: 0.4636 - accuracy: 0.7762\n",
            "Epoch 30/50\n",
            "374/374 [==============================] - 1s 2ms/step - loss: 0.4502 - accuracy: 0.7782\n",
            "Epoch 31/50\n",
            "374/374 [==============================] - 1s 2ms/step - loss: 0.4621 - accuracy: 0.7792\n",
            "Epoch 32/50\n",
            "374/374 [==============================] - 1s 2ms/step - loss: 0.4834 - accuracy: 0.7701\n",
            "Epoch 33/50\n",
            "374/374 [==============================] - 1s 2ms/step - loss: 0.4698 - accuracy: 0.7720\n",
            "Epoch 34/50\n",
            "374/374 [==============================] - 1s 2ms/step - loss: 0.4483 - accuracy: 0.7742\n",
            "Epoch 35/50\n",
            "374/374 [==============================] - 1s 2ms/step - loss: 0.4703 - accuracy: 0.7706\n",
            "Epoch 36/50\n",
            "374/374 [==============================] - 1s 2ms/step - loss: 0.4482 - accuracy: 0.7785\n",
            "Epoch 37/50\n",
            "374/374 [==============================] - 1s 2ms/step - loss: 0.4474 - accuracy: 0.7806\n",
            "Epoch 38/50\n",
            "374/374 [==============================] - 1s 2ms/step - loss: 0.4626 - accuracy: 0.7800\n",
            "Epoch 39/50\n",
            "374/374 [==============================] - 1s 1ms/step - loss: 0.4443 - accuracy: 0.7896\n",
            "Epoch 40/50\n",
            "374/374 [==============================] - 1s 2ms/step - loss: 0.4497 - accuracy: 0.7946\n",
            "Epoch 41/50\n",
            "374/374 [==============================] - 1s 2ms/step - loss: 0.4426 - accuracy: 0.7858\n",
            "Epoch 42/50\n",
            "374/374 [==============================] - 1s 2ms/step - loss: 0.7017 - accuracy: 0.7301\n",
            "Epoch 43/50\n",
            "374/374 [==============================] - 1s 2ms/step - loss: 0.4716 - accuracy: 0.7773\n",
            "Epoch 44/50\n",
            "374/374 [==============================] - 1s 2ms/step - loss: 0.4714 - accuracy: 0.7726\n",
            "Epoch 45/50\n",
            "374/374 [==============================] - 1s 2ms/step - loss: 0.4628 - accuracy: 0.7876\n",
            "Epoch 46/50\n",
            "374/374 [==============================] - 1s 2ms/step - loss: 0.4658 - accuracy: 0.7815\n",
            "Epoch 47/50\n",
            "374/374 [==============================] - 1s 2ms/step - loss: 0.4610 - accuracy: 0.7767\n",
            "Epoch 48/50\n",
            "374/374 [==============================] - 1s 2ms/step - loss: 0.4475 - accuracy: 0.7827\n",
            "Epoch 49/50\n",
            "374/374 [==============================] - 1s 2ms/step - loss: 0.4483 - accuracy: 0.7830\n",
            "Epoch 50/50\n",
            "374/374 [==============================] - 1s 2ms/step - loss: 0.4902 - accuracy: 0.7600\n"
          ],
          "name": "stdout"
        },
        {
          "output_type": "execute_result",
          "data": {
            "text/plain": [
              "<tensorflow.python.keras.callbacks.History at 0x7ff9a84d8610>"
            ]
          },
          "metadata": {
            "tags": []
          },
          "execution_count": 35
        }
      ]
    },
    {
      "cell_type": "code",
      "metadata": {
        "colab": {
          "base_uri": "https://localhost:8080/"
        },
        "id": "MRFcIK45lCs9",
        "outputId": "480e5379-1831-4d3d-be7d-2c2419e6e005"
      },
      "source": [
        "model.evaluate(X_test,y_test)"
      ],
      "execution_count": null,
      "outputs": [
        {
          "output_type": "stream",
          "text": [
            "125/125 [==============================] - 0s 983us/step - loss: 0.4638 - accuracy: 0.7850\n"
          ],
          "name": "stdout"
        },
        {
          "output_type": "execute_result",
          "data": {
            "text/plain": [
              "[0.46375522017478943, 0.7850326299667358]"
            ]
          },
          "metadata": {
            "tags": []
          },
          "execution_count": 36
        }
      ]
    },
    {
      "cell_type": "code",
      "metadata": {
        "id": "K7joANFQlm-2"
      },
      "source": [
        "from imblearn.over_sampling import SMOTE"
      ],
      "execution_count": null,
      "outputs": []
    },
    {
      "cell_type": "code",
      "metadata": {
        "id": "2Y_jUvLQltdm"
      },
      "source": [
        "sm = SMOTE()"
      ],
      "execution_count": null,
      "outputs": []
    },
    {
      "cell_type": "code",
      "metadata": {
        "id": "swtBJsltlvUu"
      },
      "source": [
        "X_s,y_s = sm.fit_sample(X,y)"
      ],
      "execution_count": null,
      "outputs": []
    },
    {
      "cell_type": "code",
      "metadata": {
        "id": "83X1w3Fint-3"
      },
      "source": [
        "X_train,X_test,y_train,y_test = train_test_split(X_s,y_s)"
      ],
      "execution_count": null,
      "outputs": []
    },
    {
      "cell_type": "code",
      "metadata": {
        "id": "WfpRi6B9mHB-"
      },
      "source": [
        "model.add( Dense(64,activation='relu',input_shape=(12,)))"
      ],
      "execution_count": null,
      "outputs": []
    },
    {
      "cell_type": "code",
      "metadata": {
        "id": "fEJnO2fOn1Kb"
      },
      "source": [
        "model.add(Dense(32,activation='relu'))"
      ],
      "execution_count": null,
      "outputs": []
    },
    {
      "cell_type": "code",
      "metadata": {
        "id": "oxyEfrZ3n57z"
      },
      "source": [
        "model.add(Dense(1,activation='sigmoid'))"
      ],
      "execution_count": null,
      "outputs": []
    },
    {
      "cell_type": "code",
      "metadata": {
        "id": "0ZeW9bhPn9P7"
      },
      "source": [
        "model.compile(optimizer='adam',loss='binary_crossentropy',metrics=['accuracy'])"
      ],
      "execution_count": null,
      "outputs": []
    },
    {
      "cell_type": "code",
      "metadata": {
        "colab": {
          "base_uri": "https://localhost:8080/"
        },
        "id": "HxX-i_bioFye",
        "outputId": "4abe5b59-f68e-4e7e-aa8d-bcff0691a907"
      },
      "source": [
        "model.fit(X_train,y_train,epochs=75)"
      ],
      "execution_count": null,
      "outputs": [
        {
          "output_type": "stream",
          "text": [
            "Epoch 1/75\n",
            "374/374 [==============================] - 1s 2ms/step - loss: 0.5724 - accuracy: 0.7079\n",
            "Epoch 2/75\n",
            "374/374 [==============================] - 1s 2ms/step - loss: 0.4502 - accuracy: 0.7862\n",
            "Epoch 3/75\n",
            "374/374 [==============================] - 1s 2ms/step - loss: 0.4309 - accuracy: 0.7979\n",
            "Epoch 4/75\n",
            "374/374 [==============================] - 1s 2ms/step - loss: 0.4327 - accuracy: 0.7959\n",
            "Epoch 5/75\n",
            "374/374 [==============================] - 1s 2ms/step - loss: 0.4273 - accuracy: 0.7974\n",
            "Epoch 6/75\n",
            "374/374 [==============================] - 1s 2ms/step - loss: 0.4137 - accuracy: 0.8065\n",
            "Epoch 7/75\n",
            "374/374 [==============================] - 1s 2ms/step - loss: 0.4089 - accuracy: 0.8065\n",
            "Epoch 8/75\n",
            "374/374 [==============================] - 1s 2ms/step - loss: 0.4055 - accuracy: 0.8074\n",
            "Epoch 9/75\n",
            "374/374 [==============================] - 1s 2ms/step - loss: 0.4047 - accuracy: 0.8070\n",
            "Epoch 10/75\n",
            "374/374 [==============================] - 1s 2ms/step - loss: 0.4083 - accuracy: 0.8063\n",
            "Epoch 11/75\n",
            "374/374 [==============================] - 1s 2ms/step - loss: 0.3917 - accuracy: 0.8201\n",
            "Epoch 12/75\n",
            "374/374 [==============================] - 1s 2ms/step - loss: 0.3964 - accuracy: 0.8079\n",
            "Epoch 13/75\n",
            "374/374 [==============================] - 1s 2ms/step - loss: 0.3900 - accuracy: 0.8170\n",
            "Epoch 14/75\n",
            "374/374 [==============================] - 1s 2ms/step - loss: 0.3973 - accuracy: 0.8123\n",
            "Epoch 15/75\n",
            "374/374 [==============================] - 1s 2ms/step - loss: 0.3884 - accuracy: 0.8146\n",
            "Epoch 16/75\n",
            "374/374 [==============================] - 1s 2ms/step - loss: 0.3928 - accuracy: 0.8144\n",
            "Epoch 17/75\n",
            "374/374 [==============================] - 1s 2ms/step - loss: 0.3878 - accuracy: 0.8212\n",
            "Epoch 18/75\n",
            "374/374 [==============================] - 1s 2ms/step - loss: 0.3833 - accuracy: 0.8212\n",
            "Epoch 19/75\n",
            "374/374 [==============================] - 1s 2ms/step - loss: 0.3799 - accuracy: 0.8241\n",
            "Epoch 20/75\n",
            "374/374 [==============================] - 1s 2ms/step - loss: 0.3806 - accuracy: 0.8255\n",
            "Epoch 21/75\n",
            "374/374 [==============================] - 1s 2ms/step - loss: 0.3751 - accuracy: 0.8259\n",
            "Epoch 22/75\n",
            "374/374 [==============================] - 1s 2ms/step - loss: 0.3816 - accuracy: 0.8221\n",
            "Epoch 23/75\n",
            "374/374 [==============================] - 1s 2ms/step - loss: 0.3800 - accuracy: 0.8253\n",
            "Epoch 24/75\n",
            "374/374 [==============================] - 1s 2ms/step - loss: 0.3694 - accuracy: 0.8301\n",
            "Epoch 25/75\n",
            "374/374 [==============================] - 1s 2ms/step - loss: 0.3700 - accuracy: 0.8318\n",
            "Epoch 26/75\n",
            "374/374 [==============================] - 1s 2ms/step - loss: 0.3540 - accuracy: 0.8377\n",
            "Epoch 27/75\n",
            "374/374 [==============================] - 1s 2ms/step - loss: 0.3662 - accuracy: 0.8303\n",
            "Epoch 28/75\n",
            "374/374 [==============================] - 1s 2ms/step - loss: 0.3684 - accuracy: 0.8274\n",
            "Epoch 29/75\n",
            "374/374 [==============================] - 1s 2ms/step - loss: 0.3536 - accuracy: 0.8370\n",
            "Epoch 30/75\n",
            "374/374 [==============================] - 1s 2ms/step - loss: 0.3586 - accuracy: 0.8344\n",
            "Epoch 31/75\n",
            "374/374 [==============================] - 1s 2ms/step - loss: 0.3561 - accuracy: 0.8335\n",
            "Epoch 32/75\n",
            "374/374 [==============================] - 1s 2ms/step - loss: 0.3538 - accuracy: 0.8376\n",
            "Epoch 33/75\n",
            "374/374 [==============================] - 1s 2ms/step - loss: 0.3483 - accuracy: 0.8418\n",
            "Epoch 34/75\n",
            "374/374 [==============================] - 1s 2ms/step - loss: 0.3513 - accuracy: 0.8356\n",
            "Epoch 35/75\n",
            "374/374 [==============================] - 1s 2ms/step - loss: 0.3499 - accuracy: 0.8404\n",
            "Epoch 36/75\n",
            "374/374 [==============================] - 1s 2ms/step - loss: 0.3541 - accuracy: 0.8353\n",
            "Epoch 37/75\n",
            "374/374 [==============================] - 1s 2ms/step - loss: 0.3516 - accuracy: 0.8402\n",
            "Epoch 38/75\n",
            "374/374 [==============================] - 1s 2ms/step - loss: 0.3481 - accuracy: 0.8424\n",
            "Epoch 39/75\n",
            "374/374 [==============================] - 1s 2ms/step - loss: 0.3535 - accuracy: 0.8329\n",
            "Epoch 40/75\n",
            "374/374 [==============================] - 1s 2ms/step - loss: 0.3375 - accuracy: 0.8501\n",
            "Epoch 41/75\n",
            "374/374 [==============================] - 1s 2ms/step - loss: 0.3365 - accuracy: 0.8480\n",
            "Epoch 42/75\n",
            "374/374 [==============================] - 1s 2ms/step - loss: 0.3459 - accuracy: 0.8411\n",
            "Epoch 43/75\n",
            "374/374 [==============================] - 1s 2ms/step - loss: 0.3360 - accuracy: 0.8455\n",
            "Epoch 44/75\n",
            "374/374 [==============================] - 1s 2ms/step - loss: 0.3373 - accuracy: 0.8437\n",
            "Epoch 45/75\n",
            "374/374 [==============================] - 1s 2ms/step - loss: 0.3498 - accuracy: 0.8426\n",
            "Epoch 46/75\n",
            "374/374 [==============================] - 1s 2ms/step - loss: 0.3393 - accuracy: 0.8421\n",
            "Epoch 47/75\n",
            "374/374 [==============================] - 1s 2ms/step - loss: 0.3311 - accuracy: 0.8468\n",
            "Epoch 48/75\n",
            "374/374 [==============================] - 1s 2ms/step - loss: 0.3322 - accuracy: 0.8513\n",
            "Epoch 49/75\n",
            "374/374 [==============================] - 1s 2ms/step - loss: 0.3364 - accuracy: 0.8465\n",
            "Epoch 50/75\n",
            "374/374 [==============================] - 1s 2ms/step - loss: 0.3311 - accuracy: 0.8523\n",
            "Epoch 51/75\n",
            "374/374 [==============================] - 1s 2ms/step - loss: 0.3297 - accuracy: 0.8534\n",
            "Epoch 52/75\n",
            "374/374 [==============================] - 1s 2ms/step - loss: 0.3308 - accuracy: 0.8540\n",
            "Epoch 53/75\n",
            "374/374 [==============================] - 1s 2ms/step - loss: 0.3266 - accuracy: 0.8542\n",
            "Epoch 54/75\n",
            "374/374 [==============================] - 1s 2ms/step - loss: 0.3305 - accuracy: 0.8485\n",
            "Epoch 55/75\n",
            "374/374 [==============================] - 1s 2ms/step - loss: 0.3259 - accuracy: 0.8511\n",
            "Epoch 56/75\n",
            "374/374 [==============================] - 1s 2ms/step - loss: 0.3338 - accuracy: 0.8507\n",
            "Epoch 57/75\n",
            "374/374 [==============================] - 1s 2ms/step - loss: 0.3181 - accuracy: 0.8596\n",
            "Epoch 58/75\n",
            "374/374 [==============================] - 1s 2ms/step - loss: 0.3195 - accuracy: 0.8570\n",
            "Epoch 59/75\n",
            "374/374 [==============================] - 1s 2ms/step - loss: 0.3112 - accuracy: 0.8602\n",
            "Epoch 60/75\n",
            "374/374 [==============================] - 1s 2ms/step - loss: 0.3226 - accuracy: 0.8551\n",
            "Epoch 61/75\n",
            "374/374 [==============================] - 1s 2ms/step - loss: 0.3155 - accuracy: 0.8556\n",
            "Epoch 62/75\n",
            "374/374 [==============================] - 1s 2ms/step - loss: 0.3184 - accuracy: 0.8565\n",
            "Epoch 63/75\n",
            "374/374 [==============================] - 1s 2ms/step - loss: 0.3100 - accuracy: 0.8608\n",
            "Epoch 64/75\n",
            "374/374 [==============================] - 1s 2ms/step - loss: 0.3065 - accuracy: 0.8600\n",
            "Epoch 65/75\n",
            "374/374 [==============================] - 1s 2ms/step - loss: 0.3146 - accuracy: 0.8558\n",
            "Epoch 66/75\n",
            "374/374 [==============================] - 1s 2ms/step - loss: 0.3083 - accuracy: 0.8624\n",
            "Epoch 67/75\n",
            "374/374 [==============================] - 1s 2ms/step - loss: 0.3112 - accuracy: 0.8593\n",
            "Epoch 68/75\n",
            "374/374 [==============================] - 1s 2ms/step - loss: 0.3060 - accuracy: 0.8690\n",
            "Epoch 69/75\n",
            "374/374 [==============================] - 1s 2ms/step - loss: 0.3146 - accuracy: 0.8565\n",
            "Epoch 70/75\n",
            "374/374 [==============================] - 1s 2ms/step - loss: 0.2992 - accuracy: 0.8658\n",
            "Epoch 71/75\n",
            "374/374 [==============================] - 1s 2ms/step - loss: 0.3012 - accuracy: 0.8660\n",
            "Epoch 72/75\n",
            "374/374 [==============================] - 1s 2ms/step - loss: 0.3039 - accuracy: 0.8683\n",
            "Epoch 73/75\n",
            "374/374 [==============================] - 1s 2ms/step - loss: 0.3030 - accuracy: 0.8670\n",
            "Epoch 74/75\n",
            "374/374 [==============================] - 1s 2ms/step - loss: 0.3010 - accuracy: 0.8670\n",
            "Epoch 75/75\n",
            "374/374 [==============================] - 1s 2ms/step - loss: 0.2951 - accuracy: 0.8736\n"
          ],
          "name": "stdout"
        },
        {
          "output_type": "execute_result",
          "data": {
            "text/plain": [
              "<tensorflow.python.keras.callbacks.History at 0x7ff99d1d7a10>"
            ]
          },
          "metadata": {
            "tags": []
          },
          "execution_count": 45
        }
      ]
    },
    {
      "cell_type": "code",
      "metadata": {
        "colab": {
          "base_uri": "https://localhost:8080/"
        },
        "id": "ck3z5SJioLrD",
        "outputId": "d8046778-1aa4-4bad-b24c-ebe41ee19fd4"
      },
      "source": [
        "model.evaluate(X_test,y_test)"
      ],
      "execution_count": null,
      "outputs": [
        {
          "output_type": "stream",
          "text": [
            "125/125 [==============================] - 0s 1ms/step - loss: 0.3805 - accuracy: 0.8270\n"
          ],
          "name": "stdout"
        },
        {
          "output_type": "execute_result",
          "data": {
            "text/plain": [
              "[0.38046517968177795, 0.8269713521003723]"
            ]
          },
          "metadata": {
            "tags": []
          },
          "execution_count": 46
        }
      ]
    },
    {
      "cell_type": "code",
      "metadata": {
        "id": "KXaKqnPToZ7z"
      },
      "source": [
        "#here smote works better opposite of our previous case"
      ],
      "execution_count": null,
      "outputs": []
    },
    {
      "cell_type": "code",
      "metadata": {
        "id": "QE52O6HrofVa"
      },
      "source": [
        ""
      ],
      "execution_count": null,
      "outputs": []
    }
  ]
}