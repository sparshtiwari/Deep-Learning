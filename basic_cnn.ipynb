{
  "nbformat": 4,
  "nbformat_minor": 0,
  "metadata": {
    "colab": {
      "name": "basic_cnn",
      "provenance": [],
      "collapsed_sections": [],
      "authorship_tag": "ABX9TyPYFm6TWyQYdf4DCOkdRi8u"
    },
    "kernelspec": {
      "name": "python3",
      "display_name": "Python 3"
    }
  },
  "cells": [
    {
      "cell_type": "code",
      "metadata": {
        "id": "B0o_EGmqqVoR",
        "colab_type": "code",
        "colab": {}
      },
      "source": [
        "import numpy as np\n",
        "import matplotlib.pyplot as plt"
      ],
      "execution_count": null,
      "outputs": []
    },
    {
      "cell_type": "code",
      "metadata": {
        "id": "Hmk074-xtcWV",
        "colab_type": "code",
        "colab": {}
      },
      "source": [
        "plt.rcParams['figure.figsize'] = (5, 4)\n",
        "plt.rcParams['image.interpolation'] = 'nearest'\n",
        "plt.rcParams['image.cmap'] = 'gray'"
      ],
      "execution_count": null,
      "outputs": []
    },
    {
      "cell_type": "code",
      "metadata": {
        "id": "hfh7fTy6ltgV",
        "colab_type": "code",
        "colab": {}
      },
      "source": [
        "def zero_pad(X, pad): #defining a zero padding function to apply it to our filter\n",
        "  X_pad = np.pad(X, ((0,0), (pad, pad), (pad, pad), (0,0)), 'constant')\n",
        "  return X_pad"
      ],
      "execution_count": null,
      "outputs": []
    },
    {
      "cell_type": "code",
      "metadata": {
        "id": "VBaGP031nzEI",
        "colab_type": "code",
        "colab": {
          "base_uri": "https://localhost:8080/",
          "height": 412
        },
        "outputId": "288dd441-a134-4992-b89b-ba856a358117"
      },
      "source": [
        "#Checking our above created function on a randomly generated data set.\n",
        "np.random.seed(1)\n",
        "x = np.random.randn(4, 3, 3, 2)\n",
        "x_pad = zero_pad(x, 2)\n",
        "print (\"x.shape =\", x.shape)\n",
        "print (\"x_pad.shape =\", x_pad.shape)\n",
        "print (\"x[1,1] =\", x[1,1])\n",
        "print (\"x_pad[1,1] =\", x_pad[1,1])\n",
        "\n",
        "fig, axarr = plt.subplots(1, 2)\n",
        "axarr[0].set_title('x')\n",
        "axarr[0].imshow(x[0,:,:,0])\n",
        "axarr[1].set_title('x_pad')\n",
        "axarr[1].imshow(x_pad[0,:,:,0])"
      ],
      "execution_count": null,
      "outputs": [
        {
          "output_type": "stream",
          "text": [
            "x.shape = (4, 3, 3, 2)\n",
            "x_pad.shape = (4, 7, 7, 2)\n",
            "x[1,1] = [[ 0.90085595 -0.68372786]\n",
            " [-0.12289023 -0.93576943]\n",
            " [-0.26788808  0.53035547]]\n",
            "x_pad[1,1] = [[0. 0.]\n",
            " [0. 0.]\n",
            " [0. 0.]\n",
            " [0. 0.]\n",
            " [0. 0.]\n",
            " [0. 0.]\n",
            " [0. 0.]]\n"
          ],
          "name": "stdout"
        },
        {
          "output_type": "execute_result",
          "data": {
            "text/plain": [
              "<matplotlib.image.AxesImage at 0x7f13a439dfd0>"
            ]
          },
          "metadata": {
            "tags": []
          },
          "execution_count": 4
        },
        {
          "output_type": "display_data",
          "data": {
            "image/png": "[encoded data removed]",
            "text/plain": [
              "<Figure size 360x288 with 2 Axes>"
            ]
          },
          "metadata": {
            "tags": [],
            "needs_background": "light"
          }
        }
      ]
    },
    {
      "cell_type": "code",
      "metadata": {
        "id": "4i6QcRpMqoPg",
        "colab_type": "code",
        "colab": {}
      },
      "source": [
        "def conv_single_step(a_slice_prev, W ,b): # Defining a single step covolution function.\n",
        "  s=np.multiply(a_slice_prev, W)\n",
        "  Z=np.sum(s)\n",
        "  Z= Z + float(b)\n",
        "  return Z\n"
      ],
      "execution_count": null,
      "outputs": []
    },
    {
      "cell_type": "code",
      "metadata": {
        "id": "Zi-LQptztE-g",
        "colab_type": "code",
        "colab": {
          "base_uri": "https://localhost:8080/",
          "height": 34
        },
        "outputId": "83d9209c-f92b-4041-8426-d7535e46075a"
      },
      "source": [
        "np.random.seed(1)\n",
        "a_slice_prev=np.random.randn(4,4,3)\n",
        "W=np.random.randn(4,4,3)\n",
        "b=np.random.randn(1,1,1)\n",
        "\n",
        "Z=conv_single_step(a_slice_prev,W,b)\n",
        "print(Z)"
      ],
      "execution_count": null,
      "outputs": [
        {
          "output_type": "stream",
          "text": [
            "-6.999089450680221\n"
          ],
          "name": "stdout"
        }
      ]
    },
    {
      "cell_type": "code",
      "metadata": {
        "id": "ExLDdlrhznKH",
        "colab_type": "code",
        "colab": {}
      },
      "source": [
        "def conv_forward(A_prev, W, b, hypara): # Defining convolution function for forward propogation.\n",
        "  (m, n_H_prev, n_W_prev, n_C_prev) = A_prev.shape[0],A_prev.shape[1],A_prev.shape[2],A_prev.shape[3]\n",
        "  \n",
        "  (f, n_C_prev, n_C) = W.shape[0],W.shape[2],W.shape[3]\n",
        "\n",
        "  stride = hypara['stride']\n",
        "  pad = hypara['pad']\n",
        "\n",
        "  #o/p dimensions\n",
        "\n",
        "  n_H = int(((n_H_prev - f + (2 * pad))/stride) + 1)\n",
        "\n",
        "  n_W = int(((n_W_prev - f + (2 * pad))/stride) + 1)\n",
        "  \n",
        "  #inintializing o/p variable\n",
        "\n",
        "  Z = np.zeros((m, n_H, n_W, n_C))\n",
        "\n",
        "  A_prev_pad = zero_pad(A_prev, pad)\n",
        "#The code below is useful for slicing the portion on which convolution is going on\n",
        "  for i in range(m):\n",
        "    a_prev_pad = A_prev_pad[i]\n",
        "\n",
        "    for h in range(n_H):\n",
        "      for w in range(n_W):\n",
        "        for c in range(n_C):\n",
        "\n",
        "          vert_start = h * stride #since we slice the portions according to the stride\n",
        "          vert_end = vert_start + f\n",
        "          horiz_start = w * stride\n",
        "          horiz_end = horiz_start + f\n",
        "\n",
        "          a_slice_prev = a_prev_pad[vert_start:vert_end,horiz_start:horiz_end,:]\n",
        "          \n",
        "          Z[i, h, w, c] = conv_single_step(a_slice_prev,W[:,:,:,c],b[:,:,:,c])\n",
        "          #print(\"Z[3,2,1]\", Z[3,2,1])\n",
        "\n",
        "\n",
        "  assert(Z.shape == (m, n_H, n_W, n_C))\n",
        "  \n",
        "  cache = (A_prev, W, b, hypara)\n",
        "  #print(\"Z[3,2,1]\", Z[3,2,1])\n",
        "\n",
        "  return Z, cache"
      ],
      "execution_count": null,
      "outputs": []
    },
    {
      "cell_type": "code",
      "metadata": {
        "id": "nVk8IdFX8Rzp",
        "colab_type": "code",
        "colab": {
          "base_uri": "https://localhost:8080/",
          "height": 85
        },
        "outputId": "f9bbd786-70b6-4d76-fff9-ba58155e4b84"
      },
      "source": [
        "np.random.seed(1)\n",
        "A_prev = np.random.randn(10,4,4,3)\n",
        "W = np.random.randn(2,2,3,8)\n",
        "b = np.random.randn(1,1,1,8)\n",
        "hypara = {'pad' : 2,\n",
        "           'stride' : 2}\n",
        "\n",
        "Z, cache_conv = conv_forward(A_prev, W, b, hypara)\n",
        "#print(\"Z:\", Z)\n",
        "print(\"Z's mean =\", np.mean(Z))\n",
        "print(\"Z[3,2,1] =\", Z[3,2,1])\n",
        "print(\"cache_conv[0][1][2][3] =\", cache_conv[0][1][2][3])"
      ],
      "execution_count": null,
      "outputs": [
        {
          "output_type": "stream",
          "text": [
            "Z's mean = 0.048995203528855794\n",
            "Z[3,2,1] = [-0.61490741 -6.7439236  -2.55153897  1.75698377  3.56208902  0.53036437\n",
            "  5.18531798  8.75898442]\n",
            "cache_conv[0][1][2][3] = [-0.20075807  0.18656139  0.41005165]\n"
          ],
          "name": "stdout"
        }
      ]
    },
    {
      "cell_type": "code",
      "metadata": {
        "id": "npehT_WUBMJD",
        "colab_type": "code",
        "colab": {}
      },
      "source": [
        "def pool_forward(A_prev, hypara, mode='max'):\n",
        "  (m,n_H_prev,n_W_prev,n_C_prev) = A_prev.shape\n",
        "\n",
        "  f = hypara['f']\n",
        "  stride = hypara['stride']\n",
        "\n",
        "  n_H = int(((n_H_prev - f) / stride) + 1)\n",
        "\n",
        "  n_W = int(((n_W_prev - f) / stride) + 1)\n",
        "\n",
        "  n_C = n_C_prev\n",
        "\n",
        "  A = np.zeros((m,n_H,n_W,n_C))\n",
        "\n",
        "  for i in range(m):\n",
        "    for h in range(n_H):\n",
        "      for w in range(n_W):\n",
        "        for c in range(n_C):\n",
        "\n",
        "          vert_start = h * stride\n",
        "          vert_end = vert_start + f\n",
        "          horiz_start = w * stride\n",
        "          horiz_end = horiz_start + f\n",
        "\n",
        "\n",
        "          a_prev_slice = A_prev[i,vert_start:vert_end,horiz_start:horiz_end,c]\n",
        "\n",
        "          if mode == 'max':\n",
        "            A[i,h,w,c] = np.max(a_prev_slice)\n",
        "          elif mode == 'average':\n",
        "            A[i,h,w,c] = np.mean(a_prev_slice)\n",
        "\n",
        "  cache = (A_prev, hypara)\n",
        "\n",
        "  assert(A.shape == (m, n_H, n_W, n_C))\n",
        "\n",
        "  return A, cache\n"
      ],
      "execution_count": null,
      "outputs": []
    },
    {
      "cell_type": "code",
      "metadata": {
        "id": "ZMnGqwRHAwhF",
        "colab_type": "code",
        "colab": {
          "base_uri": "https://localhost:8080/",
          "height": 204
        },
        "outputId": "35d52499-d730-4a07-a9d0-da77001ea3f1"
      },
      "source": [
        "np.random.seed(1)\n",
        "A_prev = np.random.randn(2,4,4,3)\n",
        "hypara = {'stride' : 2,\n",
        "          'f' : 3}\n",
        "\n",
        "A, cache = pool_forward(A_prev, hypara)\n",
        "\n",
        "print(\"mode = max\")\n",
        "print(\"A =\", A)\n",
        "print()\n",
        "A, cache = pool_forward(A_prev, hypara, mode = \"average\")\n",
        "print(\"mode = average\")\n",
        "print(\"A =\", A)"
      ],
      "execution_count": null,
      "outputs": [
        {
          "output_type": "stream",
          "text": [
            "mode = max\n",
            "A = [[[[1.74481176 0.86540763 1.13376944]]]\n",
            "\n",
            "\n",
            " [[[1.13162939 1.51981682 2.18557541]]]]\n",
            "\n",
            "mode = average\n",
            "A = [[[[ 0.02105773 -0.20328806 -0.40389855]]]\n",
            "\n",
            "\n",
            " [[[-0.22154621  0.51716526  0.48155844]]]]\n"
          ],
          "name": "stdout"
        }
      ]
    },
    {
      "cell_type": "code",
      "metadata": {
        "id": "pnOh1N8UBm_l",
        "colab_type": "code",
        "colab": {}
      },
      "source": [
        ""
      ],
      "execution_count": null,
      "outputs": []
    }
  ]
}