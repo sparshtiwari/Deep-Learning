{
  "nbformat": 4,
  "nbformat_minor": 0,
  "metadata": {
    "colab": {
      "name": "Customer_Churn_telecom_kaggle.ipynb",
      "provenance": [],
      "authorship_tag": "ABX9TyMRsHfxtjdjigxxJL2Zi/84"
    },
    "kernelspec": {
      "name": "python3",
      "display_name": "Python 3"
    },
    "language_info": {
      "name": "python"
    }
  },
  "cells": [
    {
      "cell_type": "code",
      "metadata": {
        "id": "ioM21idClOlY"
      },
      "source": [
        "import numpy as np\n",
        "import pandas as pd\n",
        "import matplotlib.pyplot as plt\n",
        "import tensorflow as tf\n",
        "from tensorflow.keras.layers import Dense\n",
        "from tensorflow import keras\n",
        "from sklearn.model_selection import train_test_split\n",
        "import seaborn as sn\n",
        "%matplotlib inline"
      ],
      "execution_count": null,
      "outputs": []
    },
    {
      "cell_type": "code",
      "metadata": {
        "id": "03bcFlI3mAQ3"
      },
      "source": [
        "df = pd.read_csv('/customer_churn.csv')"
      ],
      "execution_count": null,
      "outputs": []
    },
    {
      "cell_type": "code",
      "metadata": {
        "colab": {
          "base_uri": "https://localhost:8080/"
        },
        "id": "ZDatXd-TmkZn",
        "outputId": "7c7c481f-613e-45cf-ae37-726c2effeec4"
      },
      "source": [
        "df.dtypes"
      ],
      "execution_count": null,
      "outputs": [
        {
          "output_type": "execute_result",
          "data": {
            "text/plain": [
              "customerID           object\n",
              "gender               object\n",
              "SeniorCitizen         int64\n",
              "Partner              object\n",
              "Dependents           object\n",
              "tenure                int64\n",
              "PhoneService         object\n",
              "MultipleLines        object\n",
              "InternetService      object\n",
              "OnlineSecurity       object\n",
              "OnlineBackup         object\n",
              "DeviceProtection     object\n",
              "TechSupport          object\n",
              "StreamingTV          object\n",
              "StreamingMovies      object\n",
              "Contract             object\n",
              "PaperlessBilling     object\n",
              "PaymentMethod        object\n",
              "MonthlyCharges      float64\n",
              "TotalCharges         object\n",
              "Churn                object\n",
              "dtype: object"
            ]
          },
          "metadata": {
            "tags": []
          },
          "execution_count": 4
        }
      ]
    },
    {
      "cell_type": "code",
      "metadata": {
        "id": "Ld9hpJ8_mwzW"
      },
      "source": [
        "## convert object to number "
      ],
      "execution_count": null,
      "outputs": []
    },
    {
      "cell_type": "code",
      "metadata": {
        "colab": {
          "base_uri": "https://localhost:8080/",
          "height": 299
        },
        "id": "jOlwVdP4nEEu",
        "outputId": "de0f2f56-c39f-4fb9-ff32-62344cf2abbe"
      },
      "source": [
        "df.head()"
      ],
      "execution_count": null,
      "outputs": [
        {
          "output_type": "execute_result",
          "data": {
            "text/html": [
              "<div>\n",
              "<style scoped>\n",
              "    .dataframe tbody tr th:only-of-type {\n",
              "        vertical-align: middle;\n",
              "    }\n",
              "\n",
              "    .dataframe tbody tr th {\n",
              "        vertical-align: top;\n",
              "    }\n",
              "\n",
              "    .dataframe thead th {\n",
              "        text-align: right;\n",
              "    }\n",
              "</style>\n",
              "<table border=\"1\" class=\"dataframe\">\n",
              "  <thead>\n",
              "    <tr style=\"text-align: right;\">\n",
              "      <th></th>\n",
              "      <th>customerID</th>\n",
              "      <th>gender</th>\n",
              "      <th>SeniorCitizen</th>\n",
              "      <th>Partner</th>\n",
              "      <th>Dependents</th>\n",
              "      <th>tenure</th>\n",
              "      <th>PhoneService</th>\n",
              "      <th>MultipleLines</th>\n",
              "      <th>InternetService</th>\n",
              "      <th>OnlineSecurity</th>\n",
              "      <th>OnlineBackup</th>\n",
              "      <th>DeviceProtection</th>\n",
              "      <th>TechSupport</th>\n",
              "      <th>StreamingTV</th>\n",
              "      <th>StreamingMovies</th>\n",
              "      <th>Contract</th>\n",
              "      <th>PaperlessBilling</th>\n",
              "      <th>PaymentMethod</th>\n",
              "      <th>MonthlyCharges</th>\n",
              "      <th>TotalCharges</th>\n",
              "      <th>Churn</th>\n",
              "    </tr>\n",
              "  </thead>\n",
              "  <tbody>\n",
              "    <tr>\n",
              "      <th>0</th>\n",
              "      <td>7590-VHVEG</td>\n",
              "      <td>Female</td>\n",
              "      <td>0</td>\n",
              "      <td>Yes</td>\n",
              "      <td>No</td>\n",
              "      <td>1</td>\n",
              "      <td>No</td>\n",
              "      <td>No phone service</td>\n",
              "      <td>DSL</td>\n",
              "      <td>No</td>\n",
              "      <td>Yes</td>\n",
              "      <td>No</td>\n",
              "      <td>No</td>\n",
              "      <td>No</td>\n",
              "      <td>No</td>\n",
              "      <td>Month-to-month</td>\n",
              "      <td>Yes</td>\n",
              "      <td>Electronic check</td>\n",
              "      <td>29.85</td>\n",
              "      <td>29.85</td>\n",
              "      <td>No</td>\n",
              "    </tr>\n",
              "    <tr>\n",
              "      <th>1</th>\n",
              "      <td>5575-GNVDE</td>\n",
              "      <td>Male</td>\n",
              "      <td>0</td>\n",
              "      <td>No</td>\n",
              "      <td>No</td>\n",
              "      <td>34</td>\n",
              "      <td>Yes</td>\n",
              "      <td>No</td>\n",
              "      <td>DSL</td>\n",
              "      <td>Yes</td>\n",
              "      <td>No</td>\n",
              "      <td>Yes</td>\n",
              "      <td>No</td>\n",
              "      <td>No</td>\n",
              "      <td>No</td>\n",
              "      <td>One year</td>\n",
              "      <td>No</td>\n",
              "      <td>Mailed check</td>\n",
              "      <td>56.95</td>\n",
              "      <td>1889.5</td>\n",
              "      <td>No</td>\n",
              "    </tr>\n",
              "    <tr>\n",
              "      <th>2</th>\n",
              "      <td>3668-QPYBK</td>\n",
              "      <td>Male</td>\n",
              "      <td>0</td>\n",
              "      <td>No</td>\n",
              "      <td>No</td>\n",
              "      <td>2</td>\n",
              "      <td>Yes</td>\n",
              "      <td>No</td>\n",
              "      <td>DSL</td>\n",
              "      <td>Yes</td>\n",
              "      <td>Yes</td>\n",
              "      <td>No</td>\n",
              "      <td>No</td>\n",
              "      <td>No</td>\n",
              "      <td>No</td>\n",
              "      <td>Month-to-month</td>\n",
              "      <td>Yes</td>\n",
              "      <td>Mailed check</td>\n",
              "      <td>53.85</td>\n",
              "      <td>108.15</td>\n",
              "      <td>Yes</td>\n",
              "    </tr>\n",
              "    <tr>\n",
              "      <th>3</th>\n",
              "      <td>7795-CFOCW</td>\n",
              "      <td>Male</td>\n",
              "      <td>0</td>\n",
              "      <td>No</td>\n",
              "      <td>No</td>\n",
              "      <td>45</td>\n",
              "      <td>No</td>\n",
              "      <td>No phone service</td>\n",
              "      <td>DSL</td>\n",
              "      <td>Yes</td>\n",
              "      <td>No</td>\n",
              "      <td>Yes</td>\n",
              "      <td>Yes</td>\n",
              "      <td>No</td>\n",
              "      <td>No</td>\n",
              "      <td>One year</td>\n",
              "      <td>No</td>\n",
              "      <td>Bank transfer (automatic)</td>\n",
              "      <td>42.30</td>\n",
              "      <td>1840.75</td>\n",
              "      <td>No</td>\n",
              "    </tr>\n",
              "    <tr>\n",
              "      <th>4</th>\n",
              "      <td>9237-HQITU</td>\n",
              "      <td>Female</td>\n",
              "      <td>0</td>\n",
              "      <td>No</td>\n",
              "      <td>No</td>\n",
              "      <td>2</td>\n",
              "      <td>Yes</td>\n",
              "      <td>No</td>\n",
              "      <td>Fiber optic</td>\n",
              "      <td>No</td>\n",
              "      <td>No</td>\n",
              "      <td>No</td>\n",
              "      <td>No</td>\n",
              "      <td>No</td>\n",
              "      <td>No</td>\n",
              "      <td>Month-to-month</td>\n",
              "      <td>Yes</td>\n",
              "      <td>Electronic check</td>\n",
              "      <td>70.70</td>\n",
              "      <td>151.65</td>\n",
              "      <td>Yes</td>\n",
              "    </tr>\n",
              "  </tbody>\n",
              "</table>\n",
              "</div>"
            ],
            "text/plain": [
              "   customerID  gender  SeniorCitizen  ... MonthlyCharges TotalCharges  Churn\n",
              "0  7590-VHVEG  Female              0  ...          29.85        29.85     No\n",
              "1  5575-GNVDE    Male              0  ...          56.95       1889.5     No\n",
              "2  3668-QPYBK    Male              0  ...          53.85       108.15    Yes\n",
              "3  7795-CFOCW    Male              0  ...          42.30      1840.75     No\n",
              "4  9237-HQITU  Female              0  ...          70.70       151.65    Yes\n",
              "\n",
              "[5 rows x 21 columns]"
            ]
          },
          "metadata": {
            "tags": []
          },
          "execution_count": 6
        }
      ]
    },
    {
      "cell_type": "code",
      "metadata": {
        "id": "8siUrOlfqP2x"
      },
      "source": [
        "df.drop('customerID',axis=1,inplace=True)"
      ],
      "execution_count": null,
      "outputs": []
    },
    {
      "cell_type": "code",
      "metadata": {
        "colab": {
          "base_uri": "https://localhost:8080/",
          "height": 282
        },
        "id": "aE69osF3qduf",
        "outputId": "e35c5290-4c33-4e19-ceee-4014911de2ff"
      },
      "source": [
        "df.head()"
      ],
      "execution_count": null,
      "outputs": [
        {
          "output_type": "execute_result",
          "data": {
            "text/html": [
              "<div>\n",
              "<style scoped>\n",
              "    .dataframe tbody tr th:only-of-type {\n",
              "        vertical-align: middle;\n",
              "    }\n",
              "\n",
              "    .dataframe tbody tr th {\n",
              "        vertical-align: top;\n",
              "    }\n",
              "\n",
              "    .dataframe thead th {\n",
              "        text-align: right;\n",
              "    }\n",
              "</style>\n",
              "<table border=\"1\" class=\"dataframe\">\n",
              "  <thead>\n",
              "    <tr style=\"text-align: right;\">\n",
              "      <th></th>\n",
              "      <th>gender</th>\n",
              "      <th>SeniorCitizen</th>\n",
              "      <th>Partner</th>\n",
              "      <th>Dependents</th>\n",
              "      <th>tenure</th>\n",
              "      <th>PhoneService</th>\n",
              "      <th>MultipleLines</th>\n",
              "      <th>InternetService</th>\n",
              "      <th>OnlineSecurity</th>\n",
              "      <th>OnlineBackup</th>\n",
              "      <th>DeviceProtection</th>\n",
              "      <th>TechSupport</th>\n",
              "      <th>StreamingTV</th>\n",
              "      <th>StreamingMovies</th>\n",
              "      <th>Contract</th>\n",
              "      <th>PaperlessBilling</th>\n",
              "      <th>PaymentMethod</th>\n",
              "      <th>MonthlyCharges</th>\n",
              "      <th>TotalCharges</th>\n",
              "      <th>Churn</th>\n",
              "    </tr>\n",
              "  </thead>\n",
              "  <tbody>\n",
              "    <tr>\n",
              "      <th>0</th>\n",
              "      <td>Female</td>\n",
              "      <td>0</td>\n",
              "      <td>Yes</td>\n",
              "      <td>No</td>\n",
              "      <td>1</td>\n",
              "      <td>No</td>\n",
              "      <td>No phone service</td>\n",
              "      <td>DSL</td>\n",
              "      <td>No</td>\n",
              "      <td>Yes</td>\n",
              "      <td>No</td>\n",
              "      <td>No</td>\n",
              "      <td>No</td>\n",
              "      <td>No</td>\n",
              "      <td>Month-to-month</td>\n",
              "      <td>Yes</td>\n",
              "      <td>Electronic check</td>\n",
              "      <td>29.85</td>\n",
              "      <td>29.85</td>\n",
              "      <td>No</td>\n",
              "    </tr>\n",
              "    <tr>\n",
              "      <th>1</th>\n",
              "      <td>Male</td>\n",
              "      <td>0</td>\n",
              "      <td>No</td>\n",
              "      <td>No</td>\n",
              "      <td>34</td>\n",
              "      <td>Yes</td>\n",
              "      <td>No</td>\n",
              "      <td>DSL</td>\n",
              "      <td>Yes</td>\n",
              "      <td>No</td>\n",
              "      <td>Yes</td>\n",
              "      <td>No</td>\n",
              "      <td>No</td>\n",
              "      <td>No</td>\n",
              "      <td>One year</td>\n",
              "      <td>No</td>\n",
              "      <td>Mailed check</td>\n",
              "      <td>56.95</td>\n",
              "      <td>1889.5</td>\n",
              "      <td>No</td>\n",
              "    </tr>\n",
              "    <tr>\n",
              "      <th>2</th>\n",
              "      <td>Male</td>\n",
              "      <td>0</td>\n",
              "      <td>No</td>\n",
              "      <td>No</td>\n",
              "      <td>2</td>\n",
              "      <td>Yes</td>\n",
              "      <td>No</td>\n",
              "      <td>DSL</td>\n",
              "      <td>Yes</td>\n",
              "      <td>Yes</td>\n",
              "      <td>No</td>\n",
              "      <td>No</td>\n",
              "      <td>No</td>\n",
              "      <td>No</td>\n",
              "      <td>Month-to-month</td>\n",
              "      <td>Yes</td>\n",
              "      <td>Mailed check</td>\n",
              "      <td>53.85</td>\n",
              "      <td>108.15</td>\n",
              "      <td>Yes</td>\n",
              "    </tr>\n",
              "    <tr>\n",
              "      <th>3</th>\n",
              "      <td>Male</td>\n",
              "      <td>0</td>\n",
              "      <td>No</td>\n",
              "      <td>No</td>\n",
              "      <td>45</td>\n",
              "      <td>No</td>\n",
              "      <td>No phone service</td>\n",
              "      <td>DSL</td>\n",
              "      <td>Yes</td>\n",
              "      <td>No</td>\n",
              "      <td>Yes</td>\n",
              "      <td>Yes</td>\n",
              "      <td>No</td>\n",
              "      <td>No</td>\n",
              "      <td>One year</td>\n",
              "      <td>No</td>\n",
              "      <td>Bank transfer (automatic)</td>\n",
              "      <td>42.30</td>\n",
              "      <td>1840.75</td>\n",
              "      <td>No</td>\n",
              "    </tr>\n",
              "    <tr>\n",
              "      <th>4</th>\n",
              "      <td>Female</td>\n",
              "      <td>0</td>\n",
              "      <td>No</td>\n",
              "      <td>No</td>\n",
              "      <td>2</td>\n",
              "      <td>Yes</td>\n",
              "      <td>No</td>\n",
              "      <td>Fiber optic</td>\n",
              "      <td>No</td>\n",
              "      <td>No</td>\n",
              "      <td>No</td>\n",
              "      <td>No</td>\n",
              "      <td>No</td>\n",
              "      <td>No</td>\n",
              "      <td>Month-to-month</td>\n",
              "      <td>Yes</td>\n",
              "      <td>Electronic check</td>\n",
              "      <td>70.70</td>\n",
              "      <td>151.65</td>\n",
              "      <td>Yes</td>\n",
              "    </tr>\n",
              "  </tbody>\n",
              "</table>\n",
              "</div>"
            ],
            "text/plain": [
              "   gender  SeniorCitizen Partner  ... MonthlyCharges  TotalCharges Churn\n",
              "0  Female              0     Yes  ...          29.85         29.85    No\n",
              "1    Male              0      No  ...          56.95        1889.5    No\n",
              "2    Male              0      No  ...          53.85        108.15   Yes\n",
              "3    Male              0      No  ...          42.30       1840.75    No\n",
              "4  Female              0      No  ...          70.70        151.65   Yes\n",
              "\n",
              "[5 rows x 20 columns]"
            ]
          },
          "metadata": {
            "tags": []
          },
          "execution_count": 8
        }
      ]
    },
    {
      "cell_type": "code",
      "metadata": {
        "id": "PVx1Rnttq4mH"
      },
      "source": [
        "# Totalcharges is number in the table but its data type is obj so there is some inconsistency in the data we need to rectify"
      ],
      "execution_count": null,
      "outputs": []
    },
    {
      "cell_type": "code",
      "metadata": {
        "colab": {
          "base_uri": "https://localhost:8080/"
        },
        "id": "qf0BDenGqfr2",
        "outputId": "d4a24763-7f4d-48f5-a5ab-cdb52010dd7d"
      },
      "source": [
        "pd.to_numeric(df.TotalCharges,errors='coerce').isnull().sum()"
      ],
      "execution_count": null,
      "outputs": [
        {
          "output_type": "execute_result",
          "data": {
            "text/plain": [
              "11"
            ]
          },
          "metadata": {
            "tags": []
          },
          "execution_count": 10
        }
      ]
    },
    {
      "cell_type": "code",
      "metadata": {
        "id": "SrWjFaICqqwu"
      },
      "source": [
        "#11 non int values are there lets check those"
      ],
      "execution_count": null,
      "outputs": []
    },
    {
      "cell_type": "code",
      "metadata": {
        "colab": {
          "base_uri": "https://localhost:8080/",
          "height": 544
        },
        "id": "mo5ObuOnrry_",
        "outputId": "7509d2ee-ce2b-41e1-c8e5-25aff064459e"
      },
      "source": [
        "df[pd.to_numeric(df.TotalCharges,errors='coerce').isnull()]"
      ],
      "execution_count": null,
      "outputs": [
        {
          "output_type": "execute_result",
          "data": {
            "text/html": [
              "<div>\n",
              "<style scoped>\n",
              "    .dataframe tbody tr th:only-of-type {\n",
              "        vertical-align: middle;\n",
              "    }\n",
              "\n",
              "    .dataframe tbody tr th {\n",
              "        vertical-align: top;\n",
              "    }\n",
              "\n",
              "    .dataframe thead th {\n",
              "        text-align: right;\n",
              "    }\n",
              "</style>\n",
              "<table border=\"1\" class=\"dataframe\">\n",
              "  <thead>\n",
              "    <tr style=\"text-align: right;\">\n",
              "      <th></th>\n",
              "      <th>gender</th>\n",
              "      <th>SeniorCitizen</th>\n",
              "      <th>Partner</th>\n",
              "      <th>Dependents</th>\n",
              "      <th>tenure</th>\n",
              "      <th>PhoneService</th>\n",
              "      <th>MultipleLines</th>\n",
              "      <th>InternetService</th>\n",
              "      <th>OnlineSecurity</th>\n",
              "      <th>OnlineBackup</th>\n",
              "      <th>DeviceProtection</th>\n",
              "      <th>TechSupport</th>\n",
              "      <th>StreamingTV</th>\n",
              "      <th>StreamingMovies</th>\n",
              "      <th>Contract</th>\n",
              "      <th>PaperlessBilling</th>\n",
              "      <th>PaymentMethod</th>\n",
              "      <th>MonthlyCharges</th>\n",
              "      <th>TotalCharges</th>\n",
              "      <th>Churn</th>\n",
              "    </tr>\n",
              "  </thead>\n",
              "  <tbody>\n",
              "    <tr>\n",
              "      <th>488</th>\n",
              "      <td>Female</td>\n",
              "      <td>0</td>\n",
              "      <td>Yes</td>\n",
              "      <td>Yes</td>\n",
              "      <td>0</td>\n",
              "      <td>No</td>\n",
              "      <td>No phone service</td>\n",
              "      <td>DSL</td>\n",
              "      <td>Yes</td>\n",
              "      <td>No</td>\n",
              "      <td>Yes</td>\n",
              "      <td>Yes</td>\n",
              "      <td>Yes</td>\n",
              "      <td>No</td>\n",
              "      <td>Two year</td>\n",
              "      <td>Yes</td>\n",
              "      <td>Bank transfer (automatic)</td>\n",
              "      <td>52.55</td>\n",
              "      <td></td>\n",
              "      <td>No</td>\n",
              "    </tr>\n",
              "    <tr>\n",
              "      <th>753</th>\n",
              "      <td>Male</td>\n",
              "      <td>0</td>\n",
              "      <td>No</td>\n",
              "      <td>Yes</td>\n",
              "      <td>0</td>\n",
              "      <td>Yes</td>\n",
              "      <td>No</td>\n",
              "      <td>No</td>\n",
              "      <td>No internet service</td>\n",
              "      <td>No internet service</td>\n",
              "      <td>No internet service</td>\n",
              "      <td>No internet service</td>\n",
              "      <td>No internet service</td>\n",
              "      <td>No internet service</td>\n",
              "      <td>Two year</td>\n",
              "      <td>No</td>\n",
              "      <td>Mailed check</td>\n",
              "      <td>20.25</td>\n",
              "      <td></td>\n",
              "      <td>No</td>\n",
              "    </tr>\n",
              "    <tr>\n",
              "      <th>936</th>\n",
              "      <td>Female</td>\n",
              "      <td>0</td>\n",
              "      <td>Yes</td>\n",
              "      <td>Yes</td>\n",
              "      <td>0</td>\n",
              "      <td>Yes</td>\n",
              "      <td>No</td>\n",
              "      <td>DSL</td>\n",
              "      <td>Yes</td>\n",
              "      <td>Yes</td>\n",
              "      <td>Yes</td>\n",
              "      <td>No</td>\n",
              "      <td>Yes</td>\n",
              "      <td>Yes</td>\n",
              "      <td>Two year</td>\n",
              "      <td>No</td>\n",
              "      <td>Mailed check</td>\n",
              "      <td>80.85</td>\n",
              "      <td></td>\n",
              "      <td>No</td>\n",
              "    </tr>\n",
              "    <tr>\n",
              "      <th>1082</th>\n",
              "      <td>Male</td>\n",
              "      <td>0</td>\n",
              "      <td>Yes</td>\n",
              "      <td>Yes</td>\n",
              "      <td>0</td>\n",
              "      <td>Yes</td>\n",
              "      <td>Yes</td>\n",
              "      <td>No</td>\n",
              "      <td>No internet service</td>\n",
              "      <td>No internet service</td>\n",
              "      <td>No internet service</td>\n",
              "      <td>No internet service</td>\n",
              "      <td>No internet service</td>\n",
              "      <td>No internet service</td>\n",
              "      <td>Two year</td>\n",
              "      <td>No</td>\n",
              "      <td>Mailed check</td>\n",
              "      <td>25.75</td>\n",
              "      <td></td>\n",
              "      <td>No</td>\n",
              "    </tr>\n",
              "    <tr>\n",
              "      <th>1340</th>\n",
              "      <td>Female</td>\n",
              "      <td>0</td>\n",
              "      <td>Yes</td>\n",
              "      <td>Yes</td>\n",
              "      <td>0</td>\n",
              "      <td>No</td>\n",
              "      <td>No phone service</td>\n",
              "      <td>DSL</td>\n",
              "      <td>Yes</td>\n",
              "      <td>Yes</td>\n",
              "      <td>Yes</td>\n",
              "      <td>Yes</td>\n",
              "      <td>Yes</td>\n",
              "      <td>No</td>\n",
              "      <td>Two year</td>\n",
              "      <td>No</td>\n",
              "      <td>Credit card (automatic)</td>\n",
              "      <td>56.05</td>\n",
              "      <td></td>\n",
              "      <td>No</td>\n",
              "    </tr>\n",
              "    <tr>\n",
              "      <th>3331</th>\n",
              "      <td>Male</td>\n",
              "      <td>0</td>\n",
              "      <td>Yes</td>\n",
              "      <td>Yes</td>\n",
              "      <td>0</td>\n",
              "      <td>Yes</td>\n",
              "      <td>No</td>\n",
              "      <td>No</td>\n",
              "      <td>No internet service</td>\n",
              "      <td>No internet service</td>\n",
              "      <td>No internet service</td>\n",
              "      <td>No internet service</td>\n",
              "      <td>No internet service</td>\n",
              "      <td>No internet service</td>\n",
              "      <td>Two year</td>\n",
              "      <td>No</td>\n",
              "      <td>Mailed check</td>\n",
              "      <td>19.85</td>\n",
              "      <td></td>\n",
              "      <td>No</td>\n",
              "    </tr>\n",
              "    <tr>\n",
              "      <th>3826</th>\n",
              "      <td>Male</td>\n",
              "      <td>0</td>\n",
              "      <td>Yes</td>\n",
              "      <td>Yes</td>\n",
              "      <td>0</td>\n",
              "      <td>Yes</td>\n",
              "      <td>Yes</td>\n",
              "      <td>No</td>\n",
              "      <td>No internet service</td>\n",
              "      <td>No internet service</td>\n",
              "      <td>No internet service</td>\n",
              "      <td>No internet service</td>\n",
              "      <td>No internet service</td>\n",
              "      <td>No internet service</td>\n",
              "      <td>Two year</td>\n",
              "      <td>No</td>\n",
              "      <td>Mailed check</td>\n",
              "      <td>25.35</td>\n",
              "      <td></td>\n",
              "      <td>No</td>\n",
              "    </tr>\n",
              "    <tr>\n",
              "      <th>4380</th>\n",
              "      <td>Female</td>\n",
              "      <td>0</td>\n",
              "      <td>Yes</td>\n",
              "      <td>Yes</td>\n",
              "      <td>0</td>\n",
              "      <td>Yes</td>\n",
              "      <td>No</td>\n",
              "      <td>No</td>\n",
              "      <td>No internet service</td>\n",
              "      <td>No internet service</td>\n",
              "      <td>No internet service</td>\n",
              "      <td>No internet service</td>\n",
              "      <td>No internet service</td>\n",
              "      <td>No internet service</td>\n",
              "      <td>Two year</td>\n",
              "      <td>No</td>\n",
              "      <td>Mailed check</td>\n",
              "      <td>20.00</td>\n",
              "      <td></td>\n",
              "      <td>No</td>\n",
              "    </tr>\n",
              "    <tr>\n",
              "      <th>5218</th>\n",
              "      <td>Male</td>\n",
              "      <td>0</td>\n",
              "      <td>Yes</td>\n",
              "      <td>Yes</td>\n",
              "      <td>0</td>\n",
              "      <td>Yes</td>\n",
              "      <td>No</td>\n",
              "      <td>No</td>\n",
              "      <td>No internet service</td>\n",
              "      <td>No internet service</td>\n",
              "      <td>No internet service</td>\n",
              "      <td>No internet service</td>\n",
              "      <td>No internet service</td>\n",
              "      <td>No internet service</td>\n",
              "      <td>One year</td>\n",
              "      <td>Yes</td>\n",
              "      <td>Mailed check</td>\n",
              "      <td>19.70</td>\n",
              "      <td></td>\n",
              "      <td>No</td>\n",
              "    </tr>\n",
              "    <tr>\n",
              "      <th>6670</th>\n",
              "      <td>Female</td>\n",
              "      <td>0</td>\n",
              "      <td>Yes</td>\n",
              "      <td>Yes</td>\n",
              "      <td>0</td>\n",
              "      <td>Yes</td>\n",
              "      <td>Yes</td>\n",
              "      <td>DSL</td>\n",
              "      <td>No</td>\n",
              "      <td>Yes</td>\n",
              "      <td>Yes</td>\n",
              "      <td>Yes</td>\n",
              "      <td>Yes</td>\n",
              "      <td>No</td>\n",
              "      <td>Two year</td>\n",
              "      <td>No</td>\n",
              "      <td>Mailed check</td>\n",
              "      <td>73.35</td>\n",
              "      <td></td>\n",
              "      <td>No</td>\n",
              "    </tr>\n",
              "    <tr>\n",
              "      <th>6754</th>\n",
              "      <td>Male</td>\n",
              "      <td>0</td>\n",
              "      <td>No</td>\n",
              "      <td>Yes</td>\n",
              "      <td>0</td>\n",
              "      <td>Yes</td>\n",
              "      <td>Yes</td>\n",
              "      <td>DSL</td>\n",
              "      <td>Yes</td>\n",
              "      <td>Yes</td>\n",
              "      <td>No</td>\n",
              "      <td>Yes</td>\n",
              "      <td>No</td>\n",
              "      <td>No</td>\n",
              "      <td>Two year</td>\n",
              "      <td>Yes</td>\n",
              "      <td>Bank transfer (automatic)</td>\n",
              "      <td>61.90</td>\n",
              "      <td></td>\n",
              "      <td>No</td>\n",
              "    </tr>\n",
              "  </tbody>\n",
              "</table>\n",
              "</div>"
            ],
            "text/plain": [
              "      gender  SeniorCitizen Partner  ... MonthlyCharges  TotalCharges Churn\n",
              "488   Female              0     Yes  ...          52.55                  No\n",
              "753     Male              0      No  ...          20.25                  No\n",
              "936   Female              0     Yes  ...          80.85                  No\n",
              "1082    Male              0     Yes  ...          25.75                  No\n",
              "1340  Female              0     Yes  ...          56.05                  No\n",
              "3331    Male              0     Yes  ...          19.85                  No\n",
              "3826    Male              0     Yes  ...          25.35                  No\n",
              "4380  Female              0     Yes  ...          20.00                  No\n",
              "5218    Male              0     Yes  ...          19.70                  No\n",
              "6670  Female              0     Yes  ...          73.35                  No\n",
              "6754    Male              0      No  ...          61.90                  No\n",
              "\n",
              "[11 rows x 20 columns]"
            ]
          },
          "metadata": {
            "tags": []
          },
          "execution_count": 12
        }
      ]
    },
    {
      "cell_type": "code",
      "metadata": {
        "id": "wLKdmeDar_Wu"
      },
      "source": [
        "#these are the cells with blank total charges hence the error\n",
        "#since they are just 11 we can drop them"
      ],
      "execution_count": null,
      "outputs": []
    },
    {
      "cell_type": "code",
      "metadata": {
        "id": "31pNXEf-sLdn"
      },
      "source": [
        "df = df[df.TotalCharges!=' ']"
      ],
      "execution_count": null,
      "outputs": []
    },
    {
      "cell_type": "code",
      "metadata": {
        "id": "ifRPHbLqsiPP"
      },
      "source": [
        "df.TotalCharges = pd.to_numeric(df.TotalCharges)"
      ],
      "execution_count": null,
      "outputs": []
    },
    {
      "cell_type": "code",
      "metadata": {
        "colab": {
          "base_uri": "https://localhost:8080/"
        },
        "id": "7yWjrBDcsXaH",
        "outputId": "76bc8868-3256-4e37-cf05-127c61dfa9bf"
      },
      "source": [
        "df.dtypes"
      ],
      "execution_count": null,
      "outputs": [
        {
          "output_type": "execute_result",
          "data": {
            "text/plain": [
              "gender               object\n",
              "SeniorCitizen         int64\n",
              "Partner              object\n",
              "Dependents           object\n",
              "tenure                int64\n",
              "PhoneService         object\n",
              "MultipleLines        object\n",
              "InternetService      object\n",
              "OnlineSecurity       object\n",
              "OnlineBackup         object\n",
              "DeviceProtection     object\n",
              "TechSupport          object\n",
              "StreamingTV          object\n",
              "StreamingMovies      object\n",
              "Contract             object\n",
              "PaperlessBilling     object\n",
              "PaymentMethod        object\n",
              "MonthlyCharges      float64\n",
              "TotalCharges        float64\n",
              "Churn                object\n",
              "dtype: object"
            ]
          },
          "metadata": {
            "tags": []
          },
          "execution_count": 16
        }
      ]
    },
    {
      "cell_type": "code",
      "metadata": {
        "id": "8PyNP4RFstLn"
      },
      "source": [
        "churn_no_t = df[df.Churn == 'No'].tenure"
      ],
      "execution_count": null,
      "outputs": []
    },
    {
      "cell_type": "code",
      "metadata": {
        "id": "2M9V4cz3vxGA"
      },
      "source": [
        "churn_yes_t = df[df.Churn == 'Yes'].tenure"
      ],
      "execution_count": null,
      "outputs": []
    },
    {
      "cell_type": "code",
      "metadata": {
        "colab": {
          "base_uri": "https://localhost:8080/"
        },
        "id": "A67vtu0Pv4jo",
        "outputId": "7ba0fe65-221c-4b13-9a8c-ac732c006634"
      },
      "source": [
        "churn_no_t"
      ],
      "execution_count": null,
      "outputs": [
        {
          "output_type": "execute_result",
          "data": {
            "text/plain": [
              "0        1\n",
              "1       34\n",
              "3       45\n",
              "6       22\n",
              "7       10\n",
              "        ..\n",
              "7037    72\n",
              "7038    24\n",
              "7039    72\n",
              "7040    11\n",
              "7042    66\n",
              "Name: tenure, Length: 5163, dtype: int64"
            ]
          },
          "metadata": {
            "tags": []
          },
          "execution_count": 19
        }
      ]
    },
    {
      "cell_type": "code",
      "metadata": {
        "colab": {
          "base_uri": "https://localhost:8080/",
          "height": 350
        },
        "id": "tEXiKHL-v5zg",
        "outputId": "1ee27102-c716-48a0-8e79-4874d075f9fa"
      },
      "source": [
        "plt.xlabel('Tenure')\n",
        "plt.ylabel('No. Of Customers')\n",
        "plt.hist([churn_yes_t,churn_no_t],label=['Churn = Y','Churn = N '])\n",
        "plt.legend()"
      ],
      "execution_count": null,
      "outputs": [
        {
          "output_type": "stream",
          "text": [
            "/usr/local/lib/python3.7/dist-packages/numpy/core/_asarray.py:83: VisibleDeprecationWarning: Creating an ndarray from ragged nested sequences (which is a list-or-tuple of lists-or-tuples-or ndarrays with different lengths or shapes) is deprecated. If you meant to do this, you must specify 'dtype=object' when creating the ndarray\n",
            "  return array(a, dtype, copy=False, order=order)\n"
          ],
          "name": "stderr"
        },
        {
          "output_type": "execute_result",
          "data": {
            "text/plain": [
              "<matplotlib.legend.Legend at 0x7fd04e4a95d0>"
            ]
          },
          "metadata": {
            "tags": []
          },
          "execution_count": 20
        },
        {
          "output_type": "display_data",
          "data": {
            "image/png": "[encoded data removed]",
            "text/plain": [
              "<Figure size 432x288 with 1 Axes>"
            ]
          },
          "metadata": {
            "tags": [],
            "needs_background": "light"
          }
        }
      ]
    },
    {
      "cell_type": "code",
      "metadata": {
        "id": "IE4yx6O-wHfQ"
      },
      "source": [
        "# we can see that the customers who are from a long time have a very low churn rate while the churn rate for customers is high in the 0 -10 months range "
      ],
      "execution_count": null,
      "outputs": []
    },
    {
      "cell_type": "code",
      "metadata": {
        "id": "MxDS2HZyw7E_"
      },
      "source": [
        "# now lets see another based on the charges"
      ],
      "execution_count": null,
      "outputs": []
    },
    {
      "cell_type": "code",
      "metadata": {
        "id": "tdxBAO5aw-_O"
      },
      "source": [
        "churn_no_c = df[df.Churn == 'No'].MonthlyCharges"
      ],
      "execution_count": null,
      "outputs": []
    },
    {
      "cell_type": "code",
      "metadata": {
        "id": "5sAOt9Z_xgrP"
      },
      "source": [
        "churn_yes_c = df[df.Churn == 'Yes'].MonthlyCharges"
      ],
      "execution_count": null,
      "outputs": []
    },
    {
      "cell_type": "code",
      "metadata": {
        "colab": {
          "base_uri": "https://localhost:8080/",
          "height": 350
        },
        "id": "nphsaip_xlff",
        "outputId": "66d1e34d-1a9c-4e23-9b50-c56cb8a3914d"
      },
      "source": [
        "plt.xlabel('Monthly Charges')\n",
        "plt.ylabel('No. Of Customers')\n",
        "plt.hist([churn_yes_c,churn_no_c],label = ['Churn = Y','Churn = N'])\n",
        "plt.legend()"
      ],
      "execution_count": null,
      "outputs": [
        {
          "output_type": "stream",
          "text": [
            "/usr/local/lib/python3.7/dist-packages/numpy/core/_asarray.py:83: VisibleDeprecationWarning: Creating an ndarray from ragged nested sequences (which is a list-or-tuple of lists-or-tuples-or ndarrays with different lengths or shapes) is deprecated. If you meant to do this, you must specify 'dtype=object' when creating the ndarray\n",
            "  return array(a, dtype, copy=False, order=order)\n"
          ],
          "name": "stderr"
        },
        {
          "output_type": "execute_result",
          "data": {
            "text/plain": [
              "<matplotlib.legend.Legend at 0x7fd04e3fef10>"
            ]
          },
          "metadata": {
            "tags": []
          },
          "execution_count": 25
        },
        {
          "output_type": "display_data",
          "data": {
            "image/png": "[encoded data removed]",
            "text/plain": [
              "<Figure size 432x288 with 1 Axes>"
            ]
          },
          "metadata": {
            "tags": [],
            "needs_background": "light"
          }
        }
      ]
    },
    {
      "cell_type": "code",
      "metadata": {
        "id": "4sJxlc4IyBlP"
      },
      "source": [
        "# the straightforwad thing we can see from it is that for lower monthly charges the customer retention is the highest."
      ],
      "execution_count": null,
      "outputs": []
    },
    {
      "cell_type": "code",
      "metadata": {
        "id": "drf2XMT3yffP"
      },
      "source": [
        "# now converting all text data to no.s for model training"
      ],
      "execution_count": null,
      "outputs": []
    },
    {
      "cell_type": "code",
      "metadata": {
        "colab": {
          "base_uri": "https://localhost:8080/"
        },
        "id": "8NkywPMMylyv",
        "outputId": "f9375f0c-f833-4f29-f744-ddeee20e1c1b"
      },
      "source": [
        "df.dtypes"
      ],
      "execution_count": null,
      "outputs": [
        {
          "output_type": "execute_result",
          "data": {
            "text/plain": [
              "gender               object\n",
              "SeniorCitizen         int64\n",
              "Partner              object\n",
              "Dependents           object\n",
              "tenure                int64\n",
              "PhoneService         object\n",
              "MultipleLines        object\n",
              "InternetService      object\n",
              "OnlineSecurity       object\n",
              "OnlineBackup         object\n",
              "DeviceProtection     object\n",
              "TechSupport          object\n",
              "StreamingTV          object\n",
              "StreamingMovies      object\n",
              "Contract             object\n",
              "PaperlessBilling     object\n",
              "PaymentMethod        object\n",
              "MonthlyCharges      float64\n",
              "TotalCharges        float64\n",
              "Churn                object\n",
              "dtype: object"
            ]
          },
          "metadata": {
            "tags": []
          },
          "execution_count": 28
        }
      ]
    },
    {
      "cell_type": "code",
      "metadata": {
        "colab": {
          "base_uri": "https://localhost:8080/"
        },
        "id": "6mTUpRqvzF0f",
        "outputId": "2761508c-0377-4570-c087-6763fa42ff0e"
      },
      "source": [
        "df.gender.unique()"
      ],
      "execution_count": null,
      "outputs": [
        {
          "output_type": "execute_result",
          "data": {
            "text/plain": [
              "array(['Female', 'Male'], dtype=object)"
            ]
          },
          "metadata": {
            "tags": []
          },
          "execution_count": 29
        }
      ]
    },
    {
      "cell_type": "code",
      "metadata": {
        "id": "fTTFTfZ6zZqO"
      },
      "source": [
        "# too many headers lets use loop to display unique value for each column"
      ],
      "execution_count": null,
      "outputs": []
    },
    {
      "cell_type": "code",
      "metadata": {
        "colab": {
          "base_uri": "https://localhost:8080/"
        },
        "id": "i7pNqsLwzhWn",
        "outputId": "220c2092-9349-4e68-90bb-fb031b1d886a"
      },
      "source": [
        "for i in df:\n",
        "  # since we need to convert the text/object based columns so excluding the int obvious;y\n",
        "  if df[i].dtypes == 'object':\n",
        "    print('{}: {}'.format(i,df[i].unique()))"
      ],
      "execution_count": null,
      "outputs": [
        {
          "output_type": "stream",
          "text": [
            "gender: ['Female' 'Male']\n",
            "Partner: ['Yes' 'No']\n",
            "Dependents: ['No' 'Yes']\n",
            "PhoneService: ['No' 'Yes']\n",
            "MultipleLines: ['No phone service' 'No' 'Yes']\n",
            "InternetService: ['DSL' 'Fiber optic' 'No']\n",
            "OnlineSecurity: ['No' 'Yes' 'No internet service']\n",
            "OnlineBackup: ['Yes' 'No' 'No internet service']\n",
            "DeviceProtection: ['No' 'Yes' 'No internet service']\n",
            "TechSupport: ['No' 'Yes' 'No internet service']\n",
            "StreamingTV: ['No' 'Yes' 'No internet service']\n",
            "StreamingMovies: ['No' 'Yes' 'No internet service']\n",
            "Contract: ['Month-to-month' 'One year' 'Two year']\n",
            "PaperlessBilling: ['Yes' 'No']\n",
            "PaymentMethod: ['Electronic check' 'Mailed check' 'Bank transfer (automatic)'\n",
            " 'Credit card (automatic)']\n",
            "Churn: ['No' 'Yes']\n"
          ],
          "name": "stdout"
        }
      ]
    },
    {
      "cell_type": "code",
      "metadata": {
        "id": "OHq-Awoh0x8v"
      },
      "source": [
        "#There are many columns where no has 2 entries with some being passive entries need to rectify those too first before int conversion"
      ],
      "execution_count": null,
      "outputs": []
    },
    {
      "cell_type": "code",
      "metadata": {
        "id": "BAvC8kTI1Drm"
      },
      "source": [
        "# 7 columns to be precise"
      ],
      "execution_count": null,
      "outputs": []
    },
    {
      "cell_type": "code",
      "metadata": {
        "id": "pRBu4_If1MWW"
      },
      "source": [
        "df.replace('No phone service','No',inplace=True)"
      ],
      "execution_count": null,
      "outputs": []
    },
    {
      "cell_type": "code",
      "metadata": {
        "id": "6LAhKFPO2Ry5"
      },
      "source": [
        "df.replace('No internet service','No',inplace=True)"
      ],
      "execution_count": null,
      "outputs": []
    },
    {
      "cell_type": "code",
      "metadata": {
        "id": "8GaR-zJY2gmA"
      },
      "source": [
        "dic = {}\n",
        "for i in df:\n",
        "  # since we need to convert the text/object based columns so excluding the int obvious;y\n",
        "  if df[i].dtypes == 'object':\n",
        "\n",
        "    dic[i]=df[i].unique()"
      ],
      "execution_count": null,
      "outputs": []
    },
    {
      "cell_type": "code",
      "metadata": {
        "colab": {
          "base_uri": "https://localhost:8080/"
        },
        "id": "Ihvg1ZFV2kdQ",
        "outputId": "4dbee223-f945-44c6-bd41-69fe3e0b3519"
      },
      "source": [
        "dic"
      ],
      "execution_count": null,
      "outputs": [
        {
          "output_type": "execute_result",
          "data": {
            "text/plain": [
              "{'Churn': array(['No', 'Yes'], dtype=object),\n",
              " 'Contract': array(['Month-to-month', 'One year', 'Two year'], dtype=object),\n",
              " 'Dependents': array(['No', 'Yes'], dtype=object),\n",
              " 'DeviceProtection': array(['No', 'Yes'], dtype=object),\n",
              " 'InternetService': array(['DSL', 'Fiber optic', 'No'], dtype=object),\n",
              " 'MultipleLines': array(['No', 'Yes'], dtype=object),\n",
              " 'OnlineBackup': array(['Yes', 'No'], dtype=object),\n",
              " 'OnlineSecurity': array(['No', 'Yes'], dtype=object),\n",
              " 'PaperlessBilling': array(['Yes', 'No'], dtype=object),\n",
              " 'Partner': array(['Yes', 'No'], dtype=object),\n",
              " 'PaymentMethod': array(['Electronic check', 'Mailed check', 'Bank transfer (automatic)',\n",
              "        'Credit card (automatic)'], dtype=object),\n",
              " 'PhoneService': array(['No', 'Yes'], dtype=object),\n",
              " 'StreamingMovies': array(['No', 'Yes'], dtype=object),\n",
              " 'StreamingTV': array(['No', 'Yes'], dtype=object),\n",
              " 'TechSupport': array(['No', 'Yes'], dtype=object),\n",
              " 'gender': array(['Female', 'Male'], dtype=object)}"
            ]
          },
          "metadata": {
            "tags": []
          },
          "execution_count": 37
        }
      ]
    },
    {
      "cell_type": "code",
      "metadata": {
        "colab": {
          "base_uri": "https://localhost:8080/"
        },
        "id": "TGfPqiUi4a1p",
        "outputId": "773752e7-5b01-4455-d03c-e5a2056d7dcf"
      },
      "source": [
        "len(dic['Churn'])"
      ],
      "execution_count": null,
      "outputs": [
        {
          "output_type": "execute_result",
          "data": {
            "text/plain": [
              "2"
            ]
          },
          "metadata": {
            "tags": []
          },
          "execution_count": 38
        }
      ]
    },
    {
      "cell_type": "code",
      "metadata": {
        "id": "Vyna2X4p3yG4"
      },
      "source": [
        "# replacing all columns with 2 categorical variables to 1 or 0 respectively as for more than 2 we will be using one hot encoding to let all no.s between 0 & 1.\n",
        "for i in dic:\n",
        "  if len(dic[i]) == 2:\n",
        "   df[i].replace({dic[i][0]:0,dic[i][1]:1},inplace=True)"
      ],
      "execution_count": null,
      "outputs": []
    },
    {
      "cell_type": "code",
      "metadata": {
        "colab": {
          "base_uri": "https://localhost:8080/"
        },
        "id": "pTsWry9048uh",
        "outputId": "fec0a6c4-c47c-4ed1-9167-640e8b5ddf2c"
      },
      "source": [
        "for i in df:\n",
        "  # since we need to convert the text/object based columns so excluding the int obvious;y\n",
        "  if df[i].dtypes == 'object':\n",
        "    print('{}: {}'.format(i,df[i].unique()))"
      ],
      "execution_count": null,
      "outputs": [
        {
          "output_type": "stream",
          "text": [
            "InternetService: ['DSL' 'Fiber optic' 'No']\n",
            "Contract: ['Month-to-month' 'One year' 'Two year']\n",
            "PaymentMethod: ['Electronic check' 'Mailed check' 'Bank transfer (automatic)'\n",
            " 'Credit card (automatic)']\n"
          ],
          "name": "stdout"
        }
      ]
    },
    {
      "cell_type": "code",
      "metadata": {
        "id": "pKylUWMa5ixR"
      },
      "source": [
        "df1 = pd.get_dummies(data=df, columns=['InternetService','Contract','PaymentMethod'])"
      ],
      "execution_count": null,
      "outputs": []
    },
    {
      "cell_type": "code",
      "metadata": {
        "colab": {
          "base_uri": "https://localhost:8080/"
        },
        "id": "aZnY84bt6Nc5",
        "outputId": "a70c6eff-327f-4a80-e51f-86b10ab9c3de"
      },
      "source": [
        "df1.dtypes"
      ],
      "execution_count": null,
      "outputs": [
        {
          "output_type": "execute_result",
          "data": {
            "text/plain": [
              "gender                                       int64\n",
              "SeniorCitizen                                int64\n",
              "Partner                                      int64\n",
              "Dependents                                   int64\n",
              "tenure                                       int64\n",
              "PhoneService                                 int64\n",
              "MultipleLines                                int64\n",
              "OnlineSecurity                               int64\n",
              "OnlineBackup                                 int64\n",
              "DeviceProtection                             int64\n",
              "TechSupport                                  int64\n",
              "StreamingTV                                  int64\n",
              "StreamingMovies                              int64\n",
              "PaperlessBilling                             int64\n",
              "MonthlyCharges                             float64\n",
              "TotalCharges                               float64\n",
              "Churn                                        int64\n",
              "InternetService_DSL                          uint8\n",
              "InternetService_Fiber optic                  uint8\n",
              "InternetService_No                           uint8\n",
              "Contract_Month-to-month                      uint8\n",
              "Contract_One year                            uint8\n",
              "Contract_Two year                            uint8\n",
              "PaymentMethod_Bank transfer (automatic)      uint8\n",
              "PaymentMethod_Credit card (automatic)        uint8\n",
              "PaymentMethod_Electronic check               uint8\n",
              "PaymentMethod_Mailed check                   uint8\n",
              "dtype: object"
            ]
          },
          "metadata": {
            "tags": []
          },
          "execution_count": 42
        }
      ]
    },
    {
      "cell_type": "code",
      "metadata": {
        "colab": {
          "base_uri": "https://localhost:8080/",
          "height": 249
        },
        "id": "qs_e9IRM6PCh",
        "outputId": "084e12a4-8192-49ad-a2c4-d9f819033a8c"
      },
      "source": [
        "df1.head()"
      ],
      "execution_count": null,
      "outputs": [
        {
          "output_type": "execute_result",
          "data": {
            "text/html": [
              "<div>\n",
              "<style scoped>\n",
              "    .dataframe tbody tr th:only-of-type {\n",
              "        vertical-align: middle;\n",
              "    }\n",
              "\n",
              "    .dataframe tbody tr th {\n",
              "        vertical-align: top;\n",
              "    }\n",
              "\n",
              "    .dataframe thead th {\n",
              "        text-align: right;\n",
              "    }\n",
              "</style>\n",
              "<table border=\"1\" class=\"dataframe\">\n",
              "  <thead>\n",
              "    <tr style=\"text-align: right;\">\n",
              "      <th></th>\n",
              "      <th>gender</th>\n",
              "      <th>SeniorCitizen</th>\n",
              "      <th>Partner</th>\n",
              "      <th>Dependents</th>\n",
              "      <th>tenure</th>\n",
              "      <th>PhoneService</th>\n",
              "      <th>MultipleLines</th>\n",
              "      <th>OnlineSecurity</th>\n",
              "      <th>OnlineBackup</th>\n",
              "      <th>DeviceProtection</th>\n",
              "      <th>TechSupport</th>\n",
              "      <th>StreamingTV</th>\n",
              "      <th>StreamingMovies</th>\n",
              "      <th>PaperlessBilling</th>\n",
              "      <th>MonthlyCharges</th>\n",
              "      <th>TotalCharges</th>\n",
              "      <th>Churn</th>\n",
              "      <th>InternetService_DSL</th>\n",
              "      <th>InternetService_Fiber optic</th>\n",
              "      <th>InternetService_No</th>\n",
              "      <th>Contract_Month-to-month</th>\n",
              "      <th>Contract_One year</th>\n",
              "      <th>Contract_Two year</th>\n",
              "      <th>PaymentMethod_Bank transfer (automatic)</th>\n",
              "      <th>PaymentMethod_Credit card (automatic)</th>\n",
              "      <th>PaymentMethod_Electronic check</th>\n",
              "      <th>PaymentMethod_Mailed check</th>\n",
              "    </tr>\n",
              "  </thead>\n",
              "  <tbody>\n",
              "    <tr>\n",
              "      <th>0</th>\n",
              "      <td>0</td>\n",
              "      <td>0</td>\n",
              "      <td>0</td>\n",
              "      <td>0</td>\n",
              "      <td>1</td>\n",
              "      <td>0</td>\n",
              "      <td>0</td>\n",
              "      <td>0</td>\n",
              "      <td>0</td>\n",
              "      <td>0</td>\n",
              "      <td>0</td>\n",
              "      <td>0</td>\n",
              "      <td>0</td>\n",
              "      <td>0</td>\n",
              "      <td>29.85</td>\n",
              "      <td>29.85</td>\n",
              "      <td>0</td>\n",
              "      <td>1</td>\n",
              "      <td>0</td>\n",
              "      <td>0</td>\n",
              "      <td>1</td>\n",
              "      <td>0</td>\n",
              "      <td>0</td>\n",
              "      <td>0</td>\n",
              "      <td>0</td>\n",
              "      <td>1</td>\n",
              "      <td>0</td>\n",
              "    </tr>\n",
              "    <tr>\n",
              "      <th>1</th>\n",
              "      <td>1</td>\n",
              "      <td>0</td>\n",
              "      <td>1</td>\n",
              "      <td>0</td>\n",
              "      <td>34</td>\n",
              "      <td>1</td>\n",
              "      <td>0</td>\n",
              "      <td>1</td>\n",
              "      <td>1</td>\n",
              "      <td>1</td>\n",
              "      <td>0</td>\n",
              "      <td>0</td>\n",
              "      <td>0</td>\n",
              "      <td>1</td>\n",
              "      <td>56.95</td>\n",
              "      <td>1889.50</td>\n",
              "      <td>0</td>\n",
              "      <td>1</td>\n",
              "      <td>0</td>\n",
              "      <td>0</td>\n",
              "      <td>0</td>\n",
              "      <td>1</td>\n",
              "      <td>0</td>\n",
              "      <td>0</td>\n",
              "      <td>0</td>\n",
              "      <td>0</td>\n",
              "      <td>1</td>\n",
              "    </tr>\n",
              "    <tr>\n",
              "      <th>2</th>\n",
              "      <td>1</td>\n",
              "      <td>0</td>\n",
              "      <td>1</td>\n",
              "      <td>0</td>\n",
              "      <td>2</td>\n",
              "      <td>1</td>\n",
              "      <td>0</td>\n",
              "      <td>1</td>\n",
              "      <td>0</td>\n",
              "      <td>0</td>\n",
              "      <td>0</td>\n",
              "      <td>0</td>\n",
              "      <td>0</td>\n",
              "      <td>0</td>\n",
              "      <td>53.85</td>\n",
              "      <td>108.15</td>\n",
              "      <td>1</td>\n",
              "      <td>1</td>\n",
              "      <td>0</td>\n",
              "      <td>0</td>\n",
              "      <td>1</td>\n",
              "      <td>0</td>\n",
              "      <td>0</td>\n",
              "      <td>0</td>\n",
              "      <td>0</td>\n",
              "      <td>0</td>\n",
              "      <td>1</td>\n",
              "    </tr>\n",
              "    <tr>\n",
              "      <th>3</th>\n",
              "      <td>1</td>\n",
              "      <td>0</td>\n",
              "      <td>1</td>\n",
              "      <td>0</td>\n",
              "      <td>45</td>\n",
              "      <td>0</td>\n",
              "      <td>0</td>\n",
              "      <td>1</td>\n",
              "      <td>1</td>\n",
              "      <td>1</td>\n",
              "      <td>1</td>\n",
              "      <td>0</td>\n",
              "      <td>0</td>\n",
              "      <td>1</td>\n",
              "      <td>42.30</td>\n",
              "      <td>1840.75</td>\n",
              "      <td>0</td>\n",
              "      <td>1</td>\n",
              "      <td>0</td>\n",
              "      <td>0</td>\n",
              "      <td>0</td>\n",
              "      <td>1</td>\n",
              "      <td>0</td>\n",
              "      <td>1</td>\n",
              "      <td>0</td>\n",
              "      <td>0</td>\n",
              "      <td>0</td>\n",
              "    </tr>\n",
              "    <tr>\n",
              "      <th>4</th>\n",
              "      <td>0</td>\n",
              "      <td>0</td>\n",
              "      <td>1</td>\n",
              "      <td>0</td>\n",
              "      <td>2</td>\n",
              "      <td>1</td>\n",
              "      <td>0</td>\n",
              "      <td>0</td>\n",
              "      <td>1</td>\n",
              "      <td>0</td>\n",
              "      <td>0</td>\n",
              "      <td>0</td>\n",
              "      <td>0</td>\n",
              "      <td>0</td>\n",
              "      <td>70.70</td>\n",
              "      <td>151.65</td>\n",
              "      <td>1</td>\n",
              "      <td>0</td>\n",
              "      <td>1</td>\n",
              "      <td>0</td>\n",
              "      <td>1</td>\n",
              "      <td>0</td>\n",
              "      <td>0</td>\n",
              "      <td>0</td>\n",
              "      <td>0</td>\n",
              "      <td>1</td>\n",
              "      <td>0</td>\n",
              "    </tr>\n",
              "  </tbody>\n",
              "</table>\n",
              "</div>"
            ],
            "text/plain": [
              "   gender  ...  PaymentMethod_Mailed check\n",
              "0       0  ...                           0\n",
              "1       1  ...                           1\n",
              "2       1  ...                           1\n",
              "3       1  ...                           0\n",
              "4       0  ...                           0\n",
              "\n",
              "[5 rows x 27 columns]"
            ]
          },
          "metadata": {
            "tags": []
          },
          "execution_count": 43
        }
      ]
    },
    {
      "cell_type": "code",
      "metadata": {
        "colab": {
          "base_uri": "https://localhost:8080/"
        },
        "id": "Hcr-pAlG6dqx",
        "outputId": "2350afe7-7484-442f-f134-8cd9039ac73d"
      },
      "source": [
        "df1.shape"
      ],
      "execution_count": null,
      "outputs": [
        {
          "output_type": "execute_result",
          "data": {
            "text/plain": [
              "(7032, 27)"
            ]
          },
          "metadata": {
            "tags": []
          },
          "execution_count": 44
        }
      ]
    },
    {
      "cell_type": "code",
      "metadata": {
        "colab": {
          "base_uri": "https://localhost:8080/"
        },
        "id": "iARyEnh76iwY",
        "outputId": "5bc6cf90-bbf5-4645-8ced-6de2d6e49767"
      },
      "source": [
        "df.shape"
      ],
      "execution_count": null,
      "outputs": [
        {
          "output_type": "execute_result",
          "data": {
            "text/plain": [
              "(7032, 20)"
            ]
          },
          "metadata": {
            "tags": []
          },
          "execution_count": 45
        }
      ]
    },
    {
      "cell_type": "code",
      "metadata": {
        "id": "UZvjnroB6q2o"
      },
      "source": [
        "#scaling our data since columns such as charges and tenure are way out of range from the others"
      ],
      "execution_count": null,
      "outputs": []
    },
    {
      "cell_type": "code",
      "metadata": {
        "id": "C_PqgIG-6-Xg"
      },
      "source": [
        "from sklearn.preprocessing import MinMaxScaler"
      ],
      "execution_count": null,
      "outputs": []
    },
    {
      "cell_type": "code",
      "metadata": {
        "id": "xV9KtvrQ7DCh"
      },
      "source": [
        "norm = MinMaxScaler()"
      ],
      "execution_count": null,
      "outputs": []
    },
    {
      "cell_type": "code",
      "metadata": {
        "id": "QvQxWNjx7HNg"
      },
      "source": [
        "df1[['tenure','MonthlyCharges','TotalCharges']] = norm.fit_transform(df1[['tenure','MonthlyCharges','TotalCharges']] )"
      ],
      "execution_count": null,
      "outputs": []
    },
    {
      "cell_type": "code",
      "metadata": {
        "colab": {
          "base_uri": "https://localhost:8080/",
          "height": 249
        },
        "id": "P7w3MkXC7WVC",
        "outputId": "8424b150-0f72-4829-c5d6-e4f4f23a23fe"
      },
      "source": [
        "df1.head()"
      ],
      "execution_count": null,
      "outputs": [
        {
          "output_type": "execute_result",
          "data": {
            "text/html": [
              "<div>\n",
              "<style scoped>\n",
              "    .dataframe tbody tr th:only-of-type {\n",
              "        vertical-align: middle;\n",
              "    }\n",
              "\n",
              "    .dataframe tbody tr th {\n",
              "        vertical-align: top;\n",
              "    }\n",
              "\n",
              "    .dataframe thead th {\n",
              "        text-align: right;\n",
              "    }\n",
              "</style>\n",
              "<table border=\"1\" class=\"dataframe\">\n",
              "  <thead>\n",
              "    <tr style=\"text-align: right;\">\n",
              "      <th></th>\n",
              "      <th>gender</th>\n",
              "      <th>SeniorCitizen</th>\n",
              "      <th>Partner</th>\n",
              "      <th>Dependents</th>\n",
              "      <th>tenure</th>\n",
              "      <th>PhoneService</th>\n",
              "      <th>MultipleLines</th>\n",
              "      <th>OnlineSecurity</th>\n",
              "      <th>OnlineBackup</th>\n",
              "      <th>DeviceProtection</th>\n",
              "      <th>TechSupport</th>\n",
              "      <th>StreamingTV</th>\n",
              "      <th>StreamingMovies</th>\n",
              "      <th>PaperlessBilling</th>\n",
              "      <th>MonthlyCharges</th>\n",
              "      <th>TotalCharges</th>\n",
              "      <th>Churn</th>\n",
              "      <th>InternetService_DSL</th>\n",
              "      <th>InternetService_Fiber optic</th>\n",
              "      <th>InternetService_No</th>\n",
              "      <th>Contract_Month-to-month</th>\n",
              "      <th>Contract_One year</th>\n",
              "      <th>Contract_Two year</th>\n",
              "      <th>PaymentMethod_Bank transfer (automatic)</th>\n",
              "      <th>PaymentMethod_Credit card (automatic)</th>\n",
              "      <th>PaymentMethod_Electronic check</th>\n",
              "      <th>PaymentMethod_Mailed check</th>\n",
              "    </tr>\n",
              "  </thead>\n",
              "  <tbody>\n",
              "    <tr>\n",
              "      <th>0</th>\n",
              "      <td>0</td>\n",
              "      <td>0</td>\n",
              "      <td>0</td>\n",
              "      <td>0</td>\n",
              "      <td>0.000000</td>\n",
              "      <td>0</td>\n",
              "      <td>0</td>\n",
              "      <td>0</td>\n",
              "      <td>0</td>\n",
              "      <td>0</td>\n",
              "      <td>0</td>\n",
              "      <td>0</td>\n",
              "      <td>0</td>\n",
              "      <td>0</td>\n",
              "      <td>0.115423</td>\n",
              "      <td>0.001275</td>\n",
              "      <td>0</td>\n",
              "      <td>1</td>\n",
              "      <td>0</td>\n",
              "      <td>0</td>\n",
              "      <td>1</td>\n",
              "      <td>0</td>\n",
              "      <td>0</td>\n",
              "      <td>0</td>\n",
              "      <td>0</td>\n",
              "      <td>1</td>\n",
              "      <td>0</td>\n",
              "    </tr>\n",
              "    <tr>\n",
              "      <th>1</th>\n",
              "      <td>1</td>\n",
              "      <td>0</td>\n",
              "      <td>1</td>\n",
              "      <td>0</td>\n",
              "      <td>0.464789</td>\n",
              "      <td>1</td>\n",
              "      <td>0</td>\n",
              "      <td>1</td>\n",
              "      <td>1</td>\n",
              "      <td>1</td>\n",
              "      <td>0</td>\n",
              "      <td>0</td>\n",
              "      <td>0</td>\n",
              "      <td>1</td>\n",
              "      <td>0.385075</td>\n",
              "      <td>0.215867</td>\n",
              "      <td>0</td>\n",
              "      <td>1</td>\n",
              "      <td>0</td>\n",
              "      <td>0</td>\n",
              "      <td>0</td>\n",
              "      <td>1</td>\n",
              "      <td>0</td>\n",
              "      <td>0</td>\n",
              "      <td>0</td>\n",
              "      <td>0</td>\n",
              "      <td>1</td>\n",
              "    </tr>\n",
              "    <tr>\n",
              "      <th>2</th>\n",
              "      <td>1</td>\n",
              "      <td>0</td>\n",
              "      <td>1</td>\n",
              "      <td>0</td>\n",
              "      <td>0.014085</td>\n",
              "      <td>1</td>\n",
              "      <td>0</td>\n",
              "      <td>1</td>\n",
              "      <td>0</td>\n",
              "      <td>0</td>\n",
              "      <td>0</td>\n",
              "      <td>0</td>\n",
              "      <td>0</td>\n",
              "      <td>0</td>\n",
              "      <td>0.354229</td>\n",
              "      <td>0.010310</td>\n",
              "      <td>1</td>\n",
              "      <td>1</td>\n",
              "      <td>0</td>\n",
              "      <td>0</td>\n",
              "      <td>1</td>\n",
              "      <td>0</td>\n",
              "      <td>0</td>\n",
              "      <td>0</td>\n",
              "      <td>0</td>\n",
              "      <td>0</td>\n",
              "      <td>1</td>\n",
              "    </tr>\n",
              "    <tr>\n",
              "      <th>3</th>\n",
              "      <td>1</td>\n",
              "      <td>0</td>\n",
              "      <td>1</td>\n",
              "      <td>0</td>\n",
              "      <td>0.619718</td>\n",
              "      <td>0</td>\n",
              "      <td>0</td>\n",
              "      <td>1</td>\n",
              "      <td>1</td>\n",
              "      <td>1</td>\n",
              "      <td>1</td>\n",
              "      <td>0</td>\n",
              "      <td>0</td>\n",
              "      <td>1</td>\n",
              "      <td>0.239303</td>\n",
              "      <td>0.210241</td>\n",
              "      <td>0</td>\n",
              "      <td>1</td>\n",
              "      <td>0</td>\n",
              "      <td>0</td>\n",
              "      <td>0</td>\n",
              "      <td>1</td>\n",
              "      <td>0</td>\n",
              "      <td>1</td>\n",
              "      <td>0</td>\n",
              "      <td>0</td>\n",
              "      <td>0</td>\n",
              "    </tr>\n",
              "    <tr>\n",
              "      <th>4</th>\n",
              "      <td>0</td>\n",
              "      <td>0</td>\n",
              "      <td>1</td>\n",
              "      <td>0</td>\n",
              "      <td>0.014085</td>\n",
              "      <td>1</td>\n",
              "      <td>0</td>\n",
              "      <td>0</td>\n",
              "      <td>1</td>\n",
              "      <td>0</td>\n",
              "      <td>0</td>\n",
              "      <td>0</td>\n",
              "      <td>0</td>\n",
              "      <td>0</td>\n",
              "      <td>0.521891</td>\n",
              "      <td>0.015330</td>\n",
              "      <td>1</td>\n",
              "      <td>0</td>\n",
              "      <td>1</td>\n",
              "      <td>0</td>\n",
              "      <td>1</td>\n",
              "      <td>0</td>\n",
              "      <td>0</td>\n",
              "      <td>0</td>\n",
              "      <td>0</td>\n",
              "      <td>1</td>\n",
              "      <td>0</td>\n",
              "    </tr>\n",
              "  </tbody>\n",
              "</table>\n",
              "</div>"
            ],
            "text/plain": [
              "   gender  ...  PaymentMethod_Mailed check\n",
              "0       0  ...                           0\n",
              "1       1  ...                           1\n",
              "2       1  ...                           1\n",
              "3       1  ...                           0\n",
              "4       0  ...                           0\n",
              "\n",
              "[5 rows x 27 columns]"
            ]
          },
          "metadata": {
            "tags": []
          },
          "execution_count": 50
        }
      ]
    },
    {
      "cell_type": "code",
      "metadata": {
        "id": "K-CVQAH58DKJ"
      },
      "source": [
        "# all values are scaled lets go now"
      ],
      "execution_count": null,
      "outputs": []
    },
    {
      "cell_type": "code",
      "metadata": {
        "id": "q0zHnNpC8G_Z"
      },
      "source": [
        "X = df1.drop('Churn',axis=1)"
      ],
      "execution_count": null,
      "outputs": []
    },
    {
      "cell_type": "code",
      "metadata": {
        "id": "z6W6dra78Lqq"
      },
      "source": [
        "y = df1.Churn"
      ],
      "execution_count": null,
      "outputs": []
    },
    {
      "cell_type": "code",
      "metadata": {
        "id": "vSvPQwoN8NMR"
      },
      "source": [
        "X_train,X_test,y_train,y_test = train_test_split(X,y)"
      ],
      "execution_count": null,
      "outputs": []
    },
    {
      "cell_type": "code",
      "metadata": {
        "colab": {
          "base_uri": "https://localhost:8080/"
        },
        "id": "kR4gtl4U8Vxp",
        "outputId": "e627d0f0-9479-4434-d99e-80a6e6d62759"
      },
      "source": [
        "X_train.shape"
      ],
      "execution_count": null,
      "outputs": [
        {
          "output_type": "execute_result",
          "data": {
            "text/plain": [
              "(5274, 26)"
            ]
          },
          "metadata": {
            "tags": []
          },
          "execution_count": 55
        }
      ]
    },
    {
      "cell_type": "code",
      "metadata": {
        "id": "TEDzE11c8cxT"
      },
      "source": [
        "model = keras.Sequential()"
      ],
      "execution_count": null,
      "outputs": []
    },
    {
      "cell_type": "code",
      "metadata": {
        "id": "E1OSC4f38j4x"
      },
      "source": [
        "model.add(Dense(64,input_shape = (26,),activation='relu'))"
      ],
      "execution_count": null,
      "outputs": []
    },
    {
      "cell_type": "code",
      "metadata": {
        "id": "VPGHW1YC8yHC"
      },
      "source": [
        "model.add(Dense(16,activation='relu'))"
      ],
      "execution_count": null,
      "outputs": []
    },
    {
      "cell_type": "code",
      "metadata": {
        "id": "rcy8Se2S843J"
      },
      "source": [
        "model.add(Dense(1,activation='sigmoid'))"
      ],
      "execution_count": null,
      "outputs": []
    },
    {
      "cell_type": "code",
      "metadata": {
        "id": "HFhi48WE89R5"
      },
      "source": [
        "model.compile(optimizer='adam',loss = 'binary_crossentropy',metrics=['accuracy'])"
      ],
      "execution_count": null,
      "outputs": []
    },
    {
      "cell_type": "code",
      "metadata": {
        "colab": {
          "base_uri": "https://localhost:8080/"
        },
        "id": "wzEKUkiF9Hng",
        "outputId": "c71b16cd-c5fe-4272-e42f-a9956064b595"
      },
      "source": [
        "model.fit(X_train,y_train,epochs = 30)"
      ],
      "execution_count": null,
      "outputs": [
        {
          "output_type": "stream",
          "text": [
            "Epoch 1/30\n",
            "165/165 [==============================] - 1s 1ms/step - loss: 0.6005 - accuracy: 0.6421\n",
            "Epoch 2/30\n",
            "165/165 [==============================] - 0s 1ms/step - loss: 0.4334 - accuracy: 0.7965\n",
            "Epoch 3/30\n",
            "165/165 [==============================] - 0s 1ms/step - loss: 0.4260 - accuracy: 0.7937\n",
            "Epoch 4/30\n",
            "165/165 [==============================] - 0s 1ms/step - loss: 0.4347 - accuracy: 0.7961\n",
            "Epoch 5/30\n",
            "165/165 [==============================] - 0s 1ms/step - loss: 0.4122 - accuracy: 0.8068\n",
            "Epoch 6/30\n",
            "165/165 [==============================] - 0s 1ms/step - loss: 0.4133 - accuracy: 0.8019\n",
            "Epoch 7/30\n",
            "165/165 [==============================] - 0s 1ms/step - loss: 0.4209 - accuracy: 0.7950\n",
            "Epoch 8/30\n",
            "165/165 [==============================] - 0s 1ms/step - loss: 0.3999 - accuracy: 0.8193\n",
            "Epoch 9/30\n",
            "165/165 [==============================] - 0s 1ms/step - loss: 0.4135 - accuracy: 0.8028\n",
            "Epoch 10/30\n",
            "165/165 [==============================] - 0s 1ms/step - loss: 0.4074 - accuracy: 0.8078\n",
            "Epoch 11/30\n",
            "165/165 [==============================] - 0s 1ms/step - loss: 0.4144 - accuracy: 0.8021\n",
            "Epoch 12/30\n",
            "165/165 [==============================] - 0s 1ms/step - loss: 0.4234 - accuracy: 0.7995\n",
            "Epoch 13/30\n",
            "165/165 [==============================] - 0s 1ms/step - loss: 0.3946 - accuracy: 0.8097\n",
            "Epoch 14/30\n",
            "165/165 [==============================] - 0s 1ms/step - loss: 0.4012 - accuracy: 0.8153\n",
            "Epoch 15/30\n",
            "165/165 [==============================] - 0s 1ms/step - loss: 0.4089 - accuracy: 0.8105\n",
            "Epoch 16/30\n",
            "165/165 [==============================] - 0s 1ms/step - loss: 0.4029 - accuracy: 0.8094\n",
            "Epoch 17/30\n",
            "165/165 [==============================] - 0s 1ms/step - loss: 0.3899 - accuracy: 0.8202\n",
            "Epoch 18/30\n",
            "165/165 [==============================] - 0s 1ms/step - loss: 0.3971 - accuracy: 0.8228\n",
            "Epoch 19/30\n",
            "165/165 [==============================] - 0s 1ms/step - loss: 0.3960 - accuracy: 0.8140\n",
            "Epoch 20/30\n",
            "165/165 [==============================] - 0s 1ms/step - loss: 0.3923 - accuracy: 0.8124\n",
            "Epoch 21/30\n",
            "165/165 [==============================] - 0s 1ms/step - loss: 0.3966 - accuracy: 0.8105\n",
            "Epoch 22/30\n",
            "165/165 [==============================] - 0s 1ms/step - loss: 0.3892 - accuracy: 0.8160\n",
            "Epoch 23/30\n",
            "165/165 [==============================] - 0s 1ms/step - loss: 0.3793 - accuracy: 0.8254\n",
            "Epoch 24/30\n",
            "165/165 [==============================] - 0s 1ms/step - loss: 0.3877 - accuracy: 0.8119\n",
            "Epoch 25/30\n",
            "165/165 [==============================] - 0s 1ms/step - loss: 0.3828 - accuracy: 0.8225\n",
            "Epoch 26/30\n",
            "165/165 [==============================] - 0s 1ms/step - loss: 0.3753 - accuracy: 0.8207\n",
            "Epoch 27/30\n",
            "165/165 [==============================] - 0s 1ms/step - loss: 0.3711 - accuracy: 0.8286\n",
            "Epoch 28/30\n",
            "165/165 [==============================] - 0s 1ms/step - loss: 0.3758 - accuracy: 0.8294\n",
            "Epoch 29/30\n",
            "165/165 [==============================] - 0s 1ms/step - loss: 0.3749 - accuracy: 0.8219\n",
            "Epoch 30/30\n",
            "165/165 [==============================] - 0s 1ms/step - loss: 0.3708 - accuracy: 0.8241\n"
          ],
          "name": "stdout"
        },
        {
          "output_type": "execute_result",
          "data": {
            "text/plain": [
              "<tensorflow.python.keras.callbacks.History at 0x7fd04a5f9c90>"
            ]
          },
          "metadata": {
            "tags": []
          },
          "execution_count": 61
        }
      ]
    },
    {
      "cell_type": "code",
      "metadata": {
        "colab": {
          "base_uri": "https://localhost:8080/"
        },
        "id": "rVV3PH8Y9NFR",
        "outputId": "6c6c66bb-b080-44c2-9e18-345484d1f840"
      },
      "source": [
        "model.evaluate(X_test,y_test)"
      ],
      "execution_count": null,
      "outputs": [
        {
          "output_type": "stream",
          "text": [
            "55/55 [==============================] - 0s 914us/step - loss: 0.4230 - accuracy: 0.8026\n"
          ],
          "name": "stdout"
        },
        {
          "output_type": "execute_result",
          "data": {
            "text/plain": [
              "[0.4230008125305176, 0.8026165962219238]"
            ]
          },
          "metadata": {
            "tags": []
          },
          "execution_count": 62
        }
      ]
    },
    {
      "cell_type": "code",
      "metadata": {
        "id": "DTGEyFypGRYk"
      },
      "source": [
        "y_pred = model.predict(X_test)"
      ],
      "execution_count": null,
      "outputs": []
    },
    {
      "cell_type": "code",
      "metadata": {
        "colab": {
          "base_uri": "https://localhost:8080/"
        },
        "id": "JiS7yGFXGfDb",
        "outputId": "eac07e47-fa65-425a-e722-4219941fd8f0"
      },
      "source": [
        "y_pred "
      ],
      "execution_count": null,
      "outputs": [
        {
          "output_type": "execute_result",
          "data": {
            "text/plain": [
              "array([[0.28603765],\n",
              "       [0.7621943 ],\n",
              "       [0.27295744],\n",
              "       ...,\n",
              "       [0.30088735],\n",
              "       [0.02460793],\n",
              "       [0.06464005]], dtype=float32)"
            ]
          },
          "metadata": {
            "tags": []
          },
          "execution_count": 64
        }
      ]
    },
    {
      "cell_type": "code",
      "metadata": {
        "id": "sxBZv1HRGw3T"
      },
      "source": [
        "# Since we used sigmoid so anything >0.5 represents 1 here and less than that 0\n"
      ],
      "execution_count": null,
      "outputs": []
    },
    {
      "cell_type": "code",
      "metadata": {
        "id": "riWMhWWsG3BT"
      },
      "source": [
        "yp = []\n",
        "for i in y_pred:\n",
        "  if i >= 0.5:\n",
        "    yp.append(1)\n",
        "  else:\n",
        "    yp.append(0)"
      ],
      "execution_count": null,
      "outputs": []
    },
    {
      "cell_type": "code",
      "metadata": {
        "colab": {
          "base_uri": "https://localhost:8080/"
        },
        "id": "wLRTR9II0coZ",
        "outputId": "010319f4-e4f1-4c48-d891-4f82f8a7c2ca"
      },
      "source": [
        "from sklearn.metrics import classification_report\n",
        "print('Classification Report \\n ',classification_report(y_test,yp))"
      ],
      "execution_count": null,
      "outputs": [
        {
          "output_type": "stream",
          "text": [
            "Classification Report \n",
            "                precision    recall  f1-score   support\n",
            "\n",
            "           0       0.85      0.89      0.87      1323\n",
            "           1       0.62      0.53      0.57       435\n",
            "\n",
            "    accuracy                           0.80      1758\n",
            "   macro avg       0.74      0.71      0.72      1758\n",
            "weighted avg       0.79      0.80      0.80      1758\n",
            "\n"
          ],
          "name": "stdout"
        }
      ]
    },
    {
      "cell_type": "code",
      "metadata": {
        "id": "l1YkcmpyHAUf"
      },
      "source": [
        "cm = tf.math.confusion_matrix(labels = y_test, predictions=yp)"
      ],
      "execution_count": null,
      "outputs": []
    },
    {
      "cell_type": "code",
      "metadata": {
        "colab": {
          "base_uri": "https://localhost:8080/",
          "height": 296
        },
        "id": "QrkUu5BLHLFI",
        "outputId": "53393c64-017a-4f27-ddc1-50f994e0725c"
      },
      "source": [
        "sn.heatmap(cm,annot=True)\n",
        "plt.xlabel('Predicted')\n",
        "plt.ylabel('Truth')"
      ],
      "execution_count": null,
      "outputs": [
        {
          "output_type": "execute_result",
          "data": {
            "text/plain": [
              "Text(33.0, 0.5, 'Truth')"
            ]
          },
          "metadata": {
            "tags": []
          },
          "execution_count": 68
        },
        {
          "output_type": "display_data",
          "data": {
            "image/png": "[encoded data removed]",
            "text/plain": [
              "<Figure size 432x288 with 2 Axes>"
            ]
          },
          "metadata": {
            "tags": [],
            "needs_background": "light"
          }
        }
      ]
    },
    {
      "cell_type": "code",
      "metadata": {
        "id": "dE7uy6g8Hb-E"
      },
      "source": [
        "## there is an  imbalance in our dataset lets try to handle that also to see if the accuracy increases"
      ],
      "execution_count": null,
      "outputs": []
    },
    {
      "cell_type": "code",
      "metadata": {
        "id": "QWda6V6lyz2-"
      },
      "source": [
        "## defining nn model func so that we don't have to repetitively create a new model\n",
        "\n",
        "def NN_Model(X,y):\n",
        "\n",
        "    X_train, X_test, y_train, y_test = train_test_split(X, y, test_size=0.25, random_state=1, stratify=y)\n",
        "\n",
        "    model = keras.Sequential()\n",
        "    model.add(Dense(50, input_shape=(26,), activation='relu'))\n",
        "    model.add(Dense(20, activation='relu'))\n",
        "    model.add(Dense(1, activation='sigmoid'))\n",
        "    \n",
        "\n",
        "    model.compile(optimizer='adam', loss='binary_crossentropy', metrics=['accuracy'])\n",
        "    \n",
        "    model.fit(X_train, y_train, epochs=50)\n",
        "    \n",
        "    print(model.evaluate(X_test, y_test))\n",
        "    \n",
        "    y_preds = model.predict(X_test)\n",
        "    y_preds = np.round(y_preds)\n",
        "    \n",
        "    print(\"Classification Report: \\n\", classification_report(y_test, y_preds))\n",
        "    \n",
        "    "
      ],
      "execution_count": null,
      "outputs": []
    },
    {
      "cell_type": "code",
      "metadata": {
        "colab": {
          "base_uri": "https://localhost:8080/",
          "height": 249
        },
        "id": "RQq-lt7v0Mvs",
        "outputId": "5f79b768-0f5e-4000-817e-9413000d9dbf"
      },
      "source": [
        "df1.head()"
      ],
      "execution_count": null,
      "outputs": [
        {
          "output_type": "execute_result",
          "data": {
            "text/html": [
              "<div>\n",
              "<style scoped>\n",
              "    .dataframe tbody tr th:only-of-type {\n",
              "        vertical-align: middle;\n",
              "    }\n",
              "\n",
              "    .dataframe tbody tr th {\n",
              "        vertical-align: top;\n",
              "    }\n",
              "\n",
              "    .dataframe thead th {\n",
              "        text-align: right;\n",
              "    }\n",
              "</style>\n",
              "<table border=\"1\" class=\"dataframe\">\n",
              "  <thead>\n",
              "    <tr style=\"text-align: right;\">\n",
              "      <th></th>\n",
              "      <th>gender</th>\n",
              "      <th>SeniorCitizen</th>\n",
              "      <th>Partner</th>\n",
              "      <th>Dependents</th>\n",
              "      <th>tenure</th>\n",
              "      <th>PhoneService</th>\n",
              "      <th>MultipleLines</th>\n",
              "      <th>OnlineSecurity</th>\n",
              "      <th>OnlineBackup</th>\n",
              "      <th>DeviceProtection</th>\n",
              "      <th>TechSupport</th>\n",
              "      <th>StreamingTV</th>\n",
              "      <th>StreamingMovies</th>\n",
              "      <th>PaperlessBilling</th>\n",
              "      <th>MonthlyCharges</th>\n",
              "      <th>TotalCharges</th>\n",
              "      <th>Churn</th>\n",
              "      <th>InternetService_DSL</th>\n",
              "      <th>InternetService_Fiber optic</th>\n",
              "      <th>InternetService_No</th>\n",
              "      <th>Contract_Month-to-month</th>\n",
              "      <th>Contract_One year</th>\n",
              "      <th>Contract_Two year</th>\n",
              "      <th>PaymentMethod_Bank transfer (automatic)</th>\n",
              "      <th>PaymentMethod_Credit card (automatic)</th>\n",
              "      <th>PaymentMethod_Electronic check</th>\n",
              "      <th>PaymentMethod_Mailed check</th>\n",
              "    </tr>\n",
              "  </thead>\n",
              "  <tbody>\n",
              "    <tr>\n",
              "      <th>0</th>\n",
              "      <td>0</td>\n",
              "      <td>0</td>\n",
              "      <td>0</td>\n",
              "      <td>0</td>\n",
              "      <td>0.000000</td>\n",
              "      <td>0</td>\n",
              "      <td>0</td>\n",
              "      <td>0</td>\n",
              "      <td>0</td>\n",
              "      <td>0</td>\n",
              "      <td>0</td>\n",
              "      <td>0</td>\n",
              "      <td>0</td>\n",
              "      <td>0</td>\n",
              "      <td>0.115423</td>\n",
              "      <td>0.001275</td>\n",
              "      <td>0</td>\n",
              "      <td>1</td>\n",
              "      <td>0</td>\n",
              "      <td>0</td>\n",
              "      <td>1</td>\n",
              "      <td>0</td>\n",
              "      <td>0</td>\n",
              "      <td>0</td>\n",
              "      <td>0</td>\n",
              "      <td>1</td>\n",
              "      <td>0</td>\n",
              "    </tr>\n",
              "    <tr>\n",
              "      <th>1</th>\n",
              "      <td>1</td>\n",
              "      <td>0</td>\n",
              "      <td>1</td>\n",
              "      <td>0</td>\n",
              "      <td>0.464789</td>\n",
              "      <td>1</td>\n",
              "      <td>0</td>\n",
              "      <td>1</td>\n",
              "      <td>1</td>\n",
              "      <td>1</td>\n",
              "      <td>0</td>\n",
              "      <td>0</td>\n",
              "      <td>0</td>\n",
              "      <td>1</td>\n",
              "      <td>0.385075</td>\n",
              "      <td>0.215867</td>\n",
              "      <td>0</td>\n",
              "      <td>1</td>\n",
              "      <td>0</td>\n",
              "      <td>0</td>\n",
              "      <td>0</td>\n",
              "      <td>1</td>\n",
              "      <td>0</td>\n",
              "      <td>0</td>\n",
              "      <td>0</td>\n",
              "      <td>0</td>\n",
              "      <td>1</td>\n",
              "    </tr>\n",
              "    <tr>\n",
              "      <th>2</th>\n",
              "      <td>1</td>\n",
              "      <td>0</td>\n",
              "      <td>1</td>\n",
              "      <td>0</td>\n",
              "      <td>0.014085</td>\n",
              "      <td>1</td>\n",
              "      <td>0</td>\n",
              "      <td>1</td>\n",
              "      <td>0</td>\n",
              "      <td>0</td>\n",
              "      <td>0</td>\n",
              "      <td>0</td>\n",
              "      <td>0</td>\n",
              "      <td>0</td>\n",
              "      <td>0.354229</td>\n",
              "      <td>0.010310</td>\n",
              "      <td>1</td>\n",
              "      <td>1</td>\n",
              "      <td>0</td>\n",
              "      <td>0</td>\n",
              "      <td>1</td>\n",
              "      <td>0</td>\n",
              "      <td>0</td>\n",
              "      <td>0</td>\n",
              "      <td>0</td>\n",
              "      <td>0</td>\n",
              "      <td>1</td>\n",
              "    </tr>\n",
              "    <tr>\n",
              "      <th>3</th>\n",
              "      <td>1</td>\n",
              "      <td>0</td>\n",
              "      <td>1</td>\n",
              "      <td>0</td>\n",
              "      <td>0.619718</td>\n",
              "      <td>0</td>\n",
              "      <td>0</td>\n",
              "      <td>1</td>\n",
              "      <td>1</td>\n",
              "      <td>1</td>\n",
              "      <td>1</td>\n",
              "      <td>0</td>\n",
              "      <td>0</td>\n",
              "      <td>1</td>\n",
              "      <td>0.239303</td>\n",
              "      <td>0.210241</td>\n",
              "      <td>0</td>\n",
              "      <td>1</td>\n",
              "      <td>0</td>\n",
              "      <td>0</td>\n",
              "      <td>0</td>\n",
              "      <td>1</td>\n",
              "      <td>0</td>\n",
              "      <td>1</td>\n",
              "      <td>0</td>\n",
              "      <td>0</td>\n",
              "      <td>0</td>\n",
              "    </tr>\n",
              "    <tr>\n",
              "      <th>4</th>\n",
              "      <td>0</td>\n",
              "      <td>0</td>\n",
              "      <td>1</td>\n",
              "      <td>0</td>\n",
              "      <td>0.014085</td>\n",
              "      <td>1</td>\n",
              "      <td>0</td>\n",
              "      <td>0</td>\n",
              "      <td>1</td>\n",
              "      <td>0</td>\n",
              "      <td>0</td>\n",
              "      <td>0</td>\n",
              "      <td>0</td>\n",
              "      <td>0</td>\n",
              "      <td>0.521891</td>\n",
              "      <td>0.015330</td>\n",
              "      <td>1</td>\n",
              "      <td>0</td>\n",
              "      <td>1</td>\n",
              "      <td>0</td>\n",
              "      <td>1</td>\n",
              "      <td>0</td>\n",
              "      <td>0</td>\n",
              "      <td>0</td>\n",
              "      <td>0</td>\n",
              "      <td>1</td>\n",
              "      <td>0</td>\n",
              "    </tr>\n",
              "  </tbody>\n",
              "</table>\n",
              "</div>"
            ],
            "text/plain": [
              "   gender  ...  PaymentMethod_Mailed check\n",
              "0       0  ...                           0\n",
              "1       1  ...                           1\n",
              "2       1  ...                           1\n",
              "3       1  ...                           0\n",
              "4       0  ...                           0\n",
              "\n",
              "[5 rows x 27 columns]"
            ]
          },
          "metadata": {
            "tags": []
          },
          "execution_count": 74
        }
      ]
    },
    {
      "cell_type": "code",
      "metadata": {
        "id": "KlMT8psv21ir"
      },
      "source": [
        "# Under - Sampling"
      ],
      "execution_count": null,
      "outputs": []
    },
    {
      "cell_type": "code",
      "metadata": {
        "id": "2vDcAZqS1pfN"
      },
      "source": [
        "df_0 = df1[df1.Churn == 0]"
      ],
      "execution_count": null,
      "outputs": []
    },
    {
      "cell_type": "code",
      "metadata": {
        "id": "UjxOu5-p1yl1"
      },
      "source": [
        "df_1 = df1[df1.Churn == 1]"
      ],
      "execution_count": null,
      "outputs": []
    },
    {
      "cell_type": "code",
      "metadata": {
        "colab": {
          "base_uri": "https://localhost:8080/"
        },
        "id": "Ft3i1aVc1281",
        "outputId": "b5a75841-2e8a-4b26-fb21-20221afd22a4"
      },
      "source": [
        "len(df_0) , len(df_1)"
      ],
      "execution_count": null,
      "outputs": [
        {
          "output_type": "execute_result",
          "data": {
            "text/plain": [
              "(5163, 1869)"
            ]
          },
          "metadata": {
            "tags": []
          },
          "execution_count": 79
        }
      ]
    },
    {
      "cell_type": "code",
      "metadata": {
        "colab": {
          "base_uri": "https://localhost:8080/",
          "height": 455
        },
        "id": "90xuKW-E17kd",
        "outputId": "5c17f14a-5677-493d-883a-fee0a2d51f2e"
      },
      "source": [
        "df_0.sample(len(df_1)) # gives random samples of specified quantity from the dataframe"
      ],
      "execution_count": null,
      "outputs": [
        {
          "output_type": "execute_result",
          "data": {
            "text/html": [
              "<div>\n",
              "<style scoped>\n",
              "    .dataframe tbody tr th:only-of-type {\n",
              "        vertical-align: middle;\n",
              "    }\n",
              "\n",
              "    .dataframe tbody tr th {\n",
              "        vertical-align: top;\n",
              "    }\n",
              "\n",
              "    .dataframe thead th {\n",
              "        text-align: right;\n",
              "    }\n",
              "</style>\n",
              "<table border=\"1\" class=\"dataframe\">\n",
              "  <thead>\n",
              "    <tr style=\"text-align: right;\">\n",
              "      <th></th>\n",
              "      <th>gender</th>\n",
              "      <th>SeniorCitizen</th>\n",
              "      <th>Partner</th>\n",
              "      <th>Dependents</th>\n",
              "      <th>tenure</th>\n",
              "      <th>PhoneService</th>\n",
              "      <th>MultipleLines</th>\n",
              "      <th>OnlineSecurity</th>\n",
              "      <th>OnlineBackup</th>\n",
              "      <th>DeviceProtection</th>\n",
              "      <th>TechSupport</th>\n",
              "      <th>StreamingTV</th>\n",
              "      <th>StreamingMovies</th>\n",
              "      <th>PaperlessBilling</th>\n",
              "      <th>MonthlyCharges</th>\n",
              "      <th>TotalCharges</th>\n",
              "      <th>Churn</th>\n",
              "      <th>InternetService_DSL</th>\n",
              "      <th>InternetService_Fiber optic</th>\n",
              "      <th>InternetService_No</th>\n",
              "      <th>Contract_Month-to-month</th>\n",
              "      <th>Contract_One year</th>\n",
              "      <th>Contract_Two year</th>\n",
              "      <th>PaymentMethod_Bank transfer (automatic)</th>\n",
              "      <th>PaymentMethod_Credit card (automatic)</th>\n",
              "      <th>PaymentMethod_Electronic check</th>\n",
              "      <th>PaymentMethod_Mailed check</th>\n",
              "    </tr>\n",
              "  </thead>\n",
              "  <tbody>\n",
              "    <tr>\n",
              "      <th>2062</th>\n",
              "      <td>0</td>\n",
              "      <td>0</td>\n",
              "      <td>1</td>\n",
              "      <td>0</td>\n",
              "      <td>0.915493</td>\n",
              "      <td>1</td>\n",
              "      <td>1</td>\n",
              "      <td>0</td>\n",
              "      <td>1</td>\n",
              "      <td>0</td>\n",
              "      <td>0</td>\n",
              "      <td>0</td>\n",
              "      <td>0</td>\n",
              "      <td>0</td>\n",
              "      <td>0.068657</td>\n",
              "      <td>0.192107</td>\n",
              "      <td>0</td>\n",
              "      <td>0</td>\n",
              "      <td>0</td>\n",
              "      <td>1</td>\n",
              "      <td>0</td>\n",
              "      <td>0</td>\n",
              "      <td>1</td>\n",
              "      <td>0</td>\n",
              "      <td>1</td>\n",
              "      <td>0</td>\n",
              "      <td>0</td>\n",
              "    </tr>\n",
              "    <tr>\n",
              "      <th>5173</th>\n",
              "      <td>1</td>\n",
              "      <td>0</td>\n",
              "      <td>0</td>\n",
              "      <td>1</td>\n",
              "      <td>0.042254</td>\n",
              "      <td>1</td>\n",
              "      <td>0</td>\n",
              "      <td>0</td>\n",
              "      <td>1</td>\n",
              "      <td>0</td>\n",
              "      <td>0</td>\n",
              "      <td>0</td>\n",
              "      <td>0</td>\n",
              "      <td>1</td>\n",
              "      <td>0.264179</td>\n",
              "      <td>0.017407</td>\n",
              "      <td>0</td>\n",
              "      <td>1</td>\n",
              "      <td>0</td>\n",
              "      <td>0</td>\n",
              "      <td>1</td>\n",
              "      <td>0</td>\n",
              "      <td>0</td>\n",
              "      <td>0</td>\n",
              "      <td>0</td>\n",
              "      <td>1</td>\n",
              "      <td>0</td>\n",
              "    </tr>\n",
              "    <tr>\n",
              "      <th>1917</th>\n",
              "      <td>0</td>\n",
              "      <td>1</td>\n",
              "      <td>0</td>\n",
              "      <td>0</td>\n",
              "      <td>1.000000</td>\n",
              "      <td>1</td>\n",
              "      <td>1</td>\n",
              "      <td>1</td>\n",
              "      <td>0</td>\n",
              "      <td>1</td>\n",
              "      <td>1</td>\n",
              "      <td>1</td>\n",
              "      <td>1</td>\n",
              "      <td>1</td>\n",
              "      <td>0.704975</td>\n",
              "      <td>0.730856</td>\n",
              "      <td>0</td>\n",
              "      <td>1</td>\n",
              "      <td>0</td>\n",
              "      <td>0</td>\n",
              "      <td>0</td>\n",
              "      <td>0</td>\n",
              "      <td>1</td>\n",
              "      <td>0</td>\n",
              "      <td>1</td>\n",
              "      <td>0</td>\n",
              "      <td>0</td>\n",
              "    </tr>\n",
              "    <tr>\n",
              "      <th>870</th>\n",
              "      <td>0</td>\n",
              "      <td>0</td>\n",
              "      <td>0</td>\n",
              "      <td>0</td>\n",
              "      <td>1.000000</td>\n",
              "      <td>1</td>\n",
              "      <td>1</td>\n",
              "      <td>1</td>\n",
              "      <td>1</td>\n",
              "      <td>1</td>\n",
              "      <td>1</td>\n",
              "      <td>1</td>\n",
              "      <td>0</td>\n",
              "      <td>0</td>\n",
              "      <td>0.795522</td>\n",
              "      <td>0.807420</td>\n",
              "      <td>0</td>\n",
              "      <td>0</td>\n",
              "      <td>1</td>\n",
              "      <td>0</td>\n",
              "      <td>0</td>\n",
              "      <td>0</td>\n",
              "      <td>1</td>\n",
              "      <td>1</td>\n",
              "      <td>0</td>\n",
              "      <td>0</td>\n",
              "      <td>0</td>\n",
              "    </tr>\n",
              "    <tr>\n",
              "      <th>3793</th>\n",
              "      <td>0</td>\n",
              "      <td>0</td>\n",
              "      <td>1</td>\n",
              "      <td>0</td>\n",
              "      <td>0.112676</td>\n",
              "      <td>1</td>\n",
              "      <td>0</td>\n",
              "      <td>0</td>\n",
              "      <td>1</td>\n",
              "      <td>0</td>\n",
              "      <td>0</td>\n",
              "      <td>0</td>\n",
              "      <td>0</td>\n",
              "      <td>1</td>\n",
              "      <td>0.019900</td>\n",
              "      <td>0.019311</td>\n",
              "      <td>0</td>\n",
              "      <td>0</td>\n",
              "      <td>0</td>\n",
              "      <td>1</td>\n",
              "      <td>1</td>\n",
              "      <td>0</td>\n",
              "      <td>0</td>\n",
              "      <td>0</td>\n",
              "      <td>0</td>\n",
              "      <td>0</td>\n",
              "      <td>1</td>\n",
              "    </tr>\n",
              "    <tr>\n",
              "      <th>...</th>\n",
              "      <td>...</td>\n",
              "      <td>...</td>\n",
              "      <td>...</td>\n",
              "      <td>...</td>\n",
              "      <td>...</td>\n",
              "      <td>...</td>\n",
              "      <td>...</td>\n",
              "      <td>...</td>\n",
              "      <td>...</td>\n",
              "      <td>...</td>\n",
              "      <td>...</td>\n",
              "      <td>...</td>\n",
              "      <td>...</td>\n",
              "      <td>...</td>\n",
              "      <td>...</td>\n",
              "      <td>...</td>\n",
              "      <td>...</td>\n",
              "      <td>...</td>\n",
              "      <td>...</td>\n",
              "      <td>...</td>\n",
              "      <td>...</td>\n",
              "      <td>...</td>\n",
              "      <td>...</td>\n",
              "      <td>...</td>\n",
              "      <td>...</td>\n",
              "      <td>...</td>\n",
              "      <td>...</td>\n",
              "    </tr>\n",
              "    <tr>\n",
              "      <th>3210</th>\n",
              "      <td>0</td>\n",
              "      <td>0</td>\n",
              "      <td>0</td>\n",
              "      <td>1</td>\n",
              "      <td>0.887324</td>\n",
              "      <td>1</td>\n",
              "      <td>0</td>\n",
              "      <td>1</td>\n",
              "      <td>1</td>\n",
              "      <td>0</td>\n",
              "      <td>1</td>\n",
              "      <td>1</td>\n",
              "      <td>0</td>\n",
              "      <td>1</td>\n",
              "      <td>0.473134</td>\n",
              "      <td>0.467251</td>\n",
              "      <td>0</td>\n",
              "      <td>1</td>\n",
              "      <td>0</td>\n",
              "      <td>0</td>\n",
              "      <td>0</td>\n",
              "      <td>1</td>\n",
              "      <td>0</td>\n",
              "      <td>0</td>\n",
              "      <td>0</td>\n",
              "      <td>0</td>\n",
              "      <td>1</td>\n",
              "    </tr>\n",
              "    <tr>\n",
              "      <th>6400</th>\n",
              "      <td>0</td>\n",
              "      <td>0</td>\n",
              "      <td>1</td>\n",
              "      <td>0</td>\n",
              "      <td>1.000000</td>\n",
              "      <td>1</td>\n",
              "      <td>1</td>\n",
              "      <td>1</td>\n",
              "      <td>0</td>\n",
              "      <td>0</td>\n",
              "      <td>0</td>\n",
              "      <td>0</td>\n",
              "      <td>0</td>\n",
              "      <td>1</td>\n",
              "      <td>0.412935</td>\n",
              "      <td>0.489984</td>\n",
              "      <td>0</td>\n",
              "      <td>1</td>\n",
              "      <td>0</td>\n",
              "      <td>0</td>\n",
              "      <td>0</td>\n",
              "      <td>0</td>\n",
              "      <td>1</td>\n",
              "      <td>1</td>\n",
              "      <td>0</td>\n",
              "      <td>0</td>\n",
              "      <td>0</td>\n",
              "    </tr>\n",
              "    <tr>\n",
              "      <th>2220</th>\n",
              "      <td>1</td>\n",
              "      <td>0</td>\n",
              "      <td>0</td>\n",
              "      <td>0</td>\n",
              "      <td>1.000000</td>\n",
              "      <td>1</td>\n",
              "      <td>0</td>\n",
              "      <td>1</td>\n",
              "      <td>0</td>\n",
              "      <td>0</td>\n",
              "      <td>1</td>\n",
              "      <td>1</td>\n",
              "      <td>1</td>\n",
              "      <td>0</td>\n",
              "      <td>0.607960</td>\n",
              "      <td>0.661718</td>\n",
              "      <td>0</td>\n",
              "      <td>1</td>\n",
              "      <td>0</td>\n",
              "      <td>0</td>\n",
              "      <td>0</td>\n",
              "      <td>0</td>\n",
              "      <td>1</td>\n",
              "      <td>1</td>\n",
              "      <td>0</td>\n",
              "      <td>0</td>\n",
              "      <td>0</td>\n",
              "    </tr>\n",
              "    <tr>\n",
              "      <th>3854</th>\n",
              "      <td>0</td>\n",
              "      <td>0</td>\n",
              "      <td>0</td>\n",
              "      <td>0</td>\n",
              "      <td>0.690141</td>\n",
              "      <td>1</td>\n",
              "      <td>1</td>\n",
              "      <td>1</td>\n",
              "      <td>0</td>\n",
              "      <td>0</td>\n",
              "      <td>1</td>\n",
              "      <td>1</td>\n",
              "      <td>1</td>\n",
              "      <td>0</td>\n",
              "      <td>0.909453</td>\n",
              "      <td>0.621625</td>\n",
              "      <td>0</td>\n",
              "      <td>0</td>\n",
              "      <td>1</td>\n",
              "      <td>0</td>\n",
              "      <td>1</td>\n",
              "      <td>0</td>\n",
              "      <td>0</td>\n",
              "      <td>1</td>\n",
              "      <td>0</td>\n",
              "      <td>0</td>\n",
              "      <td>0</td>\n",
              "    </tr>\n",
              "    <tr>\n",
              "      <th>6329</th>\n",
              "      <td>0</td>\n",
              "      <td>0</td>\n",
              "      <td>1</td>\n",
              "      <td>0</td>\n",
              "      <td>0.633803</td>\n",
              "      <td>1</td>\n",
              "      <td>0</td>\n",
              "      <td>0</td>\n",
              "      <td>0</td>\n",
              "      <td>1</td>\n",
              "      <td>1</td>\n",
              "      <td>1</td>\n",
              "      <td>1</td>\n",
              "      <td>0</td>\n",
              "      <td>0.857214</td>\n",
              "      <td>0.563743</td>\n",
              "      <td>0</td>\n",
              "      <td>0</td>\n",
              "      <td>1</td>\n",
              "      <td>0</td>\n",
              "      <td>0</td>\n",
              "      <td>0</td>\n",
              "      <td>1</td>\n",
              "      <td>1</td>\n",
              "      <td>0</td>\n",
              "      <td>0</td>\n",
              "      <td>0</td>\n",
              "    </tr>\n",
              "  </tbody>\n",
              "</table>\n",
              "<p>1869 rows × 27 columns</p>\n",
              "</div>"
            ],
            "text/plain": [
              "      gender  ...  PaymentMethod_Mailed check\n",
              "2062       0  ...                           0\n",
              "5173       1  ...                           0\n",
              "1917       0  ...                           0\n",
              "870        0  ...                           0\n",
              "3793       0  ...                           1\n",
              "...      ...  ...                         ...\n",
              "3210       0  ...                           1\n",
              "6400       0  ...                           0\n",
              "2220       1  ...                           0\n",
              "3854       0  ...                           0\n",
              "6329       0  ...                           0\n",
              "\n",
              "[1869 rows x 27 columns]"
            ]
          },
          "metadata": {
            "tags": []
          },
          "execution_count": 80
        }
      ]
    },
    {
      "cell_type": "code",
      "metadata": {
        "id": "CA2lWvXp2tE-"
      },
      "source": [
        "df_0_s = df_0.sample(len(df_1))"
      ],
      "execution_count": null,
      "outputs": []
    },
    {
      "cell_type": "code",
      "metadata": {
        "id": "z3zcAM4v2_i_"
      },
      "source": [
        "df2 = pd.concat([df_0_s,df_1],axis=0)"
      ],
      "execution_count": null,
      "outputs": []
    },
    {
      "cell_type": "code",
      "metadata": {
        "colab": {
          "base_uri": "https://localhost:8080/",
          "height": 249
        },
        "id": "IWIjzI-e3Obm",
        "outputId": "c9a1646b-ceaf-4fe2-9221-2d9192963936"
      },
      "source": [
        "df2.head()"
      ],
      "execution_count": null,
      "outputs": [
        {
          "output_type": "execute_result",
          "data": {
            "text/html": [
              "<div>\n",
              "<style scoped>\n",
              "    .dataframe tbody tr th:only-of-type {\n",
              "        vertical-align: middle;\n",
              "    }\n",
              "\n",
              "    .dataframe tbody tr th {\n",
              "        vertical-align: top;\n",
              "    }\n",
              "\n",
              "    .dataframe thead th {\n",
              "        text-align: right;\n",
              "    }\n",
              "</style>\n",
              "<table border=\"1\" class=\"dataframe\">\n",
              "  <thead>\n",
              "    <tr style=\"text-align: right;\">\n",
              "      <th></th>\n",
              "      <th>gender</th>\n",
              "      <th>SeniorCitizen</th>\n",
              "      <th>Partner</th>\n",
              "      <th>Dependents</th>\n",
              "      <th>tenure</th>\n",
              "      <th>PhoneService</th>\n",
              "      <th>MultipleLines</th>\n",
              "      <th>OnlineSecurity</th>\n",
              "      <th>OnlineBackup</th>\n",
              "      <th>DeviceProtection</th>\n",
              "      <th>TechSupport</th>\n",
              "      <th>StreamingTV</th>\n",
              "      <th>StreamingMovies</th>\n",
              "      <th>PaperlessBilling</th>\n",
              "      <th>MonthlyCharges</th>\n",
              "      <th>TotalCharges</th>\n",
              "      <th>Churn</th>\n",
              "      <th>InternetService_DSL</th>\n",
              "      <th>InternetService_Fiber optic</th>\n",
              "      <th>InternetService_No</th>\n",
              "      <th>Contract_Month-to-month</th>\n",
              "      <th>Contract_One year</th>\n",
              "      <th>Contract_Two year</th>\n",
              "      <th>PaymentMethod_Bank transfer (automatic)</th>\n",
              "      <th>PaymentMethod_Credit card (automatic)</th>\n",
              "      <th>PaymentMethod_Electronic check</th>\n",
              "      <th>PaymentMethod_Mailed check</th>\n",
              "    </tr>\n",
              "  </thead>\n",
              "  <tbody>\n",
              "    <tr>\n",
              "      <th>2992</th>\n",
              "      <td>1</td>\n",
              "      <td>0</td>\n",
              "      <td>1</td>\n",
              "      <td>0</td>\n",
              "      <td>0.154930</td>\n",
              "      <td>0</td>\n",
              "      <td>0</td>\n",
              "      <td>0</td>\n",
              "      <td>0</td>\n",
              "      <td>0</td>\n",
              "      <td>1</td>\n",
              "      <td>0</td>\n",
              "      <td>0</td>\n",
              "      <td>1</td>\n",
              "      <td>0.156716</td>\n",
              "      <td>0.048886</td>\n",
              "      <td>0</td>\n",
              "      <td>1</td>\n",
              "      <td>0</td>\n",
              "      <td>0</td>\n",
              "      <td>1</td>\n",
              "      <td>0</td>\n",
              "      <td>0</td>\n",
              "      <td>0</td>\n",
              "      <td>0</td>\n",
              "      <td>0</td>\n",
              "      <td>1</td>\n",
              "    </tr>\n",
              "    <tr>\n",
              "      <th>2749</th>\n",
              "      <td>1</td>\n",
              "      <td>0</td>\n",
              "      <td>0</td>\n",
              "      <td>1</td>\n",
              "      <td>0.464789</td>\n",
              "      <td>1</td>\n",
              "      <td>1</td>\n",
              "      <td>0</td>\n",
              "      <td>1</td>\n",
              "      <td>1</td>\n",
              "      <td>0</td>\n",
              "      <td>1</td>\n",
              "      <td>1</td>\n",
              "      <td>1</td>\n",
              "      <td>0.586567</td>\n",
              "      <td>0.315601</td>\n",
              "      <td>0</td>\n",
              "      <td>1</td>\n",
              "      <td>0</td>\n",
              "      <td>0</td>\n",
              "      <td>0</td>\n",
              "      <td>1</td>\n",
              "      <td>0</td>\n",
              "      <td>1</td>\n",
              "      <td>0</td>\n",
              "      <td>0</td>\n",
              "      <td>0</td>\n",
              "    </tr>\n",
              "    <tr>\n",
              "      <th>2982</th>\n",
              "      <td>1</td>\n",
              "      <td>0</td>\n",
              "      <td>0</td>\n",
              "      <td>1</td>\n",
              "      <td>0.718310</td>\n",
              "      <td>1</td>\n",
              "      <td>0</td>\n",
              "      <td>0</td>\n",
              "      <td>1</td>\n",
              "      <td>0</td>\n",
              "      <td>0</td>\n",
              "      <td>0</td>\n",
              "      <td>0</td>\n",
              "      <td>0</td>\n",
              "      <td>0.025871</td>\n",
              "      <td>0.121486</td>\n",
              "      <td>0</td>\n",
              "      <td>0</td>\n",
              "      <td>0</td>\n",
              "      <td>1</td>\n",
              "      <td>0</td>\n",
              "      <td>1</td>\n",
              "      <td>0</td>\n",
              "      <td>0</td>\n",
              "      <td>1</td>\n",
              "      <td>0</td>\n",
              "      <td>0</td>\n",
              "    </tr>\n",
              "    <tr>\n",
              "      <th>6758</th>\n",
              "      <td>1</td>\n",
              "      <td>0</td>\n",
              "      <td>1</td>\n",
              "      <td>0</td>\n",
              "      <td>0.366197</td>\n",
              "      <td>1</td>\n",
              "      <td>0</td>\n",
              "      <td>0</td>\n",
              "      <td>1</td>\n",
              "      <td>0</td>\n",
              "      <td>0</td>\n",
              "      <td>0</td>\n",
              "      <td>0</td>\n",
              "      <td>0</td>\n",
              "      <td>0.011443</td>\n",
              "      <td>0.050940</td>\n",
              "      <td>0</td>\n",
              "      <td>0</td>\n",
              "      <td>0</td>\n",
              "      <td>1</td>\n",
              "      <td>1</td>\n",
              "      <td>0</td>\n",
              "      <td>0</td>\n",
              "      <td>0</td>\n",
              "      <td>1</td>\n",
              "      <td>0</td>\n",
              "      <td>0</td>\n",
              "    </tr>\n",
              "    <tr>\n",
              "      <th>2961</th>\n",
              "      <td>1</td>\n",
              "      <td>0</td>\n",
              "      <td>1</td>\n",
              "      <td>0</td>\n",
              "      <td>0.154930</td>\n",
              "      <td>1</td>\n",
              "      <td>0</td>\n",
              "      <td>0</td>\n",
              "      <td>0</td>\n",
              "      <td>0</td>\n",
              "      <td>1</td>\n",
              "      <td>0</td>\n",
              "      <td>0</td>\n",
              "      <td>0</td>\n",
              "      <td>0.353234</td>\n",
              "      <td>0.072681</td>\n",
              "      <td>0</td>\n",
              "      <td>1</td>\n",
              "      <td>0</td>\n",
              "      <td>0</td>\n",
              "      <td>1</td>\n",
              "      <td>0</td>\n",
              "      <td>0</td>\n",
              "      <td>0</td>\n",
              "      <td>0</td>\n",
              "      <td>0</td>\n",
              "      <td>1</td>\n",
              "    </tr>\n",
              "  </tbody>\n",
              "</table>\n",
              "</div>"
            ],
            "text/plain": [
              "      gender  ...  PaymentMethod_Mailed check\n",
              "2992       1  ...                           1\n",
              "2749       1  ...                           0\n",
              "2982       1  ...                           0\n",
              "6758       1  ...                           0\n",
              "2961       1  ...                           1\n",
              "\n",
              "[5 rows x 27 columns]"
            ]
          },
          "metadata": {
            "tags": []
          },
          "execution_count": 84
        }
      ]
    },
    {
      "cell_type": "code",
      "metadata": {
        "id": "saF1LKDy3XPO"
      },
      "source": [
        "X = df2.drop('Churn',axis=1)"
      ],
      "execution_count": null,
      "outputs": []
    },
    {
      "cell_type": "code",
      "metadata": {
        "id": "k0vxqXom4XgH"
      },
      "source": [
        "y = df2.Churn"
      ],
      "execution_count": null,
      "outputs": []
    },
    {
      "cell_type": "code",
      "metadata": {
        "colab": {
          "base_uri": "https://localhost:8080/"
        },
        "id": "nYgwsh2V4Z02",
        "outputId": "7148000f-840d-4b55-df79-a041d2504427"
      },
      "source": [
        "NN_Model(X,y)"
      ],
      "execution_count": null,
      "outputs": [
        {
          "output_type": "stream",
          "text": [
            "Epoch 1/50\n",
            "88/88 [==============================] - 1s 1ms/step - loss: 0.6506 - accuracy: 0.6346\n",
            "Epoch 2/50\n",
            "88/88 [==============================] - 0s 1ms/step - loss: 0.5079 - accuracy: 0.7494\n",
            "Epoch 3/50\n",
            "88/88 [==============================] - 0s 1ms/step - loss: 0.4955 - accuracy: 0.7570\n",
            "Epoch 4/50\n",
            "88/88 [==============================] - 0s 1ms/step - loss: 0.5000 - accuracy: 0.7576\n",
            "Epoch 5/50\n",
            "88/88 [==============================] - 0s 1ms/step - loss: 0.4964 - accuracy: 0.7566\n",
            "Epoch 6/50\n",
            "88/88 [==============================] - 0s 1ms/step - loss: 0.4809 - accuracy: 0.7724\n",
            "Epoch 7/50\n",
            "88/88 [==============================] - 0s 1ms/step - loss: 0.4800 - accuracy: 0.7662\n",
            "Epoch 8/50\n",
            "88/88 [==============================] - 0s 1ms/step - loss: 0.4649 - accuracy: 0.7766\n",
            "Epoch 9/50\n",
            "88/88 [==============================] - 0s 2ms/step - loss: 0.4649 - accuracy: 0.7818\n",
            "Epoch 10/50\n",
            "88/88 [==============================] - 0s 1ms/step - loss: 0.4654 - accuracy: 0.7745\n",
            "Epoch 11/50\n",
            "88/88 [==============================] - 0s 1ms/step - loss: 0.4504 - accuracy: 0.7721\n",
            "Epoch 12/50\n",
            "88/88 [==============================] - 0s 1ms/step - loss: 0.4656 - accuracy: 0.7791\n",
            "Epoch 13/50\n",
            "88/88 [==============================] - 0s 1ms/step - loss: 0.4591 - accuracy: 0.7817\n",
            "Epoch 14/50\n",
            "88/88 [==============================] - 0s 1ms/step - loss: 0.4592 - accuracy: 0.7787\n",
            "Epoch 15/50\n",
            "88/88 [==============================] - 0s 1ms/step - loss: 0.4407 - accuracy: 0.7945\n",
            "Epoch 16/50\n",
            "88/88 [==============================] - 0s 1ms/step - loss: 0.4392 - accuracy: 0.7917\n",
            "Epoch 17/50\n",
            "88/88 [==============================] - 0s 1ms/step - loss: 0.4412 - accuracy: 0.7879\n",
            "Epoch 18/50\n",
            "88/88 [==============================] - 0s 1ms/step - loss: 0.4447 - accuracy: 0.7864\n",
            "Epoch 19/50\n",
            "88/88 [==============================] - 0s 1ms/step - loss: 0.4407 - accuracy: 0.7795\n",
            "Epoch 20/50\n",
            "88/88 [==============================] - 0s 1ms/step - loss: 0.4331 - accuracy: 0.7966\n",
            "Epoch 21/50\n",
            "88/88 [==============================] - 0s 1ms/step - loss: 0.4501 - accuracy: 0.7814\n",
            "Epoch 22/50\n",
            "88/88 [==============================] - 0s 1ms/step - loss: 0.4368 - accuracy: 0.7927\n",
            "Epoch 23/50\n",
            "88/88 [==============================] - 0s 1ms/step - loss: 0.4343 - accuracy: 0.7977\n",
            "Epoch 24/50\n",
            "88/88 [==============================] - 0s 1ms/step - loss: 0.4101 - accuracy: 0.8079\n",
            "Epoch 25/50\n",
            "88/88 [==============================] - 0s 1ms/step - loss: 0.4363 - accuracy: 0.7969\n",
            "Epoch 26/50\n",
            "88/88 [==============================] - 0s 1ms/step - loss: 0.4131 - accuracy: 0.8053\n",
            "Epoch 27/50\n",
            "88/88 [==============================] - 0s 1ms/step - loss: 0.4244 - accuracy: 0.7940\n",
            "Epoch 28/50\n",
            "88/88 [==============================] - 0s 1ms/step - loss: 0.4062 - accuracy: 0.8135\n",
            "Epoch 29/50\n",
            "88/88 [==============================] - 0s 1ms/step - loss: 0.4050 - accuracy: 0.8241\n",
            "Epoch 30/50\n",
            "88/88 [==============================] - 0s 1ms/step - loss: 0.4009 - accuracy: 0.8154\n",
            "Epoch 31/50\n",
            "88/88 [==============================] - 0s 1ms/step - loss: 0.4120 - accuracy: 0.8036\n",
            "Epoch 32/50\n",
            "88/88 [==============================] - 0s 1ms/step - loss: 0.4078 - accuracy: 0.8081\n",
            "Epoch 33/50\n",
            "88/88 [==============================] - 0s 1ms/step - loss: 0.4093 - accuracy: 0.8080\n",
            "Epoch 34/50\n",
            "88/88 [==============================] - 0s 1ms/step - loss: 0.4004 - accuracy: 0.8157\n",
            "Epoch 35/50\n",
            "88/88 [==============================] - 0s 1ms/step - loss: 0.3930 - accuracy: 0.8229\n",
            "Epoch 36/50\n",
            "88/88 [==============================] - 0s 1ms/step - loss: 0.3863 - accuracy: 0.8255\n",
            "Epoch 37/50\n",
            "88/88 [==============================] - 0s 1ms/step - loss: 0.3940 - accuracy: 0.8196\n",
            "Epoch 38/50\n",
            "88/88 [==============================] - 0s 2ms/step - loss: 0.3814 - accuracy: 0.8282\n",
            "Epoch 39/50\n",
            "88/88 [==============================] - 0s 1ms/step - loss: 0.3799 - accuracy: 0.8362\n",
            "Epoch 40/50\n",
            "88/88 [==============================] - 0s 1ms/step - loss: 0.3807 - accuracy: 0.8217\n",
            "Epoch 41/50\n",
            "88/88 [==============================] - 0s 1ms/step - loss: 0.3998 - accuracy: 0.8110\n",
            "Epoch 42/50\n",
            "88/88 [==============================] - 0s 1ms/step - loss: 0.3920 - accuracy: 0.8161\n",
            "Epoch 43/50\n",
            "88/88 [==============================] - 0s 1ms/step - loss: 0.3630 - accuracy: 0.8368\n",
            "Epoch 44/50\n",
            "88/88 [==============================] - 0s 1ms/step - loss: 0.3802 - accuracy: 0.8283\n",
            "Epoch 45/50\n",
            "88/88 [==============================] - 0s 1ms/step - loss: 0.3793 - accuracy: 0.8210\n",
            "Epoch 46/50\n",
            "88/88 [==============================] - 0s 1ms/step - loss: 0.3697 - accuracy: 0.8252\n",
            "Epoch 47/50\n",
            "88/88 [==============================] - 0s 1ms/step - loss: 0.3642 - accuracy: 0.8390\n",
            "Epoch 48/50\n",
            "88/88 [==============================] - 0s 1ms/step - loss: 0.3738 - accuracy: 0.8360\n",
            "Epoch 49/50\n",
            "88/88 [==============================] - 0s 1ms/step - loss: 0.3566 - accuracy: 0.8300\n",
            "Epoch 50/50\n",
            "88/88 [==============================] - 0s 1ms/step - loss: 0.3593 - accuracy: 0.8430\n",
            "30/30 [==============================] - 0s 935us/step - loss: 0.5846 - accuracy: 0.7337\n",
            "[0.5846318006515503, 0.7336898446083069]\n",
            "Classification Report: \n",
            "               precision    recall  f1-score   support\n",
            "\n",
            "           0       0.76      0.69      0.72       467\n",
            "           1       0.71      0.78      0.75       468\n",
            "\n",
            "    accuracy                           0.73       935\n",
            "   macro avg       0.74      0.73      0.73       935\n",
            "weighted avg       0.74      0.73      0.73       935\n",
            "\n"
          ],
          "name": "stdout"
        }
      ]
    },
    {
      "cell_type": "code",
      "metadata": {
        "id": "d6RoN9BQ4cF-"
      },
      "source": [
        "# f1 score for minority class increased significantly\n",
        "# Lets try more techniques"
      ],
      "execution_count": null,
      "outputs": []
    },
    {
      "cell_type": "code",
      "metadata": {
        "id": "Appum1_H5Njp"
      },
      "source": [
        "# Over-Sampling"
      ],
      "execution_count": null,
      "outputs": []
    },
    {
      "cell_type": "code",
      "metadata": {
        "colab": {
          "base_uri": "https://localhost:8080/"
        },
        "id": "vrbLeTCL5PbR",
        "outputId": "80298b81-4b81-48c5-a889-898b181a7d4b"
      },
      "source": [
        "len(df_0),len(df_1)"
      ],
      "execution_count": null,
      "outputs": [
        {
          "output_type": "execute_result",
          "data": {
            "text/plain": [
              "(5163, 1869)"
            ]
          },
          "metadata": {
            "tags": []
          },
          "execution_count": 98
        }
      ]
    },
    {
      "cell_type": "code",
      "metadata": {
        "id": "6YGQWk4T5sQ2"
      },
      "source": [
        "df_1_s = df_1.sample(len(df_0), replace=True)"
      ],
      "execution_count": null,
      "outputs": []
    },
    {
      "cell_type": "code",
      "metadata": {
        "colab": {
          "base_uri": "https://localhost:8080/"
        },
        "id": "x9QHMFr85zqG",
        "outputId": "4f742a53-597e-4d8e-94f2-3b4929c2cc89"
      },
      "source": [
        "len(df_1_s)"
      ],
      "execution_count": null,
      "outputs": [
        {
          "output_type": "execute_result",
          "data": {
            "text/plain": [
              "5163"
            ]
          },
          "metadata": {
            "tags": []
          },
          "execution_count": 97
        }
      ]
    },
    {
      "cell_type": "code",
      "metadata": {
        "id": "TiZKGk4N54s-"
      },
      "source": [
        "df3 = pd.concat([df_0,df_1_s],axis=0)"
      ],
      "execution_count": null,
      "outputs": []
    },
    {
      "cell_type": "code",
      "metadata": {
        "id": "xaiOSQGn6Gnu"
      },
      "source": [
        "X = df3.drop('Churn',axis=1)"
      ],
      "execution_count": null,
      "outputs": []
    },
    {
      "cell_type": "code",
      "metadata": {
        "id": "RdQypSNs6J-e"
      },
      "source": [
        "y = df3.Churn"
      ],
      "execution_count": null,
      "outputs": []
    },
    {
      "cell_type": "code",
      "metadata": {
        "colab": {
          "base_uri": "https://localhost:8080/"
        },
        "id": "FhAICj3N6LLW",
        "outputId": "c675ecb4-6652-4fc9-b8ae-640ca38fb5dc"
      },
      "source": [
        "NN_Model(X,y)"
      ],
      "execution_count": null,
      "outputs": [
        {
          "output_type": "stream",
          "text": [
            "Epoch 1/50\n",
            "242/242 [==============================] - 1s 1ms/step - loss: 0.5939 - accuracy: 0.6837\n",
            "Epoch 2/50\n",
            "242/242 [==============================] - 0s 1ms/step - loss: 0.4826 - accuracy: 0.7694\n",
            "Epoch 3/50\n",
            "242/242 [==============================] - 0s 1ms/step - loss: 0.4709 - accuracy: 0.7742\n",
            "Epoch 4/50\n",
            "242/242 [==============================] - 0s 1ms/step - loss: 0.4682 - accuracy: 0.7829\n",
            "Epoch 5/50\n",
            "242/242 [==============================] - 0s 1ms/step - loss: 0.4621 - accuracy: 0.7815\n",
            "Epoch 6/50\n",
            "242/242 [==============================] - 0s 1ms/step - loss: 0.4585 - accuracy: 0.7832\n",
            "Epoch 7/50\n",
            "242/242 [==============================] - 0s 1ms/step - loss: 0.4640 - accuracy: 0.7836\n",
            "Epoch 8/50\n",
            "242/242 [==============================] - 0s 1ms/step - loss: 0.4547 - accuracy: 0.7889\n",
            "Epoch 9/50\n",
            "242/242 [==============================] - 0s 1ms/step - loss: 0.4457 - accuracy: 0.7909\n",
            "Epoch 10/50\n",
            "242/242 [==============================] - 0s 1ms/step - loss: 0.4460 - accuracy: 0.7900\n",
            "Epoch 11/50\n",
            "242/242 [==============================] - 0s 1ms/step - loss: 0.4643 - accuracy: 0.7818\n",
            "Epoch 12/50\n",
            "242/242 [==============================] - 0s 1ms/step - loss: 0.4417 - accuracy: 0.7968\n",
            "Epoch 13/50\n",
            "242/242 [==============================] - 0s 1ms/step - loss: 0.4453 - accuracy: 0.7972\n",
            "Epoch 14/50\n",
            "242/242 [==============================] - 0s 1ms/step - loss: 0.4234 - accuracy: 0.8105\n",
            "Epoch 15/50\n",
            "242/242 [==============================] - 0s 1ms/step - loss: 0.4231 - accuracy: 0.8058\n",
            "Epoch 16/50\n",
            "242/242 [==============================] - 0s 1ms/step - loss: 0.4212 - accuracy: 0.8052\n",
            "Epoch 17/50\n",
            "242/242 [==============================] - 0s 1ms/step - loss: 0.4208 - accuracy: 0.8009\n",
            "Epoch 18/50\n",
            "242/242 [==============================] - 0s 1ms/step - loss: 0.4117 - accuracy: 0.8094\n",
            "Epoch 19/50\n",
            "242/242 [==============================] - 0s 1ms/step - loss: 0.4082 - accuracy: 0.8162\n",
            "Epoch 20/50\n",
            "242/242 [==============================] - 0s 1ms/step - loss: 0.4126 - accuracy: 0.8168\n",
            "Epoch 21/50\n",
            "242/242 [==============================] - 0s 1ms/step - loss: 0.4027 - accuracy: 0.8162\n",
            "Epoch 22/50\n",
            "242/242 [==============================] - 0s 1ms/step - loss: 0.4026 - accuracy: 0.8198\n",
            "Epoch 23/50\n",
            "242/242 [==============================] - 0s 1ms/step - loss: 0.3918 - accuracy: 0.8214\n",
            "Epoch 24/50\n",
            "242/242 [==============================] - 0s 1ms/step - loss: 0.3980 - accuracy: 0.8180\n",
            "Epoch 25/50\n",
            "242/242 [==============================] - 0s 1ms/step - loss: 0.3913 - accuracy: 0.8231\n",
            "Epoch 26/50\n",
            "242/242 [==============================] - 0s 1ms/step - loss: 0.3940 - accuracy: 0.8232\n",
            "Epoch 27/50\n",
            "242/242 [==============================] - 0s 1ms/step - loss: 0.3932 - accuracy: 0.8216\n",
            "Epoch 28/50\n",
            "242/242 [==============================] - 0s 1ms/step - loss: 0.3864 - accuracy: 0.8321\n",
            "Epoch 29/50\n",
            "242/242 [==============================] - 0s 1ms/step - loss: 0.3879 - accuracy: 0.8286\n",
            "Epoch 30/50\n",
            "242/242 [==============================] - 0s 1ms/step - loss: 0.3803 - accuracy: 0.8317\n",
            "Epoch 31/50\n",
            "242/242 [==============================] - 0s 1ms/step - loss: 0.3725 - accuracy: 0.8274\n",
            "Epoch 32/50\n",
            "242/242 [==============================] - 0s 1ms/step - loss: 0.3688 - accuracy: 0.8371\n",
            "Epoch 33/50\n",
            "242/242 [==============================] - 0s 1ms/step - loss: 0.3606 - accuracy: 0.8404\n",
            "Epoch 34/50\n",
            "242/242 [==============================] - 0s 1ms/step - loss: 0.3674 - accuracy: 0.8437\n",
            "Epoch 35/50\n",
            "242/242 [==============================] - 0s 1ms/step - loss: 0.3572 - accuracy: 0.8415\n",
            "Epoch 36/50\n",
            "242/242 [==============================] - 0s 1ms/step - loss: 0.3712 - accuracy: 0.8322\n",
            "Epoch 37/50\n",
            "242/242 [==============================] - 0s 1ms/step - loss: 0.3695 - accuracy: 0.8376\n",
            "Epoch 38/50\n",
            "242/242 [==============================] - 0s 1ms/step - loss: 0.3631 - accuracy: 0.8302\n",
            "Epoch 39/50\n",
            "242/242 [==============================] - 0s 1ms/step - loss: 0.3661 - accuracy: 0.8358\n",
            "Epoch 40/50\n",
            "242/242 [==============================] - 0s 1ms/step - loss: 0.3493 - accuracy: 0.8449\n",
            "Epoch 41/50\n",
            "242/242 [==============================] - 0s 1ms/step - loss: 0.3478 - accuracy: 0.8465\n",
            "Epoch 42/50\n",
            "242/242 [==============================] - 0s 1ms/step - loss: 0.3527 - accuracy: 0.8425\n",
            "Epoch 43/50\n",
            "242/242 [==============================] - 0s 1ms/step - loss: 0.3466 - accuracy: 0.8419\n",
            "Epoch 44/50\n",
            "242/242 [==============================] - 0s 1ms/step - loss: 0.3427 - accuracy: 0.8494\n",
            "Epoch 45/50\n",
            "242/242 [==============================] - 0s 1ms/step - loss: 0.3477 - accuracy: 0.8464\n",
            "Epoch 46/50\n",
            "242/242 [==============================] - 0s 1ms/step - loss: 0.3336 - accuracy: 0.8520\n",
            "Epoch 47/50\n",
            "242/242 [==============================] - 0s 1ms/step - loss: 0.3470 - accuracy: 0.8487\n",
            "Epoch 48/50\n",
            "242/242 [==============================] - 0s 1ms/step - loss: 0.3357 - accuracy: 0.8551\n",
            "Epoch 49/50\n",
            "242/242 [==============================] - 0s 1ms/step - loss: 0.3483 - accuracy: 0.8485\n",
            "Epoch 50/50\n",
            "242/242 [==============================] - 0s 1ms/step - loss: 0.3360 - accuracy: 0.8557\n",
            "81/81 [==============================] - 0s 1ms/step - loss: 0.4759 - accuracy: 0.7986\n",
            "[0.4758569300174713, 0.798605740070343]\n",
            "Classification Report: \n",
            "               precision    recall  f1-score   support\n",
            "\n",
            "           0       0.87      0.70      0.78      1291\n",
            "           1       0.75      0.90      0.82      1291\n",
            "\n",
            "    accuracy                           0.80      2582\n",
            "   macro avg       0.81      0.80      0.80      2582\n",
            "weighted avg       0.81      0.80      0.80      2582\n",
            "\n"
          ],
          "name": "stdout"
        }
      ]
    },
    {
      "cell_type": "code",
      "metadata": {
        "id": "wHJYvrnb6Nfu"
      },
      "source": [
        "# accuracy is a little better than our original data set and also the f1 scores are  better too(way better for minority class).\n",
        "#in this case over sampling really helped our use case"
      ],
      "execution_count": null,
      "outputs": []
    },
    {
      "cell_type": "code",
      "metadata": {
        "id": "ml1XMmll6k0e"
      },
      "source": [
        "# Using SMOTE ( replicating samples with the help of knn)"
      ],
      "execution_count": null,
      "outputs": []
    },
    {
      "cell_type": "code",
      "metadata": {
        "id": "5TzIgXN96wEf"
      },
      "source": [
        "from imblearn.over_sampling import SMOTE"
      ],
      "execution_count": null,
      "outputs": []
    },
    {
      "cell_type": "code",
      "metadata": {
        "id": "-7CQPuAo7CmU"
      },
      "source": [
        "X = df1.drop('Churn',axis=1)"
      ],
      "execution_count": null,
      "outputs": []
    },
    {
      "cell_type": "code",
      "metadata": {
        "id": "KqB0sJ4171NT"
      },
      "source": [
        "y= df1.Churn"
      ],
      "execution_count": null,
      "outputs": []
    },
    {
      "cell_type": "code",
      "metadata": {
        "id": "RcifyaRU73O3"
      },
      "source": [
        "sm = SMOTE()"
      ],
      "execution_count": null,
      "outputs": []
    },
    {
      "cell_type": "code",
      "metadata": {
        "colab": {
          "base_uri": "https://localhost:8080/"
        },
        "id": "8PoW88Bt77lW",
        "outputId": "4bd823e5-9f44-426e-ee6a-60dc72fb0242"
      },
      "source": [
        "X_s , y_s = sm.fit_sample(X,y)"
      ],
      "execution_count": null,
      "outputs": [
        {
          "output_type": "stream",
          "text": [
            "/usr/local/lib/python3.7/dist-packages/sklearn/utils/deprecation.py:87: FutureWarning: Function safe_indexing is deprecated; safe_indexing is deprecated in version 0.22 and will be removed in version 0.24.\n",
            "  warnings.warn(msg, category=FutureWarning)\n"
          ],
          "name": "stderr"
        }
      ]
    },
    {
      "cell_type": "code",
      "metadata": {
        "colab": {
          "base_uri": "https://localhost:8080/"
        },
        "id": "9fX4yBRu8LW3",
        "outputId": "8fcee012-a4c7-423c-ca51-2bbd76758e75"
      },
      "source": [
        "len(X_s),len(y_s)"
      ],
      "execution_count": null,
      "outputs": [
        {
          "output_type": "execute_result",
          "data": {
            "text/plain": [
              "(10326, 10326)"
            ]
          },
          "metadata": {
            "tags": []
          },
          "execution_count": 110
        }
      ]
    },
    {
      "cell_type": "code",
      "metadata": {
        "colab": {
          "base_uri": "https://localhost:8080/"
        },
        "id": "GMDV9IZn8Rk_",
        "outputId": "ed436543-d8e0-485d-b1ed-fac0a57bdee3"
      },
      "source": [
        "NN_Model(X_s,y_s)"
      ],
      "execution_count": null,
      "outputs": [
        {
          "output_type": "stream",
          "text": [
            "Epoch 1/50\n",
            "242/242 [==============================] - 1s 1ms/step - loss: 0.5837 - accuracy: 0.6845\n",
            "Epoch 2/50\n",
            "242/242 [==============================] - 0s 1ms/step - loss: 0.4803 - accuracy: 0.7679\n",
            "Epoch 3/50\n",
            "242/242 [==============================] - 0s 1ms/step - loss: 0.4622 - accuracy: 0.7794\n",
            "Epoch 4/50\n",
            "242/242 [==============================] - 0s 1ms/step - loss: 0.4427 - accuracy: 0.7897\n",
            "Epoch 5/50\n",
            "242/242 [==============================] - 0s 1ms/step - loss: 0.4465 - accuracy: 0.7880\n",
            "Epoch 6/50\n",
            "242/242 [==============================] - 0s 1ms/step - loss: 0.4443 - accuracy: 0.7941\n",
            "Epoch 7/50\n",
            "242/242 [==============================] - 0s 1ms/step - loss: 0.4439 - accuracy: 0.7829\n",
            "Epoch 8/50\n",
            "242/242 [==============================] - 0s 1ms/step - loss: 0.4354 - accuracy: 0.7917\n",
            "Epoch 9/50\n",
            "242/242 [==============================] - 0s 1ms/step - loss: 0.4384 - accuracy: 0.7913\n",
            "Epoch 10/50\n",
            "242/242 [==============================] - 0s 1ms/step - loss: 0.4248 - accuracy: 0.8007\n",
            "Epoch 11/50\n",
            "242/242 [==============================] - 0s 1ms/step - loss: 0.4252 - accuracy: 0.8028\n",
            "Epoch 12/50\n",
            "242/242 [==============================] - 0s 1ms/step - loss: 0.4140 - accuracy: 0.8123\n",
            "Epoch 13/50\n",
            "242/242 [==============================] - 0s 1ms/step - loss: 0.4140 - accuracy: 0.8089\n",
            "Epoch 14/50\n",
            "242/242 [==============================] - 0s 1ms/step - loss: 0.4073 - accuracy: 0.8132\n",
            "Epoch 15/50\n",
            "242/242 [==============================] - 0s 1ms/step - loss: 0.4102 - accuracy: 0.8095\n",
            "Epoch 16/50\n",
            "242/242 [==============================] - 0s 1ms/step - loss: 0.4066 - accuracy: 0.8114\n",
            "Epoch 17/50\n",
            "242/242 [==============================] - 0s 1ms/step - loss: 0.3940 - accuracy: 0.8240\n",
            "Epoch 18/50\n",
            "242/242 [==============================] - 0s 1ms/step - loss: 0.3817 - accuracy: 0.8324\n",
            "Epoch 19/50\n",
            "242/242 [==============================] - 0s 1ms/step - loss: 0.3949 - accuracy: 0.8219\n",
            "Epoch 20/50\n",
            "242/242 [==============================] - 0s 1ms/step - loss: 0.3927 - accuracy: 0.8269\n",
            "Epoch 21/50\n",
            "242/242 [==============================] - 0s 1ms/step - loss: 0.3936 - accuracy: 0.8242\n",
            "Epoch 22/50\n",
            "242/242 [==============================] - 0s 1ms/step - loss: 0.3771 - accuracy: 0.8334\n",
            "Epoch 23/50\n",
            "242/242 [==============================] - 0s 1ms/step - loss: 0.3815 - accuracy: 0.8315\n",
            "Epoch 24/50\n",
            "242/242 [==============================] - 0s 1ms/step - loss: 0.3889 - accuracy: 0.8301\n",
            "Epoch 25/50\n",
            "242/242 [==============================] - 0s 1ms/step - loss: 0.3780 - accuracy: 0.8307\n",
            "Epoch 26/50\n",
            "242/242 [==============================] - 0s 1ms/step - loss: 0.3689 - accuracy: 0.8359\n",
            "Epoch 27/50\n",
            "242/242 [==============================] - 0s 1ms/step - loss: 0.3564 - accuracy: 0.8469\n",
            "Epoch 28/50\n",
            "242/242 [==============================] - 0s 1ms/step - loss: 0.3618 - accuracy: 0.8444\n",
            "Epoch 29/50\n",
            "242/242 [==============================] - 0s 1ms/step - loss: 0.3538 - accuracy: 0.8387\n",
            "Epoch 30/50\n",
            "242/242 [==============================] - 0s 1ms/step - loss: 0.3634 - accuracy: 0.8338\n",
            "Epoch 31/50\n",
            "242/242 [==============================] - 0s 1ms/step - loss: 0.3656 - accuracy: 0.8354\n",
            "Epoch 32/50\n",
            "242/242 [==============================] - 0s 1ms/step - loss: 0.3458 - accuracy: 0.8489\n",
            "Epoch 33/50\n",
            "242/242 [==============================] - 0s 1ms/step - loss: 0.3503 - accuracy: 0.8459\n",
            "Epoch 34/50\n",
            "242/242 [==============================] - 0s 1ms/step - loss: 0.3496 - accuracy: 0.8498\n",
            "Epoch 35/50\n",
            "242/242 [==============================] - 0s 1ms/step - loss: 0.3509 - accuracy: 0.8465\n",
            "Epoch 36/50\n",
            "242/242 [==============================] - 0s 1ms/step - loss: 0.3418 - accuracy: 0.8570\n",
            "Epoch 37/50\n",
            "242/242 [==============================] - 0s 1ms/step - loss: 0.3522 - accuracy: 0.8441\n",
            "Epoch 38/50\n",
            "242/242 [==============================] - 0s 1ms/step - loss: 0.3514 - accuracy: 0.8421\n",
            "Epoch 39/50\n",
            "242/242 [==============================] - 0s 1ms/step - loss: 0.3440 - accuracy: 0.8514\n",
            "Epoch 40/50\n",
            "242/242 [==============================] - 0s 1ms/step - loss: 0.3354 - accuracy: 0.8520\n",
            "Epoch 41/50\n",
            "242/242 [==============================] - 0s 1ms/step - loss: 0.3273 - accuracy: 0.8585\n",
            "Epoch 42/50\n",
            "242/242 [==============================] - 0s 1ms/step - loss: 0.3428 - accuracy: 0.8474\n",
            "Epoch 43/50\n",
            "242/242 [==============================] - 0s 1ms/step - loss: 0.3265 - accuracy: 0.8570\n",
            "Epoch 44/50\n",
            "242/242 [==============================] - 0s 1ms/step - loss: 0.3252 - accuracy: 0.8637\n",
            "Epoch 45/50\n",
            "242/242 [==============================] - 0s 1ms/step - loss: 0.3273 - accuracy: 0.8583\n",
            "Epoch 46/50\n",
            "242/242 [==============================] - 0s 1ms/step - loss: 0.3275 - accuracy: 0.8561\n",
            "Epoch 47/50\n",
            "242/242 [==============================] - 0s 1ms/step - loss: 0.3439 - accuracy: 0.8474\n",
            "Epoch 48/50\n",
            "242/242 [==============================] - 0s 1ms/step - loss: 0.3242 - accuracy: 0.8521\n",
            "Epoch 49/50\n",
            "242/242 [==============================] - 0s 1ms/step - loss: 0.3172 - accuracy: 0.8693\n",
            "Epoch 50/50\n",
            "242/242 [==============================] - 0s 1ms/step - loss: 0.3185 - accuracy: 0.8619\n",
            "81/81 [==============================] - 0s 921us/step - loss: 0.4468 - accuracy: 0.7982\n",
            "[0.4467700123786926, 0.7982184290885925]\n",
            "Classification Report: \n",
            "               precision    recall  f1-score   support\n",
            "\n",
            "           0       0.84      0.74      0.79      1291\n",
            "           1       0.77      0.86      0.81      1291\n",
            "\n",
            "    accuracy                           0.80      2582\n",
            "   macro avg       0.80      0.80      0.80      2582\n",
            "weighted avg       0.80      0.80      0.80      2582\n",
            "\n"
          ],
          "name": "stdout"
        }
      ]
    },
    {
      "cell_type": "code",
      "metadata": {
        "id": "MVPgYpOz800h"
      },
      "source": [
        "# results are similar to normal over sampling not much benefit of SMOTE here"
      ],
      "execution_count": null,
      "outputs": []
    },
    {
      "cell_type": "code",
      "metadata": {
        "id": "dY98-QV99AU2"
      },
      "source": [
        "#Ensembling(in under sampling when we are undersampling the majority class we can try create groups of the majority class in (majority/minority) no.s and do those no. of model testing and take the average of the same."
      ],
      "execution_count": null,
      "outputs": []
    },
    {
      "cell_type": "code",
      "metadata": {
        "colab": {
          "base_uri": "https://localhost:8080/"
        },
        "id": "i5ZtYtty9-_X",
        "outputId": "50eea3be-f79f-4d57-ea12-d43618226be1"
      },
      "source": [
        "len(df_0),len(df_1)"
      ],
      "execution_count": null,
      "outputs": [
        {
          "output_type": "execute_result",
          "data": {
            "text/plain": [
              "(5163, 1869)"
            ]
          },
          "metadata": {
            "tags": []
          },
          "execution_count": 114
        }
      ]
    },
    {
      "cell_type": "code",
      "metadata": {
        "colab": {
          "base_uri": "https://localhost:8080/"
        },
        "id": "AeJukVT5-hiP",
        "outputId": "becc68cd-0827-432b-c7dd-abe00e5ff645"
      },
      "source": [
        "5163/1869"
      ],
      "execution_count": null,
      "outputs": [
        {
          "output_type": "execute_result",
          "data": {
            "text/plain": [
              "2.7624398073836276"
            ]
          },
          "metadata": {
            "tags": []
          },
          "execution_count": 115
        }
      ]
    },
    {
      "cell_type": "code",
      "metadata": {
        "colab": {
          "base_uri": "https://localhost:8080/"
        },
        "id": "ydYq3Npi-kFw",
        "outputId": "b5a8ff61-2bf1-4413-af2a-1b2522e4e54d"
      },
      "source": [
        "len(df_0[:1869])"
      ],
      "execution_count": null,
      "outputs": [
        {
          "output_type": "execute_result",
          "data": {
            "text/plain": [
              "1869"
            ]
          },
          "metadata": {
            "tags": []
          },
          "execution_count": 116
        }
      ]
    },
    {
      "cell_type": "code",
      "metadata": {
        "id": "c5Z05Nfs-qRH"
      },
      "source": [
        "df4 = pd.concat([df_0[:1869],df_1],axis=0)"
      ],
      "execution_count": null,
      "outputs": []
    },
    {
      "cell_type": "code",
      "metadata": {
        "id": "lfWOt6a3-1v_"
      },
      "source": [
        "df5 = pd.concat([df_0[1869:3738],df_1],axis=0)"
      ],
      "execution_count": null,
      "outputs": []
    },
    {
      "cell_type": "code",
      "metadata": {
        "id": "7f9vbBXD_B5j"
      },
      "source": [
        "df6 = pd.concat([df_0[3738:],df_1],axis=0)"
      ],
      "execution_count": null,
      "outputs": []
    },
    {
      "cell_type": "code",
      "metadata": {
        "colab": {
          "base_uri": "https://localhost:8080/"
        },
        "id": "ZjwLE234_IiQ",
        "outputId": "5f3e2e58-dfc6-4eb8-bbd5-4e22996ba9a4"
      },
      "source": [
        "NN_Model(df4.drop('Churn',axis=1),df4.Churn)"
      ],
      "execution_count": null,
      "outputs": [
        {
          "output_type": "stream",
          "text": [
            "Epoch 1/50\n",
            "88/88 [==============================] - 1s 1ms/step - loss: 0.6166 - accuracy: 0.6843\n",
            "Epoch 2/50\n",
            "88/88 [==============================] - 0s 1ms/step - loss: 0.5124 - accuracy: 0.7495\n",
            "Epoch 3/50\n",
            "88/88 [==============================] - 0s 1ms/step - loss: 0.5002 - accuracy: 0.7532\n",
            "Epoch 4/50\n",
            "88/88 [==============================] - 0s 1ms/step - loss: 0.4798 - accuracy: 0.7709\n",
            "Epoch 5/50\n",
            "88/88 [==============================] - 0s 1ms/step - loss: 0.4796 - accuracy: 0.7643\n",
            "Epoch 6/50\n",
            "88/88 [==============================] - 0s 1ms/step - loss: 0.4764 - accuracy: 0.7770\n",
            "Epoch 7/50\n",
            "88/88 [==============================] - 0s 2ms/step - loss: 0.4953 - accuracy: 0.7603\n",
            "Epoch 8/50\n",
            "88/88 [==============================] - 0s 1ms/step - loss: 0.4845 - accuracy: 0.7618\n",
            "Epoch 9/50\n",
            "88/88 [==============================] - 0s 1ms/step - loss: 0.4584 - accuracy: 0.7897\n",
            "Epoch 10/50\n",
            "88/88 [==============================] - 0s 2ms/step - loss: 0.4887 - accuracy: 0.7700\n",
            "Epoch 11/50\n",
            "88/88 [==============================] - 0s 1ms/step - loss: 0.4577 - accuracy: 0.7806\n",
            "Epoch 12/50\n",
            "88/88 [==============================] - 0s 1ms/step - loss: 0.4676 - accuracy: 0.7658\n",
            "Epoch 13/50\n",
            "88/88 [==============================] - 0s 1ms/step - loss: 0.4635 - accuracy: 0.7795\n",
            "Epoch 14/50\n",
            "88/88 [==============================] - 0s 1ms/step - loss: 0.4523 - accuracy: 0.7853\n",
            "Epoch 15/50\n",
            "88/88 [==============================] - 0s 1ms/step - loss: 0.4649 - accuracy: 0.7811\n",
            "Epoch 16/50\n",
            "88/88 [==============================] - 0s 1ms/step - loss: 0.4485 - accuracy: 0.7933\n",
            "Epoch 17/50\n",
            "88/88 [==============================] - 0s 1ms/step - loss: 0.4428 - accuracy: 0.7885\n",
            "Epoch 18/50\n",
            "88/88 [==============================] - 0s 1ms/step - loss: 0.4441 - accuracy: 0.7905\n",
            "Epoch 19/50\n",
            "88/88 [==============================] - 0s 1ms/step - loss: 0.4420 - accuracy: 0.7925\n",
            "Epoch 20/50\n",
            "88/88 [==============================] - 0s 1ms/step - loss: 0.4482 - accuracy: 0.7883\n",
            "Epoch 21/50\n",
            "88/88 [==============================] - 0s 1ms/step - loss: 0.4476 - accuracy: 0.7886\n",
            "Epoch 22/50\n",
            "88/88 [==============================] - 0s 1ms/step - loss: 0.4386 - accuracy: 0.8081\n",
            "Epoch 23/50\n",
            "88/88 [==============================] - 0s 2ms/step - loss: 0.4445 - accuracy: 0.7884\n",
            "Epoch 24/50\n",
            "88/88 [==============================] - 0s 1ms/step - loss: 0.4524 - accuracy: 0.7896\n",
            "Epoch 25/50\n",
            "88/88 [==============================] - 0s 1ms/step - loss: 0.4270 - accuracy: 0.8038\n",
            "Epoch 26/50\n",
            "88/88 [==============================] - 0s 1ms/step - loss: 0.4282 - accuracy: 0.8075\n",
            "Epoch 27/50\n",
            "88/88 [==============================] - 0s 1ms/step - loss: 0.4243 - accuracy: 0.8025\n",
            "Epoch 28/50\n",
            "88/88 [==============================] - 0s 1ms/step - loss: 0.4310 - accuracy: 0.7911\n",
            "Epoch 29/50\n",
            "88/88 [==============================] - 0s 1ms/step - loss: 0.4220 - accuracy: 0.8002\n",
            "Epoch 30/50\n",
            "88/88 [==============================] - 0s 1ms/step - loss: 0.4183 - accuracy: 0.8015\n",
            "Epoch 31/50\n",
            "88/88 [==============================] - 0s 1ms/step - loss: 0.4227 - accuracy: 0.8009\n",
            "Epoch 32/50\n",
            "88/88 [==============================] - 0s 1ms/step - loss: 0.4107 - accuracy: 0.8057\n",
            "Epoch 33/50\n",
            "88/88 [==============================] - 0s 1ms/step - loss: 0.3930 - accuracy: 0.8142\n",
            "Epoch 34/50\n",
            "88/88 [==============================] - 0s 1ms/step - loss: 0.4199 - accuracy: 0.8041\n",
            "Epoch 35/50\n",
            "88/88 [==============================] - 0s 1ms/step - loss: 0.4129 - accuracy: 0.8030\n",
            "Epoch 36/50\n",
            "88/88 [==============================] - 0s 2ms/step - loss: 0.4221 - accuracy: 0.7962\n",
            "Epoch 37/50\n",
            "88/88 [==============================] - 0s 1ms/step - loss: 0.4188 - accuracy: 0.8083\n",
            "Epoch 38/50\n",
            "88/88 [==============================] - 0s 1ms/step - loss: 0.4210 - accuracy: 0.8038\n",
            "Epoch 39/50\n",
            "88/88 [==============================] - 0s 1ms/step - loss: 0.3758 - accuracy: 0.8267\n",
            "Epoch 40/50\n",
            "88/88 [==============================] - 0s 1ms/step - loss: 0.4066 - accuracy: 0.8177\n",
            "Epoch 41/50\n",
            "88/88 [==============================] - 0s 1ms/step - loss: 0.4095 - accuracy: 0.8102\n",
            "Epoch 42/50\n",
            "88/88 [==============================] - 0s 1ms/step - loss: 0.3823 - accuracy: 0.8252\n",
            "Epoch 43/50\n",
            "88/88 [==============================] - 0s 1ms/step - loss: 0.3841 - accuracy: 0.8313\n",
            "Epoch 44/50\n",
            "88/88 [==============================] - 0s 1ms/step - loss: 0.3803 - accuracy: 0.8303\n",
            "Epoch 45/50\n",
            "88/88 [==============================] - 0s 1ms/step - loss: 0.3911 - accuracy: 0.8270\n",
            "Epoch 46/50\n",
            "88/88 [==============================] - 0s 1ms/step - loss: 0.3821 - accuracy: 0.8304\n",
            "Epoch 47/50\n",
            "88/88 [==============================] - 0s 1ms/step - loss: 0.3905 - accuracy: 0.8263\n",
            "Epoch 48/50\n",
            "88/88 [==============================] - 0s 1ms/step - loss: 0.3953 - accuracy: 0.8125\n",
            "Epoch 49/50\n",
            "88/88 [==============================] - 0s 1ms/step - loss: 0.3833 - accuracy: 0.8301\n",
            "Epoch 50/50\n",
            "88/88 [==============================] - 0s 1ms/step - loss: 0.3636 - accuracy: 0.8352\n",
            "30/30 [==============================] - 0s 939us/step - loss: 0.5529 - accuracy: 0.7337\n",
            "[0.5528787970542908, 0.7336898446083069]\n",
            "Classification Report: \n",
            "               precision    recall  f1-score   support\n",
            "\n",
            "           0       0.78      0.66      0.71       467\n",
            "           1       0.70      0.81      0.75       468\n",
            "\n",
            "    accuracy                           0.73       935\n",
            "   macro avg       0.74      0.73      0.73       935\n",
            "weighted avg       0.74      0.73      0.73       935\n",
            "\n"
          ],
          "name": "stdout"
        }
      ]
    },
    {
      "cell_type": "code",
      "metadata": {
        "colab": {
          "base_uri": "https://localhost:8080/"
        },
        "id": "rC8WsJjB_lDH",
        "outputId": "f2f37a06-5eed-41be-b638-135a663d3fed"
      },
      "source": [
        "NN_Model(df5.drop('Churn',axis=1),df5.Churn)"
      ],
      "execution_count": null,
      "outputs": [
        {
          "output_type": "stream",
          "text": [
            "Epoch 1/50\n",
            "88/88 [==============================] - 1s 1ms/step - loss: 0.6415 - accuracy: 0.6404\n",
            "Epoch 2/50\n",
            "88/88 [==============================] - 0s 1ms/step - loss: 0.5103 - accuracy: 0.7515\n",
            "Epoch 3/50\n",
            "88/88 [==============================] - 0s 1ms/step - loss: 0.4929 - accuracy: 0.7519\n",
            "Epoch 4/50\n",
            "88/88 [==============================] - 0s 1ms/step - loss: 0.5025 - accuracy: 0.7498\n",
            "Epoch 5/50\n",
            "88/88 [==============================] - 0s 1ms/step - loss: 0.4686 - accuracy: 0.7630\n",
            "Epoch 6/50\n",
            "88/88 [==============================] - 0s 1ms/step - loss: 0.4822 - accuracy: 0.7622\n",
            "Epoch 7/50\n",
            "88/88 [==============================] - 0s 1ms/step - loss: 0.4845 - accuracy: 0.7610\n",
            "Epoch 8/50\n",
            "88/88 [==============================] - 0s 1ms/step - loss: 0.4784 - accuracy: 0.7635\n",
            "Epoch 9/50\n",
            "88/88 [==============================] - 0s 1ms/step - loss: 0.4635 - accuracy: 0.7679\n",
            "Epoch 10/50\n",
            "88/88 [==============================] - 0s 1ms/step - loss: 0.4814 - accuracy: 0.7697\n",
            "Epoch 11/50\n",
            "88/88 [==============================] - 0s 1ms/step - loss: 0.4704 - accuracy: 0.7703\n",
            "Epoch 12/50\n",
            "88/88 [==============================] - 0s 1ms/step - loss: 0.4746 - accuracy: 0.7709\n",
            "Epoch 13/50\n",
            "88/88 [==============================] - 0s 1ms/step - loss: 0.4612 - accuracy: 0.7856\n",
            "Epoch 14/50\n",
            "88/88 [==============================] - 0s 1ms/step - loss: 0.4683 - accuracy: 0.7664\n",
            "Epoch 15/50\n",
            "88/88 [==============================] - 0s 1ms/step - loss: 0.4731 - accuracy: 0.7725\n",
            "Epoch 16/50\n",
            "88/88 [==============================] - 0s 1ms/step - loss: 0.4676 - accuracy: 0.7686\n",
            "Epoch 17/50\n",
            "88/88 [==============================] - 0s 1ms/step - loss: 0.4623 - accuracy: 0.7720\n",
            "Epoch 18/50\n",
            "88/88 [==============================] - 0s 1ms/step - loss: 0.4478 - accuracy: 0.7918\n",
            "Epoch 19/50\n",
            "88/88 [==============================] - 0s 1ms/step - loss: 0.4706 - accuracy: 0.7704\n",
            "Epoch 20/50\n",
            "88/88 [==============================] - 0s 1ms/step - loss: 0.4482 - accuracy: 0.7795\n",
            "Epoch 21/50\n",
            "88/88 [==============================] - 0s 1ms/step - loss: 0.4461 - accuracy: 0.7950\n",
            "Epoch 22/50\n",
            "88/88 [==============================] - 0s 1ms/step - loss: 0.4663 - accuracy: 0.7851\n",
            "Epoch 23/50\n",
            "88/88 [==============================] - 0s 2ms/step - loss: 0.4305 - accuracy: 0.8058\n",
            "Epoch 24/50\n",
            "88/88 [==============================] - 0s 1ms/step - loss: 0.4335 - accuracy: 0.8013\n",
            "Epoch 25/50\n",
            "88/88 [==============================] - 0s 1ms/step - loss: 0.4652 - accuracy: 0.7767\n",
            "Epoch 26/50\n",
            "88/88 [==============================] - 0s 1ms/step - loss: 0.4395 - accuracy: 0.7918\n",
            "Epoch 27/50\n",
            "88/88 [==============================] - 0s 1ms/step - loss: 0.4602 - accuracy: 0.7817\n",
            "Epoch 28/50\n",
            "88/88 [==============================] - 0s 1ms/step - loss: 0.4391 - accuracy: 0.7967\n",
            "Epoch 29/50\n",
            "88/88 [==============================] - 0s 1ms/step - loss: 0.4287 - accuracy: 0.8087\n",
            "Epoch 30/50\n",
            "88/88 [==============================] - 0s 1ms/step - loss: 0.4231 - accuracy: 0.8026\n",
            "Epoch 31/50\n",
            "88/88 [==============================] - 0s 1ms/step - loss: 0.4199 - accuracy: 0.8061\n",
            "Epoch 32/50\n",
            "88/88 [==============================] - 0s 1ms/step - loss: 0.4338 - accuracy: 0.7997\n",
            "Epoch 33/50\n",
            "88/88 [==============================] - 0s 1ms/step - loss: 0.4399 - accuracy: 0.7913\n",
            "Epoch 34/50\n",
            "88/88 [==============================] - 0s 1ms/step - loss: 0.4308 - accuracy: 0.8043\n",
            "Epoch 35/50\n",
            "88/88 [==============================] - 0s 1ms/step - loss: 0.4209 - accuracy: 0.8035\n",
            "Epoch 36/50\n",
            "88/88 [==============================] - 0s 1ms/step - loss: 0.4036 - accuracy: 0.8213\n",
            "Epoch 37/50\n",
            "88/88 [==============================] - 0s 1ms/step - loss: 0.4151 - accuracy: 0.8145\n",
            "Epoch 38/50\n",
            "88/88 [==============================] - 0s 1ms/step - loss: 0.4239 - accuracy: 0.8049\n",
            "Epoch 39/50\n",
            "88/88 [==============================] - 0s 1ms/step - loss: 0.4133 - accuracy: 0.8156\n",
            "Epoch 40/50\n",
            "88/88 [==============================] - 0s 1ms/step - loss: 0.4088 - accuracy: 0.8182\n",
            "Epoch 41/50\n",
            "88/88 [==============================] - 0s 1ms/step - loss: 0.4115 - accuracy: 0.8065\n",
            "Epoch 42/50\n",
            "88/88 [==============================] - 0s 1ms/step - loss: 0.4032 - accuracy: 0.8157\n",
            "Epoch 43/50\n",
            "88/88 [==============================] - 0s 1ms/step - loss: 0.4190 - accuracy: 0.8149\n",
            "Epoch 44/50\n",
            "88/88 [==============================] - 0s 1ms/step - loss: 0.3984 - accuracy: 0.8218\n",
            "Epoch 45/50\n",
            "88/88 [==============================] - 0s 1ms/step - loss: 0.3954 - accuracy: 0.8187\n",
            "Epoch 46/50\n",
            "88/88 [==============================] - 0s 1ms/step - loss: 0.3944 - accuracy: 0.8178\n",
            "Epoch 47/50\n",
            "88/88 [==============================] - 0s 1ms/step - loss: 0.4094 - accuracy: 0.8222\n",
            "Epoch 48/50\n",
            "88/88 [==============================] - 0s 1ms/step - loss: 0.3983 - accuracy: 0.8174\n",
            "Epoch 49/50\n",
            "88/88 [==============================] - 0s 1ms/step - loss: 0.3839 - accuracy: 0.8345\n",
            "Epoch 50/50\n",
            "88/88 [==============================] - 0s 1ms/step - loss: 0.4016 - accuracy: 0.8185\n",
            "30/30 [==============================] - 0s 1ms/step - loss: 0.5632 - accuracy: 0.7390\n",
            "[0.5632417798042297, 0.7390374541282654]\n",
            "Classification Report: \n",
            "               precision    recall  f1-score   support\n",
            "\n",
            "           0       0.74      0.75      0.74       467\n",
            "           1       0.74      0.73      0.74       468\n",
            "\n",
            "    accuracy                           0.74       935\n",
            "   macro avg       0.74      0.74      0.74       935\n",
            "weighted avg       0.74      0.74      0.74       935\n",
            "\n"
          ],
          "name": "stdout"
        }
      ]
    },
    {
      "cell_type": "code",
      "metadata": {
        "colab": {
          "base_uri": "https://localhost:8080/"
        },
        "id": "LIQ802iL_r-K",
        "outputId": "2867f2c6-b71a-4193-e656-66fcde8cea95"
      },
      "source": [
        "NN_Model(df6.drop('Churn',axis=1),df6.Churn)"
      ],
      "execution_count": null,
      "outputs": [
        {
          "output_type": "stream",
          "text": [
            "Epoch 1/50\n",
            "78/78 [==============================] - 1s 1ms/step - loss: 0.6081 - accuracy: 0.7050\n",
            "Epoch 2/50\n",
            "78/78 [==============================] - 0s 1ms/step - loss: 0.4999 - accuracy: 0.7593\n",
            "Epoch 3/50\n",
            "78/78 [==============================] - 0s 1ms/step - loss: 0.4806 - accuracy: 0.7758\n",
            "Epoch 4/50\n",
            "78/78 [==============================] - 0s 1ms/step - loss: 0.4795 - accuracy: 0.7716\n",
            "Epoch 5/50\n",
            "78/78 [==============================] - 0s 1ms/step - loss: 0.4532 - accuracy: 0.7835\n",
            "Epoch 6/50\n",
            "78/78 [==============================] - 0s 1ms/step - loss: 0.4669 - accuracy: 0.7913\n",
            "Epoch 7/50\n",
            "78/78 [==============================] - 0s 1ms/step - loss: 0.4679 - accuracy: 0.7838\n",
            "Epoch 8/50\n",
            "78/78 [==============================] - 0s 1ms/step - loss: 0.4498 - accuracy: 0.7920\n",
            "Epoch 9/50\n",
            "78/78 [==============================] - 0s 1ms/step - loss: 0.4603 - accuracy: 0.7950\n",
            "Epoch 10/50\n",
            "78/78 [==============================] - 0s 1ms/step - loss: 0.4616 - accuracy: 0.7776\n",
            "Epoch 11/50\n",
            "78/78 [==============================] - 0s 1ms/step - loss: 0.4652 - accuracy: 0.7879\n",
            "Epoch 12/50\n",
            "78/78 [==============================] - 0s 1ms/step - loss: 0.4393 - accuracy: 0.7966\n",
            "Epoch 13/50\n",
            "78/78 [==============================] - 0s 1ms/step - loss: 0.4559 - accuracy: 0.8012\n",
            "Epoch 14/50\n",
            "78/78 [==============================] - 0s 1ms/step - loss: 0.4325 - accuracy: 0.8031\n",
            "Epoch 15/50\n",
            "78/78 [==============================] - 0s 1ms/step - loss: 0.4405 - accuracy: 0.7932\n",
            "Epoch 16/50\n",
            "78/78 [==============================] - 0s 1ms/step - loss: 0.4322 - accuracy: 0.8097\n",
            "Epoch 17/50\n",
            "78/78 [==============================] - 0s 1ms/step - loss: 0.4432 - accuracy: 0.7950\n",
            "Epoch 18/50\n",
            "78/78 [==============================] - 0s 1ms/step - loss: 0.4214 - accuracy: 0.8075\n",
            "Epoch 19/50\n",
            "78/78 [==============================] - 0s 1ms/step - loss: 0.4219 - accuracy: 0.8054\n",
            "Epoch 20/50\n",
            "78/78 [==============================] - 0s 1ms/step - loss: 0.4266 - accuracy: 0.8072\n",
            "Epoch 21/50\n",
            "78/78 [==============================] - 0s 1ms/step - loss: 0.4180 - accuracy: 0.8151\n",
            "Epoch 22/50\n",
            "78/78 [==============================] - 0s 1ms/step - loss: 0.4241 - accuracy: 0.8087\n",
            "Epoch 23/50\n",
            "78/78 [==============================] - 0s 1ms/step - loss: 0.4308 - accuracy: 0.8044\n",
            "Epoch 24/50\n",
            "78/78 [==============================] - 0s 1ms/step - loss: 0.4166 - accuracy: 0.8220\n",
            "Epoch 25/50\n",
            "78/78 [==============================] - 0s 1ms/step - loss: 0.4098 - accuracy: 0.8113\n",
            "Epoch 26/50\n",
            "78/78 [==============================] - 0s 1ms/step - loss: 0.4317 - accuracy: 0.8058\n",
            "Epoch 27/50\n",
            "78/78 [==============================] - 0s 1ms/step - loss: 0.4061 - accuracy: 0.8167\n",
            "Epoch 28/50\n",
            "78/78 [==============================] - 0s 1ms/step - loss: 0.3940 - accuracy: 0.8180\n",
            "Epoch 29/50\n",
            "78/78 [==============================] - 0s 1ms/step - loss: 0.4016 - accuracy: 0.8248\n",
            "Epoch 30/50\n",
            "78/78 [==============================] - 0s 2ms/step - loss: 0.4018 - accuracy: 0.8202\n",
            "Epoch 31/50\n",
            "78/78 [==============================] - 0s 1ms/step - loss: 0.4009 - accuracy: 0.8130\n",
            "Epoch 32/50\n",
            "78/78 [==============================] - 0s 1ms/step - loss: 0.3952 - accuracy: 0.8200\n",
            "Epoch 33/50\n",
            "78/78 [==============================] - 0s 1ms/step - loss: 0.3931 - accuracy: 0.8248\n",
            "Epoch 34/50\n",
            "78/78 [==============================] - 0s 1ms/step - loss: 0.3854 - accuracy: 0.8297\n",
            "Epoch 35/50\n",
            "78/78 [==============================] - 0s 1ms/step - loss: 0.4128 - accuracy: 0.8149\n",
            "Epoch 36/50\n",
            "78/78 [==============================] - 0s 1ms/step - loss: 0.3931 - accuracy: 0.8264\n",
            "Epoch 37/50\n",
            "78/78 [==============================] - 0s 1ms/step - loss: 0.3884 - accuracy: 0.8282\n",
            "Epoch 38/50\n",
            "78/78 [==============================] - 0s 1ms/step - loss: 0.3787 - accuracy: 0.8318\n",
            "Epoch 39/50\n",
            "78/78 [==============================] - 0s 1ms/step - loss: 0.3738 - accuracy: 0.8288\n",
            "Epoch 40/50\n",
            "78/78 [==============================] - 0s 1ms/step - loss: 0.3920 - accuracy: 0.8179\n",
            "Epoch 41/50\n",
            "78/78 [==============================] - 0s 1ms/step - loss: 0.3634 - accuracy: 0.8457\n",
            "Epoch 42/50\n",
            "78/78 [==============================] - 0s 1ms/step - loss: 0.3834 - accuracy: 0.8356\n",
            "Epoch 43/50\n",
            "78/78 [==============================] - 0s 1ms/step - loss: 0.3742 - accuracy: 0.8383\n",
            "Epoch 44/50\n",
            "78/78 [==============================] - 0s 1ms/step - loss: 0.3696 - accuracy: 0.8325\n",
            "Epoch 45/50\n",
            "78/78 [==============================] - 0s 1ms/step - loss: 0.3577 - accuracy: 0.8395\n",
            "Epoch 46/50\n",
            "78/78 [==============================] - 0s 1ms/step - loss: 0.3671 - accuracy: 0.8367\n",
            "Epoch 47/50\n",
            "78/78 [==============================] - 0s 1ms/step - loss: 0.3535 - accuracy: 0.8424\n",
            "Epoch 48/50\n",
            "78/78 [==============================] - 0s 1ms/step - loss: 0.3711 - accuracy: 0.8290\n",
            "Epoch 49/50\n",
            "78/78 [==============================] - 0s 1ms/step - loss: 0.3487 - accuracy: 0.8483\n",
            "Epoch 50/50\n",
            "78/78 [==============================] - 0s 1ms/step - loss: 0.3614 - accuracy: 0.8390\n",
            "26/26 [==============================] - 0s 984us/step - loss: 0.5675 - accuracy: 0.7561\n",
            "[0.5674992799758911, 0.7560679316520691]\n",
            "Classification Report: \n",
            "               precision    recall  f1-score   support\n",
            "\n",
            "           0       0.75      0.65      0.70       356\n",
            "           1       0.76      0.84      0.80       468\n",
            "\n",
            "    accuracy                           0.76       824\n",
            "   macro avg       0.76      0.74      0.75       824\n",
            "weighted avg       0.76      0.76      0.75       824\n",
            "\n"
          ],
          "name": "stdout"
        }
      ]
    },
    {
      "cell_type": "code",
      "metadata": {
        "colab": {
          "base_uri": "https://localhost:8080/"
        },
        "id": "mrhVK6H-_uLt",
        "outputId": "6ef1c107-e04b-47a3-f660-663974fb553f"
      },
      "source": [
        "(0.73+0.74+0.76)/3"
      ],
      "execution_count": null,
      "outputs": [
        {
          "output_type": "execute_result",
          "data": {
            "text/plain": [
              "0.7433333333333333"
            ]
          },
          "metadata": {
            "tags": []
          },
          "execution_count": 126
        }
      ]
    },
    {
      "cell_type": "code",
      "metadata": {
        "id": "JzEDdgtF_2Hn"
      },
      "source": [
        "# ensemble also didn't help in our case. Over sampling was the best solution for our imbalanced set"
      ],
      "execution_count": null,
      "outputs": []
    },
    {
      "cell_type": "code",
      "metadata": {
        "id": "6SQkfii1AWl4"
      },
      "source": [
        ""
      ],
      "execution_count": null,
      "outputs": []
    }
  ]
}