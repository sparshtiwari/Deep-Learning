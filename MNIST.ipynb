{
  "nbformat": 4,
  "nbformat_minor": 0,
  "metadata": {
    "colab": {
      "name": "MNIST.ipynb",
      "provenance": [],
      "collapsed_sections": [],
      "authorship_tag": "ABX9TyOFZcikfxurZc0q2jngY4WW"
    },
    "kernelspec": {
      "name": "python3",
      "display_name": "Python 3"
    },
    "accelerator": "GPU"
  },
  "cells": [
    {
      "cell_type": "code",
      "metadata": {
        "id": "n6eQENFzL7P4",
        "colab_type": "code",
        "colab": {}
      },
      "source": [
        "#MNIST Using Conv 2D for higher accuracy.\n",
        "from tensorflow import keras\n",
        "from tensorflow.keras.models import Sequential\n",
        "from tensorflow.keras.layers import Dense, Flatten, Conv2D, MaxPooling2D, BatchNormalization, Dropout\n",
        "from tensorflow.keras.datasets import mnist\n",
        "from keras.utils import to_categorical"
      ],
      "execution_count": 1,
      "outputs": []
    },
    {
      "cell_type": "code",
      "metadata": {
        "id": "TQjc3ei4L_tR",
        "colab_type": "code",
        "colab": {
          "base_uri": "https://localhost:8080/",
          "height": 51
        },
        "outputId": "32b1eefa-5452-46c5-abaa-c1359bef9cd5"
      },
      "source": [
        "(x_train,y_train),(x_test,y_test)=mnist.load_data() #Loading MNIST Data From keras datasets.\n",
        "\n",
        "x_train=x_train.reshape(x_train.shape[0],28,28,1) #Reshaping the original data \n",
        "#since it is in greyscale and we are using Conv2D so adding a single channel \n",
        "#to make it compatible for Conv2D.\n",
        "x_test=x_test.reshape(x_test.shape[0],28,28,1)"
      ],
      "execution_count": 2,
      "outputs": [
        {
          "output_type": "stream",
          "text": [
            "Downloading data from https://storage.googleapis.com/tensorflow/tf-keras-datasets/mnist.npz\n",
            "11493376/11490434 [==============================] - 0s 0us/step\n"
          ],
          "name": "stdout"
        }
      ]
    },
    {
      "cell_type": "code",
      "metadata": {
        "id": "ShDunyfcMDFQ",
        "colab_type": "code",
        "colab": {}
      },
      "source": [
        "x_train=x_train.astype('float32') #converting to float before normalization so that there is no loss of data during normalization.\n",
        "x_test=x_test.astype('float32')\n",
        "x_train=x_train/255 # normalizing the data; used 255 since pixel values are stored in the range od 0-255.\n",
        "x_test=x_test/255"
      ],
      "execution_count": 3,
      "outputs": []
    },
    {
      "cell_type": "code",
      "metadata": {
        "id": "eVmHP-D7ML7L",
        "colab_type": "code",
        "colab": {}
      },
      "source": [
        "y_train=to_categorical(y_train) # Basically One Hot Encoding the data since there are 10 classes in our original data so creating those for our machine to understand.\n",
        "y_test=to_categorical(y_test)"
      ],
      "execution_count": 4,
      "outputs": []
    },
    {
      "cell_type": "code",
      "metadata": {
        "id": "Y7KQEd98MO_n",
        "colab_type": "code",
        "colab": {}
      },
      "source": [
        "#Building our own CNN model using Sequential Conv2D layers .\n",
        "model = Sequential()\n",
        "model.add(Conv2D(filters=32, kernel_size=(3, 3), activation='relu', strides=1, \n",
        "                  input_shape=(28,28,1)))\n",
        "model.add(BatchNormalization())\n",
        "\n",
        "model.add(Conv2D(filters=32, kernel_size=(3, 3), activation='relu', strides=1))\n",
        "model.add(BatchNormalization())\n",
        "model.add(Dropout(0.25))\n",
        "\n",
        "model.add(Conv2D(filters=64, kernel_size=(3, 3), activation='relu', strides=1))\n",
        "model.add(MaxPooling2D(pool_size=(2, 2)))\n",
        "model.add(Dropout(0.25))\n",
        "    \n",
        "    \n",
        "model.add(Conv2D(filters=128, kernel_size=(3, 3), activation='relu', strides=1))\n",
        "model.add(BatchNormalization())\n",
        "model.add(Dropout(0.25))\n",
        "\n",
        "model.add(Flatten())\n",
        "model.add(Dense(512, activation='relu'))\n",
        "model.add(BatchNormalization())\n",
        "model.add(Dropout(0.5))\n",
        "model.add(Dense(128, activation='relu'))\n",
        "model.add(BatchNormalization())\n",
        "model.add(Dropout(0.5))\n",
        "model.add(Dense(10, activation='softmax'))"
      ],
      "execution_count": 5,
      "outputs": []
    },
    {
      "cell_type": "code",
      "metadata": {
        "id": "Cou4GoYhMVNB",
        "colab_type": "code",
        "colab": {}
      },
      "source": [
        "model.compile(optimizer='adam',loss='categorical_crossentropy',metrics=['accuracy'])"
      ],
      "execution_count": 6,
      "outputs": []
    },
    {
      "cell_type": "code",
      "metadata": {
        "id": "CarG1gK8MZr1",
        "colab_type": "code",
        "colab": {
          "base_uri": "https://localhost:8080/",
          "height": 428
        },
        "outputId": "10bab92d-e72f-4c81-fec1-6c17374c92ff"
      },
      "source": [
        "model.fit(x_train,y_train,batch_size=200,epochs=10,validation_data=(x_test,y_test)) #achieves 99% accuracy easily."
      ],
      "execution_count": 7,
      "outputs": [
        {
          "output_type": "stream",
          "text": [
            "Epoch 1/10\n",
            "  2/300 [..............................] - ETA: 8s - loss: 3.1883 - accuracy: 0.1825WARNING:tensorflow:Callbacks method `on_train_batch_end` is slow compared to the batch time (batch time: 0.0133s vs `on_train_batch_end` time: 0.0433s). Check your callbacks.\n",
            "299/300 [============================>.] - ETA: 0s - loss: 0.2215 - accuracy: 0.9334WARNING:tensorflow:Callbacks method `on_test_batch_end` is slow compared to the batch time (batch time: 0.0020s vs `on_test_batch_end` time: 0.0093s). Check your callbacks.\n",
            "300/300 [==============================] - 14s 46ms/step - loss: 0.2210 - accuracy: 0.9336 - val_loss: 4.9800 - val_accuracy: 0.1142\n",
            "Epoch 2/10\n",
            "300/300 [==============================] - 13s 45ms/step - loss: 0.0711 - accuracy: 0.9790 - val_loss: 0.1763 - val_accuracy: 0.9441\n",
            "Epoch 3/10\n",
            "300/300 [==============================] - 13s 45ms/step - loss: 0.0523 - accuracy: 0.9845 - val_loss: 0.0296 - val_accuracy: 0.9904\n",
            "Epoch 4/10\n",
            "300/300 [==============================] - 13s 45ms/step - loss: 0.0418 - accuracy: 0.9876 - val_loss: 0.0218 - val_accuracy: 0.9934\n",
            "Epoch 5/10\n",
            "300/300 [==============================] - 13s 45ms/step - loss: 0.0366 - accuracy: 0.9888 - val_loss: 0.0214 - val_accuracy: 0.9929\n",
            "Epoch 6/10\n",
            "300/300 [==============================] - 13s 45ms/step - loss: 0.0315 - accuracy: 0.9905 - val_loss: 0.0367 - val_accuracy: 0.9887\n",
            "Epoch 7/10\n",
            "300/300 [==============================] - 13s 45ms/step - loss: 0.0294 - accuracy: 0.9910 - val_loss: 0.0237 - val_accuracy: 0.9934\n",
            "Epoch 8/10\n",
            "300/300 [==============================] - 13s 45ms/step - loss: 0.0255 - accuracy: 0.9921 - val_loss: 0.0251 - val_accuracy: 0.9935\n",
            "Epoch 9/10\n",
            "300/300 [==============================] - 13s 45ms/step - loss: 0.0243 - accuracy: 0.9926 - val_loss: 0.0216 - val_accuracy: 0.9929\n",
            "Epoch 10/10\n",
            "300/300 [==============================] - 13s 45ms/step - loss: 0.0228 - accuracy: 0.9931 - val_loss: 0.0299 - val_accuracy: 0.9910\n"
          ],
          "name": "stdout"
        },
        {
          "output_type": "execute_result",
          "data": {
            "text/plain": [
              "<tensorflow.python.keras.callbacks.History at 0x7ff5a05fefd0>"
            ]
          },
          "metadata": {
            "tags": []
          },
          "execution_count": 7
        }
      ]
    },
    {
      "cell_type": "code",
      "metadata": {
        "id": "0cMx1tMAMb2_",
        "colab_type": "code",
        "colab": {}
      },
      "source": [
        ""
      ],
      "execution_count": 7,
      "outputs": []
    }
  ]
}